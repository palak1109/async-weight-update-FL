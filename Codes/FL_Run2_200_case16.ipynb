{
  "metadata": {
    "kernelspec": {
      "language": "python",
      "display_name": "Python 3",
      "name": "python3"
    },
    "language_info": {
      "name": "python",
      "version": "3.7.12",
      "mimetype": "text/x-python",
      "codemirror_mode": {
        "name": "ipython",
        "version": 3
      },
      "pygments_lexer": "ipython3",
      "nbconvert_exporter": "python",
      "file_extension": ".py"
    },
    "colab": {
      "name": "Group2_FL_Run2_200_case16",
      "provenance": []
    }
  },
  "nbformat_minor": 0,
  "nbformat": 4,
  "cells": [
    {
      "cell_type": "code",
      "source": [
        "!pip install imutils"
      ],
      "metadata": {
        "_uuid": "8f2839f25d086af736a60e9eeb907d3b93b6e0e5",
        "_cell_guid": "b1076dfc-b9ad-4769-8c92-a6c4dae69d19",
        "execution": {
          "iopub.status.busy": "2022-06-12T16:33:13.268852Z",
          "iopub.execute_input": "2022-06-12T16:33:13.269565Z",
          "iopub.status.idle": "2022-06-12T16:33:29.985590Z",
          "shell.execute_reply.started": "2022-06-12T16:33:13.269443Z",
          "shell.execute_reply": "2022-06-12T16:33:29.984259Z"
        },
        "trusted": true,
        "id": "mOwApBVB_bHj",
        "outputId": "432058fc-11a6-4e4c-bf9b-88d400fb6e48"
      },
      "execution_count": null,
      "outputs": [
        {
          "name": "stdout",
          "text": "Collecting imutils\n  Downloading imutils-0.5.4.tar.gz (17 kB)\n  Preparing metadata (setup.py) ... \u001b[?25ldone\n\u001b[?25hBuilding wheels for collected packages: imutils\n  Building wheel for imutils (setup.py) ... \u001b[?25ldone\n\u001b[?25h  Created wheel for imutils: filename=imutils-0.5.4-py3-none-any.whl size=25858 sha256=400d8c6948b4bc42b4677f17aac3380fdedb8b775dfbc576c39048f1656a7db7\n  Stored in directory: /root/.cache/pip/wheels/86/d7/0a/4923351ed1cec5d5e24c1eaf8905567b02a0343b24aa873df2\nSuccessfully built imutils\nInstalling collected packages: imutils\nSuccessfully installed imutils-0.5.4\n\u001b[33mWARNING: Running pip as the 'root' user can result in broken permissions and conflicting behaviour with the system package manager. It is recommended to use a virtual environment instead: https://pip.pypa.io/warnings/venv\u001b[0m\u001b[33m\n\u001b[0m",
          "output_type": "stream"
        }
      ]
    },
    {
      "cell_type": "code",
      "source": [
        "import numpy as np\n",
        "import random\n",
        "import cv2\n",
        "import os\n",
        "from imutils import paths\n",
        "from sklearn.model_selection import train_test_split\n",
        "from sklearn.preprocessing import LabelBinarizer\n",
        "from sklearn.model_selection import train_test_split\n",
        "from sklearn.utils import shuffle\n",
        "from sklearn.metrics import accuracy_score\n",
        "from keras.preprocessing.image import ImageDataGenerator\n",
        "\n",
        "import tensorflow as tf\n",
        "from tensorflow.keras.models import Sequential \n",
        "from tensorflow.keras.layers import Conv2D, MaxPooling2D, Activation, Flatten, Dense, Dropout\n",
        "from tensorflow.keras.optimizers import Adam, SGD\n",
        "from tensorflow.keras import backend as K\n",
        "import matplotlib.pyplot as plt"
      ],
      "metadata": {
        "execution": {
          "iopub.status.busy": "2022-06-12T16:33:29.989152Z",
          "iopub.execute_input": "2022-06-12T16:33:29.990167Z",
          "iopub.status.idle": "2022-06-12T16:33:37.177157Z",
          "shell.execute_reply.started": "2022-06-12T16:33:29.990133Z",
          "shell.execute_reply": "2022-06-12T16:33:37.175855Z"
        },
        "trusted": true,
        "id": "nUh_mgSw_bHo"
      },
      "execution_count": null,
      "outputs": []
    },
    {
      "cell_type": "code",
      "source": [
        "# Set paths to root, train, test and validation directories\n",
        "_rootDir = '../input/braintumor/Brain/'\n",
        "#os.listdir(_rootDir)\n",
        "_trainDir = _rootDir + 'train/'\n",
        "_valDir = _rootDir + 'validation/'\n",
        "_testDir = _rootDir + 'test/'"
      ],
      "metadata": {
        "execution": {
          "iopub.status.busy": "2022-06-12T16:33:37.178653Z",
          "iopub.execute_input": "2022-06-12T16:33:37.179892Z",
          "iopub.status.idle": "2022-06-12T16:33:37.193089Z",
          "shell.execute_reply.started": "2022-06-12T16:33:37.179814Z",
          "shell.execute_reply": "2022-06-12T16:33:37.191807Z"
        },
        "trusted": true,
        "id": "M6CeEBr3_bHq"
      },
      "execution_count": null,
      "outputs": []
    },
    {
      "cell_type": "code",
      "source": [
        "# Function to preprocess and store images and labels\n",
        "def load(paths, verbose=-1):\n",
        "    '''\n",
        "        return:\n",
        "            _imageList: A list of Images\n",
        "            labels: A list of corresponding Labels\n",
        "        args:\n",
        "            paths: Path to main directory \n",
        "            * Must contain images belonging to a class as a single folder\n",
        "    '''\n",
        "    _imageList = list()\n",
        "    _labelList = list()\n",
        "    \n",
        "    for (i, _imgPath) in enumerate(paths):\n",
        "        \n",
        "        img = cv2.imread(_imgPath, cv2.IMREAD_GRAYSCALE)\n",
        "        # Set the desired height and weight of image data\n",
        "        _dimensions = (32, 32)\n",
        "        \n",
        "        # resize image\n",
        "        _image = cv2.resize(img, _dimensions, interpolation = cv2.INTER_AREA)\n",
        "        numpyImage = np.array(_image).flatten()\n",
        "        \n",
        "        # rescale the image\n",
        "        mupyImage = numpyImage/255\n",
        "        label = _imgPath.split(os.path.sep)[-2]\n",
        "        #print(label)\n",
        "        \n",
        "        _imageList.append(mupyImage)\n",
        "        _labelList.append(label)\n",
        "        \n",
        "    # return a tuple of the _imageList and _labelList\n",
        "    return _imageList, _labelList"
      ],
      "metadata": {
        "execution": {
          "iopub.status.busy": "2022-06-12T16:33:37.200756Z",
          "iopub.execute_input": "2022-06-12T16:33:37.203750Z",
          "iopub.status.idle": "2022-06-12T16:33:37.222147Z",
          "shell.execute_reply.started": "2022-06-12T16:33:37.203698Z",
          "shell.execute_reply": "2022-06-12T16:33:37.220586Z"
        },
        "trusted": true,
        "id": "fpJs2Udp_bHr"
      },
      "execution_count": null,
      "outputs": []
    },
    {
      "cell_type": "code",
      "source": [
        "def one_hot_encoding(path):\n",
        "    _path = list(paths.list_images(path))\n",
        "    _data, _labelList = load(_path, verbose=10000)\n",
        "    _lblzr = LabelBinarizer()\n",
        "    _labels = _lblzr.fit_transform(_labelList)\n",
        "    \n",
        "    return _data, _labels"
      ],
      "metadata": {
        "execution": {
          "iopub.status.busy": "2022-06-12T16:33:37.224118Z",
          "iopub.execute_input": "2022-06-12T16:33:37.225123Z",
          "iopub.status.idle": "2022-06-12T16:33:37.233926Z",
          "shell.execute_reply.started": "2022-06-12T16:33:37.225079Z",
          "shell.execute_reply": "2022-06-12T16:33:37.232457Z"
        },
        "trusted": true,
        "id": "aUrBeMO7_bHt"
      },
      "execution_count": null,
      "outputs": []
    },
    {
      "cell_type": "code",
      "source": [
        "# Preprocess training data\n",
        "_trainX, _trainY = one_hot_encoding(_trainDir)\n",
        "#print(len(_trainX))\n",
        "#print(type(_trainY))"
      ],
      "metadata": {
        "execution": {
          "iopub.status.busy": "2022-06-12T16:33:37.235917Z",
          "iopub.execute_input": "2022-06-12T16:33:37.237418Z",
          "iopub.status.idle": "2022-06-12T16:34:35.475727Z",
          "shell.execute_reply.started": "2022-06-12T16:33:37.237361Z",
          "shell.execute_reply": "2022-06-12T16:34:35.474560Z"
        },
        "trusted": true,
        "id": "AnaTcBiB_bHv"
      },
      "execution_count": null,
      "outputs": []
    },
    {
      "cell_type": "markdown",
      "source": [
        ""
      ],
      "metadata": {
        "id": "24H3_r1Y_bHw"
      }
    },
    {
      "cell_type": "code",
      "source": [
        "# Preprocess validation and test data\n",
        "_valX, _valY = one_hot_encoding(_valDir)\n",
        "\n",
        "_testX, _testY = one_hot_encoding(_testDir)"
      ],
      "metadata": {
        "execution": {
          "iopub.status.busy": "2022-06-12T16:34:35.477274Z",
          "iopub.execute_input": "2022-06-12T16:34:35.477712Z",
          "iopub.status.idle": "2022-06-12T16:34:46.735879Z",
          "shell.execute_reply.started": "2022-06-12T16:34:35.477671Z",
          "shell.execute_reply": "2022-06-12T16:34:46.734813Z"
        },
        "trusted": true,
        "id": "pup-HixF_bH1"
      },
      "execution_count": null,
      "outputs": []
    },
    {
      "cell_type": "code",
      "source": [
        "def create_clients(image_list, label_list, num_clients):\n",
        "    ''' return: a dictionary with keys clients' names and value as \n",
        "                data shards - tuple of images and label lists.\n",
        "        args: \n",
        "            image_list: a list of numpy arrays of training images\n",
        "            label_list:a list of binarized labels for each image\n",
        "            num_client: number of fedrated members (clients)\n",
        "            initials: the clients'name prefix, e.g, clients_1 \n",
        "            \n",
        "    '''\n",
        "\n",
        "    #create a list of client names\n",
        "    _clientNames = []\n",
        "    for i in range(num_clients):\n",
        "        _client = '{}_{}'.format('client', i+1)\n",
        "        _clientNames.append(_client)\n",
        "\n",
        "    #randomize the data\n",
        "    data = list(zip(image_list, label_list))\n",
        "    random.shuffle(data)\n",
        "\n",
        "    #shard data and place at each client\n",
        "    size = len(data)//num_clients\n",
        "    \n",
        "    _clientShards =[]\n",
        "    for i in range(0, size*num_clients, size):\n",
        "        _shard = data[i: i+size]\n",
        "        _clientShards.append(_shard)\n",
        "    \n",
        "    #number of clients must equal number of shards\n",
        "    if len(_clientShards) == len(_clientNames):\n",
        "        _clientDict = {}\n",
        "        for i in range(len(_clientNames)):\n",
        "            _clientDict[_clientNames[i]] = _clientShards[i]\n",
        "        return _clientDict\n",
        "    else:\n",
        "        return 0\n",
        "    "
      ],
      "metadata": {
        "execution": {
          "iopub.status.busy": "2022-06-12T16:34:46.737341Z",
          "iopub.execute_input": "2022-06-12T16:34:46.737785Z",
          "iopub.status.idle": "2022-06-12T16:34:46.751396Z",
          "shell.execute_reply.started": "2022-06-12T16:34:46.737740Z",
          "shell.execute_reply": "2022-06-12T16:34:46.750005Z"
        },
        "trusted": true,
        "id": "e-8UeU1D_bH4"
      },
      "execution_count": null,
      "outputs": []
    },
    {
      "cell_type": "code",
      "source": [
        "clients = create_clients(_trainX, _trainY, num_clients = 7)"
      ],
      "metadata": {
        "execution": {
          "iopub.status.busy": "2022-06-12T16:34:46.754182Z",
          "iopub.execute_input": "2022-06-12T16:34:46.755806Z",
          "iopub.status.idle": "2022-06-12T16:34:46.770176Z",
          "shell.execute_reply.started": "2022-06-12T16:34:46.755747Z",
          "shell.execute_reply": "2022-06-12T16:34:46.769087Z"
        },
        "trusted": true,
        "id": "0HG3G-ja_bH6"
      },
      "execution_count": null,
      "outputs": []
    },
    {
      "cell_type": "code",
      "source": [
        "def batch_data(data_shard, bs=64):\n",
        "    \n",
        "    # Create tensorflow datasets from each client's data shards\n",
        "    data, label = zip(*data_shard)\n",
        "    #print(\"----------------\"+str(type(data)))\n",
        "    dataset = tf.data.Dataset.from_tensor_slices((list(data), list(label)))\n",
        "    return dataset.shuffle(len(label)).batch(bs)"
      ],
      "metadata": {
        "execution": {
          "iopub.status.busy": "2022-06-12T16:34:46.776662Z",
          "iopub.execute_input": "2022-06-12T16:34:46.777084Z",
          "iopub.status.idle": "2022-06-12T16:34:46.786042Z",
          "shell.execute_reply.started": "2022-06-12T16:34:46.777055Z",
          "shell.execute_reply": "2022-06-12T16:34:46.784675Z"
        },
        "trusted": true,
        "id": "vYWZagyY_bH7"
      },
      "execution_count": null,
      "outputs": []
    },
    {
      "cell_type": "code",
      "source": [
        "# Create batches for training data\n",
        "clients_batched = dict()\n",
        "\n",
        "for (client_name, data) in clients.items():\n",
        "    clients_batched[client_name] = batch_data(data)"
      ],
      "metadata": {
        "execution": {
          "iopub.status.busy": "2022-06-12T16:34:46.787786Z",
          "iopub.execute_input": "2022-06-12T16:34:46.788493Z",
          "iopub.status.idle": "2022-06-12T16:34:51.155111Z",
          "shell.execute_reply.started": "2022-06-12T16:34:46.788415Z",
          "shell.execute_reply": "2022-06-12T16:34:51.152523Z"
        },
        "trusted": true,
        "id": "ao-SiNbV_bH8",
        "outputId": "f3e64eaf-6a1b-46ee-e9b8-1656ea847980"
      },
      "execution_count": null,
      "outputs": [
        {
          "name": "stderr",
          "text": "2022-06-12 16:34:46.880743: I tensorflow/stream_executor/cuda/cuda_gpu_executor.cc:937] successful NUMA node read from SysFS had negative value (-1), but there must be at least one NUMA node, so returning NUMA node zero\n2022-06-12 16:34:47.036815: I tensorflow/stream_executor/cuda/cuda_gpu_executor.cc:937] successful NUMA node read from SysFS had negative value (-1), but there must be at least one NUMA node, so returning NUMA node zero\n2022-06-12 16:34:47.037877: I tensorflow/stream_executor/cuda/cuda_gpu_executor.cc:937] successful NUMA node read from SysFS had negative value (-1), but there must be at least one NUMA node, so returning NUMA node zero\n2022-06-12 16:34:47.040779: I tensorflow/core/platform/cpu_feature_guard.cc:142] This TensorFlow binary is optimized with oneAPI Deep Neural Network Library (oneDNN) to use the following CPU instructions in performance-critical operations:  AVX2 FMA\nTo enable them in other operations, rebuild TensorFlow with the appropriate compiler flags.\n2022-06-12 16:34:47.041125: I tensorflow/stream_executor/cuda/cuda_gpu_executor.cc:937] successful NUMA node read from SysFS had negative value (-1), but there must be at least one NUMA node, so returning NUMA node zero\n2022-06-12 16:34:47.042345: I tensorflow/stream_executor/cuda/cuda_gpu_executor.cc:937] successful NUMA node read from SysFS had negative value (-1), but there must be at least one NUMA node, so returning NUMA node zero\n2022-06-12 16:34:47.043510: I tensorflow/stream_executor/cuda/cuda_gpu_executor.cc:937] successful NUMA node read from SysFS had negative value (-1), but there must be at least one NUMA node, so returning NUMA node zero\n2022-06-12 16:34:49.758669: I tensorflow/stream_executor/cuda/cuda_gpu_executor.cc:937] successful NUMA node read from SysFS had negative value (-1), but there must be at least one NUMA node, so returning NUMA node zero\n2022-06-12 16:34:49.759844: I tensorflow/stream_executor/cuda/cuda_gpu_executor.cc:937] successful NUMA node read from SysFS had negative value (-1), but there must be at least one NUMA node, so returning NUMA node zero\n2022-06-12 16:34:49.760939: I tensorflow/stream_executor/cuda/cuda_gpu_executor.cc:937] successful NUMA node read from SysFS had negative value (-1), but there must be at least one NUMA node, so returning NUMA node zero\n2022-06-12 16:34:49.761809: I tensorflow/core/common_runtime/gpu/gpu_device.cc:1510] Created device /job:localhost/replica:0/task:0/device:GPU:0 with 15403 MB memory:  -> device: 0, name: Tesla P100-PCIE-16GB, pci bus id: 0000:00:04.0, compute capability: 6.0\n",
          "output_type": "stream"
        }
      ]
    },
    {
      "cell_type": "code",
      "source": [
        "#process and batch the test set  \n",
        "test_batched = tf.data.Dataset.from_tensor_slices((_testX, _testY)).batch(len(_testY))\n",
        "\n",
        "#process and batch the test set  \n",
        "val_batched = tf.data.Dataset.from_tensor_slices((_valX, _valY)).batch(len(_valY))"
      ],
      "metadata": {
        "execution": {
          "iopub.status.busy": "2022-06-12T16:34:51.157051Z",
          "iopub.execute_input": "2022-06-12T16:34:51.157953Z",
          "iopub.status.idle": "2022-06-12T16:34:51.383196Z",
          "shell.execute_reply.started": "2022-06-12T16:34:51.157909Z",
          "shell.execute_reply": "2022-06-12T16:34:51.382155Z"
        },
        "trusted": true,
        "id": "elK2hVgS_bH9"
      },
      "execution_count": null,
      "outputs": []
    },
    {
      "cell_type": "code",
      "source": [
        "# Define the hyperparameters\n",
        "lr = 0.01 \n",
        "_globalEpochs = 200\n",
        "loss='categorical_crossentropy'\n",
        "metrics = ['accuracy'] \n",
        "optimizer = SGD(lr=lr, \n",
        "                decay=lr / _globalEpochs, \n",
        "                momentum=0.9\n",
        "               )   \n",
        "activationFunction = \"relu\""
      ],
      "metadata": {
        "execution": {
          "iopub.status.busy": "2022-06-12T16:34:51.384952Z",
          "iopub.execute_input": "2022-06-12T16:34:51.385402Z",
          "iopub.status.idle": "2022-06-12T16:34:51.395961Z",
          "shell.execute_reply.started": "2022-06-12T16:34:51.385359Z",
          "shell.execute_reply": "2022-06-12T16:34:51.394714Z"
        },
        "trusted": true,
        "id": "0nAn4w6-_bH-",
        "outputId": "9f44babb-1089-4f58-e709-5a37fee84734"
      },
      "execution_count": null,
      "outputs": [
        {
          "name": "stderr",
          "text": "/opt/conda/lib/python3.7/site-packages/keras/optimizer_v2/optimizer_v2.py:356: UserWarning: The `lr` argument is deprecated, use `learning_rate` instead.\n  \"The `lr` argument is deprecated, use `learning_rate` instead.\")\n",
          "output_type": "stream"
        }
      ]
    },
    {
      "cell_type": "code",
      "source": [
        "# Class for model architecture\n",
        "class MLP:\n",
        "    @staticmethod\n",
        "    def _buildModel(shape, classes):\n",
        "        model = Sequential()\n",
        "        model.add(Dense(200, input_shape=(shape,)))\n",
        "        model.add(Activation(\"relu\"))\n",
        "        model.add(Dense(200))\n",
        "        model.add(Activation(\"relu\"))\n",
        "        model.add(Dense(200))\n",
        "        model.add(Activation(\"relu\"))\n",
        "        model.add(Dense(200))\n",
        "        model.add(Activation(\"relu\"))\n",
        "        model.add(Dense(200))\n",
        "        model.add(Activation(\"relu\"))\n",
        "        model.add(Dense(classes))\n",
        "        model.add(Activation(\"softmax\"))\n",
        "        \n",
        "        #print(model.summary())\n",
        "        return model"
      ],
      "metadata": {
        "execution": {
          "iopub.status.busy": "2022-06-12T16:34:51.397928Z",
          "iopub.execute_input": "2022-06-12T16:34:51.398721Z",
          "iopub.status.idle": "2022-06-12T16:34:51.409504Z",
          "shell.execute_reply.started": "2022-06-12T16:34:51.398676Z",
          "shell.execute_reply": "2022-06-12T16:34:51.408506Z"
        },
        "trusted": true,
        "id": "VeuZ_ItR_bH_"
      },
      "execution_count": null,
      "outputs": []
    },
    {
      "cell_type": "code",
      "source": [
        "def _globalAverageWeights(_localWeightList):\n",
        "    _averageWeights = list()\n",
        "    \n",
        "    for _list in zip(*_localWeightList):\n",
        "        _sum = tf.math.reduce_sum(_list, axis=0)\n",
        "        _averageWeights.append(_sum)\n",
        "        \n",
        "    return _averageWeights"
      ],
      "metadata": {
        "execution": {
          "iopub.status.busy": "2022-06-12T16:34:51.411559Z",
          "iopub.execute_input": "2022-06-12T16:34:51.412032Z",
          "iopub.status.idle": "2022-06-12T16:34:51.422702Z",
          "shell.execute_reply.started": "2022-06-12T16:34:51.411974Z",
          "shell.execute_reply": "2022-06-12T16:34:51.421218Z"
        },
        "trusted": true,
        "id": "GmMc4jT4_bIA"
      },
      "execution_count": null,
      "outputs": []
    },
    {
      "cell_type": "code",
      "source": [
        "def _getScalingFactor(_trainData, _clientName, _batchSize):\n",
        "    \n",
        "    _clients = list(_trainData.keys())\n",
        "    \n",
        "    #first calculate the total training data points across clinets\n",
        "    _gblLength = list()\n",
        "    _gblCount = 0\n",
        "    \n",
        "    for client in _clients:\n",
        "        _length = tf.data.experimental.cardinality(_trainData[client]).numpy()\n",
        "        _gblLength.append(_length)\n",
        "        \n",
        "    _gblCount = sum(_gblLength) * _batchSize\n",
        "\n",
        "    # get the total number of data points held by a client\n",
        "    _lclCount = tf.data.experimental.cardinality(_trainData[_clientName]).numpy()*_batchSize\n",
        "    \n",
        "    return _lclCount/_gblCount"
      ],
      "metadata": {
        "execution": {
          "iopub.status.busy": "2022-06-12T16:34:51.424220Z",
          "iopub.execute_input": "2022-06-12T16:34:51.424796Z",
          "iopub.status.idle": "2022-06-12T16:34:51.435555Z",
          "shell.execute_reply.started": "2022-06-12T16:34:51.424751Z",
          "shell.execute_reply": "2022-06-12T16:34:51.434049Z"
        },
        "trusted": true,
        "id": "jMeXO4PT_bIA"
      },
      "execution_count": null,
      "outputs": []
    },
    {
      "cell_type": "code",
      "source": [
        "def _scaleWeights(weight, scalar):\n",
        "    '''function for scaling a models weights'''\n",
        "    weight_final = []\n",
        "    steps = len(weight)\n",
        "    for i in range(steps):\n",
        "        weight_final.append(scalar * weight[i])\n",
        "    return weight_final\n"
      ],
      "metadata": {
        "execution": {
          "iopub.status.busy": "2022-06-12T16:34:51.437739Z",
          "iopub.execute_input": "2022-06-12T16:34:51.438326Z",
          "iopub.status.idle": "2022-06-12T16:34:51.448753Z",
          "shell.execute_reply.started": "2022-06-12T16:34:51.438250Z",
          "shell.execute_reply": "2022-06-12T16:34:51.447623Z"
        },
        "trusted": true,
        "id": "mSxKduya_bIB"
      },
      "execution_count": null,
      "outputs": []
    },
    {
      "cell_type": "code",
      "source": [
        "def test_model(X_test, Y_test,  model, comm_round):\n",
        "    \n",
        "    cce = tf.keras.losses.CategoricalCrossentropy(from_logits=True)\n",
        "    logits = model.predict(X_test)\n",
        "\n",
        "    loss = cce(Y_test, logits)\n",
        "\n",
        "    acc = accuracy_score(tf.argmax(logits, axis=1), tf.argmax(Y_test, axis=1))\n",
        "    print('comm_round: {} | global_acc: {:.3%} | global_loss: {}'.format(comm_round, acc, loss))\n",
        "    return acc, loss"
      ],
      "metadata": {
        "execution": {
          "iopub.status.busy": "2022-06-12T16:34:51.449961Z",
          "iopub.execute_input": "2022-06-12T16:34:51.450345Z",
          "iopub.status.idle": "2022-06-12T16:34:51.461706Z",
          "shell.execute_reply.started": "2022-06-12T16:34:51.450275Z",
          "shell.execute_reply": "2022-06-12T16:34:51.460270Z"
        },
        "trusted": true,
        "id": "KV-TggWV_bIC"
      },
      "execution_count": null,
      "outputs": []
    },
    {
      "cell_type": "code",
      "source": [
        "def _trainModel(_epochStep, _shallowLayers, _totalLayers):\n",
        "    #initialize global model\n",
        "    _globalObject = MLP()\n",
        "    globalModel = _globalObject._buildModel(1024, 4)\n",
        "\n",
        "    _globalAccuracy = list()\n",
        "    _globalLoss = list()\n",
        "    \n",
        "    shallow_index = 2 * _shallowLayers\n",
        "    total_index = 2 * _totalLayers\n",
        "    #commence global training loop\n",
        "    for _gEpoch in range(_globalEpochs):\n",
        "\n",
        "        # get the global model's weights - will serve as the initial weights for all local models\n",
        "        _globalWeights = globalModel.get_weights()\n",
        "\n",
        "        #print(type(global_weights))\n",
        "        global_deep_weights = _globalWeights[shallow_index:total_index]\n",
        "\n",
        "        #initial list to collect local model weights after scalling\n",
        "        _localWeightList = list()\n",
        "\n",
        "        #randomize client data - using keys\n",
        "        client_names= list(clients_batched.keys())\n",
        "        random.shuffle(client_names)\n",
        "        factor = 0\n",
        "        #loop through each client and create new local model\n",
        "        for client in client_names:\n",
        "            _localObject = MLP()\n",
        "            localModel = _localObject._buildModel(1024, 4)\n",
        "            localModel.compile(loss=loss, \n",
        "                          optimizer=optimizer, \n",
        "                          metrics=metrics)\n",
        "\n",
        "\n",
        "            #set local model weight to the weight of the global model\n",
        "            localModel.set_weights(_globalWeights)\n",
        "\n",
        "            #fit local model with client's data\n",
        "            localModel.fit(clients_batched[client], epochs=10, verbose=0)\n",
        "            lm = localModel.get_weights()\n",
        "\n",
        "            if _gEpoch%_epochStep != 0:\n",
        "                shallow_weights = lm[0:shallow_index]\n",
        "                deep_weights = lm[shallow_index:total_index]\n",
        "                comm_weights = shallow_weights\n",
        "            else:\n",
        "                comm_weights = lm\n",
        "\n",
        "            #scale the model weights and add to list\n",
        "            _scalingFactor = _getScalingFactor(clients_batched, client, 64)\n",
        "            scaledWeights = _scaleWeights(comm_weights, _scalingFactor)\n",
        "\n",
        "            #scaled_weights = _scaleLocalWeights(clients_batched,comm_weights, 64, client)\n",
        "            _localWeightList.append(scaledWeights)\n",
        "            factor = _scalingFactor\n",
        "\n",
        "            #clear session to free memory after each communication round\n",
        "            K.clear_session()\n",
        "\n",
        "        globalScaledWeights = _scaleWeights(global_deep_weights, factor)\n",
        "\n",
        "        if _gEpoch%_epochStep != 0:\n",
        "            final_weights = list()\n",
        "            for i in range(len(_localWeightList)):\n",
        "                _weight = _localWeightList[i] + globalScaledWeights\n",
        "                final_weights.append(_weight)\n",
        "\n",
        "        else:\n",
        "            final_weights = _localWeightList\n",
        "\n",
        "        #to get the average over all the local model, we simply take the sum of the scaled weights\n",
        "        #average_weights = sum_scaled_weights(scaled_local_weight_list)\n",
        "        average_weights = _globalAverageWeights(final_weights)\n",
        "\n",
        "        #update global model \n",
        "        globalModel.set_weights(average_weights)\n",
        "\n",
        "        #test global model and print out metrics after each communications round\n",
        "\n",
        "        for(X_val, Y_val) in val_batched:\n",
        "            global_acc, global_loss = test_model(X_val, Y_val, globalModel, _gEpoch)\n",
        "            _globalAccuracy.append(global_acc)\n",
        "            _globalLoss.append(global_loss)\n",
        "        \n",
        "    return globalModel,_globalAccuracy, _globalLoss\n",
        "        "
      ],
      "metadata": {
        "execution": {
          "iopub.status.busy": "2022-06-12T16:34:51.463863Z",
          "iopub.execute_input": "2022-06-12T16:34:51.464566Z",
          "iopub.status.idle": "2022-06-12T16:34:51.485189Z",
          "shell.execute_reply.started": "2022-06-12T16:34:51.464521Z",
          "shell.execute_reply": "2022-06-12T16:34:51.483969Z"
        },
        "trusted": true,
        "id": "cElsreHG_bIC"
      },
      "execution_count": null,
      "outputs": []
    },
    {
      "cell_type": "code",
      "source": [
        "def _visualise(_model,_acc, _loss):\n",
        "    plt.plot(_acc)\n",
        "    plt.plot(_loss)\n",
        "    plt.title('Global Accuracy and Loss')\n",
        "    plt.ylabel('Accuracy/Loss')\n",
        "    plt.xlabel('epoch')\n",
        "    plt.legend(['accuracy', 'loss'], loc='upper left')\n",
        "    plt.show()"
      ],
      "metadata": {
        "execution": {
          "iopub.status.busy": "2022-06-12T16:34:51.488485Z",
          "iopub.execute_input": "2022-06-12T16:34:51.489832Z",
          "iopub.status.idle": "2022-06-12T16:34:51.498227Z",
          "shell.execute_reply.started": "2022-06-12T16:34:51.489740Z",
          "shell.execute_reply": "2022-06-12T16:34:51.497028Z"
        },
        "trusted": true,
        "id": "E2TpqxzT_bIE"
      },
      "execution_count": null,
      "outputs": []
    },
    {
      "cell_type": "markdown",
      "source": [
        "CASE 1: \n",
        "* Sharing deep weights every 5th epoch, 1 - shallow and 5 deep layers"
      ],
      "metadata": {
        "id": "kMglE-7I_bIE"
      }
    },
    {
      "cell_type": "code",
      "source": [
        "_case1Model, _case1Accuracy, _case1Loss  = _trainModel(5, 1, 6) "
      ],
      "metadata": {
        "execution": {
          "iopub.status.busy": "2022-06-12T16:34:51.500055Z",
          "iopub.execute_input": "2022-06-12T16:34:51.500630Z",
          "iopub.status.idle": "2022-06-12T17:03:07.263102Z",
          "shell.execute_reply.started": "2022-06-12T16:34:51.500584Z",
          "shell.execute_reply": "2022-06-12T17:03:07.262022Z"
        },
        "trusted": true,
        "id": "ekrKtFIM_bIF",
        "outputId": "a911e229-d5ba-4b74-ae8b-ccf219a0463d"
      },
      "execution_count": null,
      "outputs": [
        {
          "name": "stderr",
          "text": "2022-06-12 16:34:52.216671: I tensorflow/compiler/mlir/mlir_graph_optimization_pass.cc:185] None of the MLIR Optimization Passes are enabled (registered 2)\n",
          "output_type": "stream"
        },
        {
          "name": "stdout",
          "text": "comm_round: 0 | global_acc: 54.167% | global_loss: 1.1883543729782104\ncomm_round: 1 | global_acc: 58.333% | global_loss: 1.1889395713806152\ncomm_round: 2 | global_acc: 58.333% | global_loss: 1.1745589971542358\ncomm_round: 3 | global_acc: 58.333% | global_loss: 1.1684376001358032\ncomm_round: 4 | global_acc: 64.583% | global_loss: 1.1466203927993774\ncomm_round: 5 | global_acc: 81.250% | global_loss: 1.0048632621765137\ncomm_round: 6 | global_acc: 79.167% | global_loss: 0.997678279876709\ncomm_round: 7 | global_acc: 77.083% | global_loss: 1.005008339881897\ncomm_round: 8 | global_acc: 77.083% | global_loss: 0.9790627360343933\ncomm_round: 9 | global_acc: 85.417% | global_loss: 0.9647335410118103\ncomm_round: 10 | global_acc: 85.417% | global_loss: 0.9083120822906494\ncomm_round: 11 | global_acc: 87.500% | global_loss: 0.8976901173591614\ncomm_round: 12 | global_acc: 89.583% | global_loss: 0.886121928691864\ncomm_round: 13 | global_acc: 91.667% | global_loss: 0.8695149421691895\ncomm_round: 14 | global_acc: 89.583% | global_loss: 0.8715857863426208\ncomm_round: 15 | global_acc: 89.583% | global_loss: 0.8649782538414001\ncomm_round: 16 | global_acc: 93.750% | global_loss: 0.8437862992286682\ncomm_round: 17 | global_acc: 91.667% | global_loss: 0.849513590335846\ncomm_round: 18 | global_acc: 89.583% | global_loss: 0.8497856259346008\ncomm_round: 19 | global_acc: 93.750% | global_loss: 0.8474480509757996\ncomm_round: 20 | global_acc: 91.667% | global_loss: 0.8435602188110352\ncomm_round: 21 | global_acc: 91.667% | global_loss: 0.8356148600578308\ncomm_round: 22 | global_acc: 93.750% | global_loss: 0.8306176066398621\ncomm_round: 23 | global_acc: 91.667% | global_loss: 0.8409247994422913\ncomm_round: 24 | global_acc: 93.750% | global_loss: 0.8363617062568665\ncomm_round: 25 | global_acc: 91.667% | global_loss: 0.8388559222221375\ncomm_round: 26 | global_acc: 91.667% | global_loss: 0.8330289721488953\ncomm_round: 27 | global_acc: 91.667% | global_loss: 0.8336246609687805\ncomm_round: 28 | global_acc: 91.667% | global_loss: 0.835093080997467\ncomm_round: 29 | global_acc: 91.667% | global_loss: 0.8339611887931824\ncomm_round: 30 | global_acc: 91.667% | global_loss: 0.8336122632026672\ncomm_round: 31 | global_acc: 91.667% | global_loss: 0.8258101344108582\ncomm_round: 32 | global_acc: 91.667% | global_loss: 0.8277554512023926\ncomm_round: 43 | global_acc: 91.667% | global_loss: 0.8259713053703308\ncomm_round: 44 | global_acc: 91.667% | global_loss: 0.8244171142578125\ncomm_round: 45 | global_acc: 91.667% | global_loss: 0.8255970478057861\ncomm_round: 46 | global_acc: 91.667% | global_loss: 0.8256842494010925\ncomm_round: 47 | global_acc: 91.667% | global_loss: 0.8265751004219055\ncomm_round: 48 | global_acc: 91.667% | global_loss: 0.8260952830314636\ncomm_round: 49 | global_acc: 91.667% | global_loss: 0.8259791731834412\ncomm_round: 50 | global_acc: 91.667% | global_loss: 0.8255190849304199\ncomm_round: 51 | global_acc: 91.667% | global_loss: 0.8258500099182129\ncomm_round: 52 | global_acc: 91.667% | global_loss: 0.8254761695861816\ncomm_round: 53 | global_acc: 91.667% | global_loss: 0.8247243762016296\ncomm_round: 54 | global_acc: 91.667% | global_loss: 0.8253108859062195\ncomm_round: 55 | global_acc: 91.667% | global_loss: 0.8251002430915833\ncomm_round: 56 | global_acc: 91.667% | global_loss: 0.8250605463981628\ncomm_round: 57 | global_acc: 91.667% | global_loss: 0.8243091106414795\ncomm_round: 58 | global_acc: 91.667% | global_loss: 0.8250667452812195\ncomm_round: 59 | global_acc: 91.667% | global_loss: 0.82464998960495\ncomm_round: 60 | global_acc: 91.667% | global_loss: 0.8238819241523743\ncomm_round: 61 | global_acc: 91.667% | global_loss: 0.8240435719490051\ncomm_round: 62 | global_acc: 91.667% | global_loss: 0.8242964148521423\ncomm_round: 63 | global_acc: 91.667% | global_loss: 0.824275553226471\ncomm_round: 64 | global_acc: 91.667% | global_loss: 0.824556291103363\ncomm_round: 65 | global_acc: 91.667% | global_loss: 0.823792040348053\ncomm_round: 66 | global_acc: 91.667% | global_loss: 0.8252003788948059\ncomm_round: 67 | global_acc: 91.667% | global_loss: 0.8244636058807373\ncomm_round: 68 | global_acc: 91.667% | global_loss: 0.8236306309700012\ncomm_round: 69 | global_acc: 91.667% | global_loss: 0.8236370086669922\ncomm_round: 70 | global_acc: 91.667% | global_loss: 0.8234224915504456\ncomm_round: 71 | global_acc: 91.667% | global_loss: 0.8241643905639648\ncomm_round: 72 | global_acc: 91.667% | global_loss: 0.8237948417663574\ncomm_round: 73 | global_acc: 91.667% | global_loss: 0.8238466382026672\ncomm_round: 74 | global_acc: 91.667% | global_loss: 0.82395339012146\ncomm_round: 75 | global_acc: 91.667% | global_loss: 0.8235921263694763\ncomm_round: 76 | global_acc: 91.667% | global_loss: 0.8235023617744446\ncomm_round: 77 | global_acc: 91.667% | global_loss: 0.8237468600273132\ncomm_round: 78 | global_acc: 91.667% | global_loss: 0.8235573768615723\ncomm_round: 79 | global_acc: 91.667% | global_loss: 0.8239870071411133\ncomm_round: 80 | global_acc: 91.667% | global_loss: 0.8234434723854065\ncomm_round: 81 | global_acc: 91.667% | global_loss: 0.8235794901847839\ncomm_round: 82 | global_acc: 91.667% | global_loss: 0.82346111536026\ncomm_round: 83 | global_acc: 91.667% | global_loss: 0.8234607577323914\ncomm_round: 84 | global_acc: 91.667% | global_loss: 0.8232417702674866\ncomm_round: 85 | global_acc: 91.667% | global_loss: 0.8217660784721375\ncomm_round: 86 | global_acc: 91.667% | global_loss: 0.8234386444091797\ncomm_round: 87 | global_acc: 91.667% | global_loss: 0.8236029148101807\ncomm_round: 88 | global_acc: 91.667% | global_loss: 0.8236021995544434\ncomm_round: 89 | global_acc: 91.667% | global_loss: 0.823617696762085\ncomm_round: 90 | global_acc: 91.667% | global_loss: 0.8231919407844543\ncomm_round: 91 | global_acc: 91.667% | global_loss: 0.822479248046875\ncomm_round: 92 | global_acc: 91.667% | global_loss: 0.8230971693992615\ncomm_round: 93 | global_acc: 91.667% | global_loss: 0.8229358792304993\ncomm_round: 94 | global_acc: 91.667% | global_loss: 0.8227996826171875\ncomm_round: 95 | global_acc: 91.667% | global_loss: 0.8226718902587891\ncomm_round: 96 | global_acc: 91.667% | global_loss: 0.8224042057991028\ncomm_round: 97 | global_acc: 91.667% | global_loss: 0.8226425647735596\ncomm_round: 98 | global_acc: 91.667% | global_loss: 0.8228456974029541\ncomm_round: 99 | global_acc: 91.667% | global_loss: 0.8226892352104187\ncomm_round: 100 | global_acc: 91.667% | global_loss: 0.8224593997001648\ncomm_round: 101 | global_acc: 91.667% | global_loss: 0.8231456875801086\ncomm_round: 102 | global_acc: 91.667% | global_loss: 0.8226475715637207\ncomm_round: 103 | global_acc: 91.667% | global_loss: 0.8228141665458679\ncomm_round: 104 | global_acc: 91.667% | global_loss: 0.8229272961616516\ncomm_round: 105 | global_acc: 91.667% | global_loss: 0.822075605392456\ncomm_round: 106 | global_acc: 91.667% | global_loss: 0.8220744132995605\ncomm_round: 107 | global_acc: 91.667% | global_loss: 0.8227189183235168\ncomm_round: 108 | global_acc: 93.750% | global_loss: 0.821944534778595\ncomm_round: 109 | global_acc: 91.667% | global_loss: 0.822725772857666\ncomm_round: 110 | global_acc: 93.750% | global_loss: 0.822136640548706\ncomm_round: 111 | global_acc: 91.667% | global_loss: 0.8221113085746765\ncomm_round: 112 | global_acc: 91.667% | global_loss: 0.822490394115448\ncomm_round: 113 | global_acc: 93.750% | global_loss: 0.8221624493598938\ncomm_round: 114 | global_acc: 93.750% | global_loss: 0.8220688700675964\ncomm_round: 115 | global_acc: 93.750% | global_loss: 0.8214612007141113\ncomm_round: 116 | global_acc: 93.750% | global_loss: 0.8222692608833313\ncomm_round: 117 | global_acc: 93.750% | global_loss: 0.8222361207008362\ncomm_round: 118 | global_acc: 93.750% | global_loss: 0.8220933079719543\ncomm_round: 119 | global_acc: 93.750% | global_loss: 0.8218061923980713\ncomm_round: 120 | global_acc: 93.750% | global_loss: 0.8218622207641602\ncomm_round: 121 | global_acc: 93.750% | global_loss: 0.8222252726554871\ncomm_round: 122 | global_acc: 93.750% | global_loss: 0.8217924237251282\ncomm_round: 123 | global_acc: 93.750% | global_loss: 0.821927011013031\ncomm_round: 124 | global_acc: 93.750% | global_loss: 0.8218297958374023\ncomm_round: 125 | global_acc: 93.750% | global_loss: 0.8217201232910156\ncomm_round: 126 | global_acc: 93.750% | global_loss: 0.8217909336090088\ncomm_round: 127 | global_acc: 93.750% | global_loss: 0.8217611908912659\ncomm_round: 128 | global_acc: 93.750% | global_loss: 0.8221616744995117\ncomm_round: 129 | global_acc: 93.750% | global_loss: 0.8218604922294617\ncomm_round: 130 | global_acc: 93.750% | global_loss: 0.8218057751655579\ncomm_round: 131 | global_acc: 93.750% | global_loss: 0.8219137191772461\ncomm_round: 132 | global_acc: 93.750% | global_loss: 0.8216196894645691\ncomm_round: 133 | global_acc: 93.750% | global_loss: 0.8215948939323425\ncomm_round: 134 | global_acc: 93.750% | global_loss: 0.821540355682373\ncomm_round: 135 | global_acc: 93.750% | global_loss: 0.8219280242919922\ncomm_round: 136 | global_acc: 93.750% | global_loss: 0.8219659924507141\ncomm_round: 137 | global_acc: 93.750% | global_loss: 0.8217173218727112\ncomm_round: 138 | global_acc: 93.750% | global_loss: 0.8216261267662048\ncomm_round: 139 | global_acc: 93.750% | global_loss: 0.8217995166778564\ncomm_round: 140 | global_acc: 93.750% | global_loss: 0.8215327262878418\ncomm_round: 141 | global_acc: 93.750% | global_loss: 0.8216428160667419\ncomm_round: 142 | global_acc: 93.750% | global_loss: 0.8214800953865051\ncomm_round: 143 | global_acc: 93.750% | global_loss: 0.8214767575263977\ncomm_round: 144 | global_acc: 93.750% | global_loss: 0.821605384349823\ncomm_round: 145 | global_acc: 93.750% | global_loss: 0.8212676048278809\ncomm_round: 146 | global_acc: 93.750% | global_loss: 0.8213242888450623\ncomm_round: 147 | global_acc: 93.750% | global_loss: 0.8215286135673523\ncomm_round: 148 | global_acc: 93.750% | global_loss: 0.821485698223114\ncomm_round: 149 | global_acc: 93.750% | global_loss: 0.8216131329536438\ncomm_round: 150 | global_acc: 93.750% | global_loss: 0.8207947611808777\ncomm_round: 151 | global_acc: 93.750% | global_loss: 0.8209955096244812\ncomm_round: 152 | global_acc: 93.750% | global_loss: 0.8209819197654724\ncomm_round: 153 | global_acc: 93.750% | global_loss: 0.8211485743522644\ncomm_round: 154 | global_acc: 93.750% | global_loss: 0.8214779496192932\ncomm_round: 155 | global_acc: 93.750% | global_loss: 0.8209664225578308\ncomm_round: 156 | global_acc: 93.750% | global_loss: 0.8211944699287415\ncomm_round: 157 | global_acc: 93.750% | global_loss: 0.8209914565086365\ncomm_round: 158 | global_acc: 93.750% | global_loss: 0.8209475874900818\ncomm_round: 159 | global_acc: 93.750% | global_loss: 0.82127445936203\ncomm_round: 160 | global_acc: 93.750% | global_loss: 0.8212933540344238\ncomm_round: 161 | global_acc: 93.750% | global_loss: 0.82093745470047\ncomm_round: 162 | global_acc: 93.750% | global_loss: 0.8211339116096497\ncomm_round: 163 | global_acc: 93.750% | global_loss: 0.8208377957344055\ncomm_round: 164 | global_acc: 93.750% | global_loss: 0.8209514617919922\ncomm_round: 165 | global_acc: 93.750% | global_loss: 0.8206645846366882\ncomm_round: 166 | global_acc: 93.750% | global_loss: 0.8209028244018555\ncomm_round: 167 | global_acc: 93.750% | global_loss: 0.8209657073020935\ncomm_round: 168 | global_acc: 93.750% | global_loss: 0.8209502696990967\ncomm_round: 169 | global_acc: 93.750% | global_loss: 0.8207308650016785\ncomm_round: 170 | global_acc: 93.750% | global_loss: 0.8204280734062195\ncomm_round: 171 | global_acc: 93.750% | global_loss: 0.820526123046875\ncomm_round: 172 | global_acc: 93.750% | global_loss: 0.8207423090934753\ncomm_round: 173 | global_acc: 93.750% | global_loss: 0.8205658793449402\ncomm_round: 174 | global_acc: 93.750% | global_loss: 0.8205937743186951\ncomm_round: 175 | global_acc: 93.750% | global_loss: 0.820174515247345\ncomm_round: 176 | global_acc: 93.750% | global_loss: 0.8205990791320801\ncomm_round: 177 | global_acc: 93.750% | global_loss: 0.8204813003540039\ncomm_round: 178 | global_acc: 93.750% | global_loss: 0.8201557993888855\ncomm_round: 179 | global_acc: 93.750% | global_loss: 0.8203091025352478\ncomm_round: 180 | global_acc: 93.750% | global_loss: 0.8201780915260315\ncomm_round: 181 | global_acc: 93.750% | global_loss: 0.8202752470970154\ncomm_round: 182 | global_acc: 93.750% | global_loss: 0.8201088905334473\ncomm_round: 183 | global_acc: 93.750% | global_loss: 0.8203222751617432\ncomm_round: 184 | global_acc: 93.750% | global_loss: 0.8202303051948547\ncomm_round: 185 | global_acc: 93.750% | global_loss: 0.820103645324707\ncomm_round: 186 | global_acc: 93.750% | global_loss: 0.820106029510498\ncomm_round: 187 | global_acc: 93.750% | global_loss: 0.820019543170929\ncomm_round: 188 | global_acc: 93.750% | global_loss: 0.8199241161346436\ncomm_round: 189 | global_acc: 93.750% | global_loss: 0.82004314661026\ncomm_round: 190 | global_acc: 93.750% | global_loss: 0.8201077580451965\ncomm_round: 191 | global_acc: 93.750% | global_loss: 0.8202827572822571\ncomm_round: 192 | global_acc: 93.750% | global_loss: 0.8200454711914062\ncomm_round: 193 | global_acc: 93.750% | global_loss: 0.8201932907104492\ncomm_round: 194 | global_acc: 93.750% | global_loss: 0.8201209902763367\ncomm_round: 195 | global_acc: 93.750% | global_loss: 0.8196943402290344\ncomm_round: 196 | global_acc: 93.750% | global_loss: 0.8196720480918884\ncomm_round: 197 | global_acc: 93.750% | global_loss: 0.8194947242736816\ncomm_round: 198 | global_acc: 93.750% | global_loss: 0.8196992874145508\ncomm_round: 199 | global_acc: 93.750% | global_loss: 0.8198237419128418\n",
          "output_type": "stream"
        }
      ]
    },
    {
      "cell_type": "code",
      "source": [
        "_visualise(_case1Model, _case1Accuracy, _case1Loss)"
      ],
      "metadata": {
        "execution": {
          "iopub.status.busy": "2022-06-12T17:03:07.264961Z",
          "iopub.execute_input": "2022-06-12T17:03:07.265364Z",
          "iopub.status.idle": "2022-06-12T17:03:07.534347Z",
          "shell.execute_reply.started": "2022-06-12T17:03:07.265322Z",
          "shell.execute_reply": "2022-06-12T17:03:07.533247Z"
        },
        "trusted": true,
        "id": "W1FS2Cmn_bIG",
        "outputId": "03ebdd96-039c-48c0-83c0-4f14f80058ad"
      },
      "execution_count": null,
      "outputs": [
        {
          "output_type": "display_data",
          "data": {
            "text/plain": "<Figure size 432x288 with 1 Axes>",
            "image/png": "[encoded data removed]"
          },
          "metadata": {
            "needs_background": "light"
          }
        }
      ]
    },
    {
      "cell_type": "code",
      "source": [
        "test_acc = list()\n",
        "test_loss = list()\n",
        "for (X_test, Y_test) in test_batched:\n",
        "    global_test_acc, global_test_loss = test_model(X_test, Y_test, _case1Model, comm_round=1)\n",
        "    test_acc.append(global_test_acc)\n",
        "    test_loss.append(global_test_loss)"
      ],
      "metadata": {
        "execution": {
          "iopub.status.busy": "2022-06-12T17:03:07.537672Z",
          "iopub.execute_input": "2022-06-12T17:03:07.537954Z",
          "iopub.status.idle": "2022-06-12T17:03:07.663818Z",
          "shell.execute_reply.started": "2022-06-12T17:03:07.537927Z",
          "shell.execute_reply": "2022-06-12T17:03:07.661828Z"
        },
        "trusted": true,
        "id": "smps8HN0_bIG",
        "outputId": "ff8070cc-4d24-45a7-b4f7-0a8397f236da"
      },
      "execution_count": null,
      "outputs": [
        {
          "name": "stdout",
          "text": "comm_round: 1 | global_acc: 93.983% | global_loss: 0.8053874373435974\n",
          "output_type": "stream"
        }
      ]
    },
    {
      "cell_type": "markdown",
      "source": [
        "CASE 2:\n",
        "* Sharing deep weights every 10th epoch, 1 shallow and 5 deep layers"
      ],
      "metadata": {
        "id": "wEhMAgSE_bII"
      }
    },
    {
      "cell_type": "code",
      "source": [
        "_case2Model, _case2Accuracy, _case2Loss  = _trainModel(10, 1, 6) "
      ],
      "metadata": {
        "execution": {
          "iopub.status.busy": "2022-06-12T17:03:07.665466Z",
          "iopub.execute_input": "2022-06-12T17:03:07.666201Z",
          "iopub.status.idle": "2022-06-12T17:31:46.961382Z",
          "shell.execute_reply.started": "2022-06-12T17:03:07.666159Z",
          "shell.execute_reply": "2022-06-12T17:31:46.960189Z"
        },
        "trusted": true,
        "id": "7McHvMKM_bII",
        "outputId": "7e1f0671-1386-4779-8e2c-652e68eb6481"
      },
      "execution_count": null,
      "outputs": [
        {
          "name": "stdout",
          "text": "comm_round: 0 | global_acc: 22.917% | global_loss: 1.3782588243484497\ncomm_round: 1 | global_acc: 27.083% | global_loss: 1.3758293390274048\ncomm_round: 2 | global_acc: 27.083% | global_loss: 1.3724699020385742\ncomm_round: 3 | global_acc: 29.167% | global_loss: 1.3690649271011353\ncomm_round: 4 | global_acc: 31.250% | global_loss: 1.365211009979248\ncomm_round: 5 | global_acc: 31.250% | global_loss: 1.3612052202224731\ncomm_round: 6 | global_acc: 31.250% | global_loss: 1.3573662042617798\ncomm_round: 7 | global_acc: 31.250% | global_loss: 1.3538297414779663\ncomm_round: 8 | global_acc: 31.250% | global_loss: 1.3505610227584839\ncomm_round: 9 | global_acc: 33.333% | global_loss: 1.347437858581543\ncomm_round: 10 | global_acc: 54.167% | global_loss: 1.3056074380874634\ncomm_round: 11 | global_acc: 52.083% | global_loss: 1.2928736209869385\ncomm_round: 12 | global_acc: 52.083% | global_loss: 1.2826749086380005\ncomm_round: 13 | global_acc: 52.083% | global_loss: 1.2742666006088257\ncomm_round: 14 | global_acc: 54.167% | global_loss: 1.2669436931610107\ncomm_round: 15 | global_acc: 58.333% | global_loss: 1.2608495950698853\ncomm_round: 16 | global_acc: 58.333% | global_loss: 1.2556618452072144\ncomm_round: 17 | global_acc: 60.417% | global_loss: 1.2510367631912231\ncomm_round: 18 | global_acc: 62.500% | global_loss: 1.2467212677001953\ncomm_round: 19 | global_acc: 62.500% | global_loss: 1.2431401014328003\ncomm_round: 20 | global_acc: 60.417% | global_loss: 1.1965276002883911\ncomm_round: 21 | global_acc: 64.583% | global_loss: 1.191116213798523\ncomm_round: 22 | global_acc: 66.667% | global_loss: 1.187010645866394\ncomm_round: 23 | global_acc: 64.583% | global_loss: 1.1839827299118042\ncomm_round: 24 | global_acc: 70.833% | global_loss: 1.1810754537582397\ncomm_round: 25 | global_acc: 70.833% | global_loss: 1.178624153137207\ncomm_round: 26 | global_acc: 70.833% | global_loss: 1.1764835119247437\ncomm_round: 27 | global_acc: 70.833% | global_loss: 1.1742280721664429\ncomm_round: 28 | global_acc: 70.833% | global_loss: 1.1723841428756714\ncomm_round: 29 | global_acc: 70.833% | global_loss: 1.1709743738174438\ncomm_round: 30 | global_acc: 70.833% | global_loss: 1.1408880949020386\ncomm_round: 31 | global_acc: 68.750% | global_loss: 1.1396158933639526\ncomm_round: 32 | global_acc: 70.833% | global_loss: 1.1388088464736938\ncomm_round: 33 | global_acc: 68.750% | global_loss: 1.137478232383728\ncomm_round: 34 | global_acc: 68.750% | global_loss: 1.136907696723938\ncomm_round: 35 | global_acc: 68.750% | global_loss: 1.1367241144180298\ncomm_round: 36 | global_acc: 68.750% | global_loss: 1.1359978914260864\ncomm_round: 37 | global_acc: 68.750% | global_loss: 1.1354570388793945\ncomm_round: 38 | global_acc: 68.750% | global_loss: 1.1347805261611938\ncomm_round: 39 | global_acc: 66.667% | global_loss: 1.1340690851211548\ncomm_round: 40 | global_acc: 68.750% | global_loss: 1.1156065464019775\ncomm_round: 41 | global_acc: 68.750% | global_loss: 1.1156773567199707\ncomm_round: 42 | global_acc: 68.750% | global_loss: 1.1158751249313354\ncomm_round: 43 | global_acc: 70.833% | global_loss: 1.1153967380523682\ncomm_round: 44 | global_acc: 70.833% | global_loss: 1.1150591373443604\ncomm_round: 45 | global_acc: 70.833% | global_loss: 1.1146937608718872\ncomm_round: 46 | global_acc: 70.833% | global_loss: 1.115052342414856\ncomm_round: 47 | global_acc: 70.833% | global_loss: 1.1146382093429565\ncomm_round: 48 | global_acc: 70.833% | global_loss: 1.1142032146453857\ncomm_round: 49 | global_acc: 68.750% | global_loss: 1.114317774772644\ncomm_round: 50 | global_acc: 68.750% | global_loss: 1.0990740060806274\ncomm_round: 51 | global_acc: 70.833% | global_loss: 1.0987281799316406\ncomm_round: 52 | global_acc: 70.833% | global_loss: 1.0990116596221924\ncomm_round: 53 | global_acc: 70.833% | global_loss: 1.0984764099121094\ncomm_round: 54 | global_acc: 70.833% | global_loss: 1.097617268562317\ncomm_round: 55 | global_acc: 70.833% | global_loss: 1.0975664854049683\ncomm_round: 56 | global_acc: 70.833% | global_loss: 1.0973483324050903\ncomm_round: 57 | global_acc: 70.833% | global_loss: 1.0955735445022583\ncomm_round: 58 | global_acc: 70.833% | global_loss: 1.0951915979385376\ncomm_round: 59 | global_acc: 70.833% | global_loss: 1.0943807363510132\ncomm_round: 60 | global_acc: 72.917% | global_loss: 1.08540940284729\ncomm_round: 61 | global_acc: 72.917% | global_loss: 1.0837092399597168\ncomm_round: 62 | global_acc: 70.833% | global_loss: 1.08133065700531\ncomm_round: 63 | global_acc: 70.833% | global_loss: 1.0809762477874756\ncomm_round: 64 | global_acc: 72.917% | global_loss: 1.0812386274337769\ncomm_round: 65 | global_acc: 70.833% | global_loss: 1.0794633626937866\ncomm_round: 66 | global_acc: 72.917% | global_loss: 1.07905113697052\ncomm_round: 67 | global_acc: 70.833% | global_loss: 1.0780038833618164\ncomm_round: 68 | global_acc: 70.833% | global_loss: 1.07720947265625\ncomm_round: 69 | global_acc: 70.833% | global_loss: 1.0757943391799927\ncomm_round: 70 | global_acc: 77.083% | global_loss: 1.0603457689285278\ncomm_round: 71 | global_acc: 77.083% | global_loss: 1.0608450174331665\ncomm_round: 72 | global_acc: 75.000% | global_loss: 1.0618942975997925\ncomm_round: 73 | global_acc: 75.000% | global_loss: 1.0624159574508667\ncomm_round: 74 | global_acc: 70.833% | global_loss: 1.06206214427948\ncomm_round: 75 | global_acc: 72.917% | global_loss: 1.0623706579208374\ncomm_round: 76 | global_acc: 75.000% | global_loss: 1.060425877571106\ncomm_round: 77 | global_acc: 75.000% | global_loss: 1.0589278936386108\ncomm_round: 78 | global_acc: 72.917% | global_loss: 1.0574952363967896\ncomm_round: 79 | global_acc: 75.000% | global_loss: 1.056817650794983\ncomm_round: 80 | global_acc: 77.083% | global_loss: 1.0453509092330933\ncomm_round: 81 | global_acc: 77.083% | global_loss: 1.0451350212097168\ncomm_round: 82 | global_acc: 77.083% | global_loss: 1.0452300310134888\ncomm_round: 83 | global_acc: 77.083% | global_loss: 1.043505311012268\ncomm_round: 84 | global_acc: 77.083% | global_loss: 1.0429511070251465\ncomm_round: 85 | global_acc: 77.083% | global_loss: 1.0424154996871948\ncomm_round: 86 | global_acc: 75.000% | global_loss: 1.040502667427063\ncomm_round: 87 | global_acc: 77.083% | global_loss: 1.0405327081680298\ncomm_round: 88 | global_acc: 77.083% | global_loss: 1.0395450592041016\ncomm_round: 89 | global_acc: 77.083% | global_loss: 1.037720799446106\ncomm_round: 90 | global_acc: 72.917% | global_loss: 1.0308805704116821\ncomm_round: 91 | global_acc: 75.000% | global_loss: 1.0299824476242065\ncomm_round: 92 | global_acc: 77.083% | global_loss: 1.0286158323287964\ncomm_round: 93 | global_acc: 77.083% | global_loss: 1.0271997451782227\ncomm_round: 94 | global_acc: 79.167% | global_loss: 1.026787519454956\ncomm_round: 95 | global_acc: 77.083% | global_loss: 1.025455355644226\ncomm_round: 96 | global_acc: 79.167% | global_loss: 1.0243054628372192\ncomm_round: 97 | global_acc: 81.250% | global_loss: 1.023895502090454\ncomm_round: 98 | global_acc: 79.167% | global_loss: 1.0240663290023804\ncomm_round: 99 | global_acc: 83.333% | global_loss: 1.022448182106018\ncomm_round: 100 | global_acc: 83.333% | global_loss: 1.0132250785827637\ncomm_round: 101 | global_acc: 83.333% | global_loss: 1.0135854482650757\ncomm_round: 102 | global_acc: 81.250% | global_loss: 1.0117298364639282\ncomm_round: 103 | global_acc: 81.250% | global_loss: 1.0114003419876099\ncomm_round: 104 | global_acc: 81.250% | global_loss: 1.0111860036849976\ncomm_round: 105 | global_acc: 83.333% | global_loss: 1.009803295135498\ncomm_round: 106 | global_acc: 83.333% | global_loss: 1.0099188089370728\ncomm_round: 107 | global_acc: 83.333% | global_loss: 1.0100178718566895\ncomm_round: 108 | global_acc: 83.333% | global_loss: 1.0093936920166016\ncomm_round: 109 | global_acc: 83.333% | global_loss: 1.0082145929336548\ncomm_round: 110 | global_acc: 83.333% | global_loss: 1.0031428337097168\ncomm_round: 111 | global_acc: 83.333% | global_loss: 1.0011337995529175\ncomm_round: 112 | global_acc: 83.333% | global_loss: 1.0010794401168823\ncomm_round: 113 | global_acc: 83.333% | global_loss: 1.0001293420791626\ncomm_round: 114 | global_acc: 83.333% | global_loss: 0.999910831451416\ncomm_round: 115 | global_acc: 83.333% | global_loss: 0.9993515610694885\ncomm_round: 116 | global_acc: 83.333% | global_loss: 0.9982452988624573\ncomm_round: 117 | global_acc: 83.333% | global_loss: 0.9984958171844482\ncomm_round: 118 | global_acc: 83.333% | global_loss: 0.9980103969573975\ncomm_round: 119 | global_acc: 83.333% | global_loss: 0.9975273013114929\ncomm_round: 120 | global_acc: 85.417% | global_loss: 0.9888642430305481\ncomm_round: 121 | global_acc: 85.417% | global_loss: 0.9880146980285645\ncomm_round: 122 | global_acc: 85.417% | global_loss: 0.9874079823493958\ncomm_round: 123 | global_acc: 85.417% | global_loss: 0.986700713634491\ncomm_round: 124 | global_acc: 85.417% | global_loss: 0.9866487383842468\ncomm_round: 125 | global_acc: 85.417% | global_loss: 0.9864649772644043\ncomm_round: 126 | global_acc: 85.417% | global_loss: 0.985985279083252\ncomm_round: 127 | global_acc: 85.417% | global_loss: 0.9847481846809387\ncomm_round: 128 | global_acc: 85.417% | global_loss: 0.9841143488883972\ncomm_round: 129 | global_acc: 85.417% | global_loss: 0.983786404132843\ncomm_round: 130 | global_acc: 85.417% | global_loss: 0.9756812453269958\ncomm_round: 131 | global_acc: 87.500% | global_loss: 0.9778688549995422\ncomm_round: 132 | global_acc: 85.417% | global_loss: 0.9762150645256042\ncomm_round: 133 | global_acc: 85.417% | global_loss: 0.9768864512443542\ncomm_round: 134 | global_acc: 87.500% | global_loss: 0.9748568534851074\ncomm_round: 135 | global_acc: 85.417% | global_loss: 0.9737796783447266\ncomm_round: 136 | global_acc: 87.500% | global_loss: 0.9735879898071289\ncomm_round: 137 | global_acc: 87.500% | global_loss: 0.972693920135498\ncomm_round: 138 | global_acc: 87.500% | global_loss: 0.9721527695655823\ncomm_round: 139 | global_acc: 85.417% | global_loss: 0.972672700881958\ncomm_round: 140 | global_acc: 87.500% | global_loss: 0.9656608700752258\ncomm_round: 141 | global_acc: 85.417% | global_loss: 0.9642462730407715\ncomm_round: 142 | global_acc: 85.417% | global_loss: 0.9616511464118958\ncomm_round: 143 | global_acc: 87.500% | global_loss: 0.9622011184692383\ncomm_round: 144 | global_acc: 87.500% | global_loss: 0.9620609283447266\ncomm_round: 145 | global_acc: 85.417% | global_loss: 0.9619102478027344\ncomm_round: 146 | global_acc: 87.500% | global_loss: 0.9624428749084473\ncomm_round: 147 | global_acc: 85.417% | global_loss: 0.9612493515014648\ncomm_round: 148 | global_acc: 87.500% | global_loss: 0.9592075347900391\ncomm_round: 149 | global_acc: 87.500% | global_loss: 0.9596433043479919\ncomm_round: 150 | global_acc: 87.500% | global_loss: 0.9510810375213623\ncomm_round: 151 | global_acc: 87.500% | global_loss: 0.9517731666564941\ncomm_round: 152 | global_acc: 87.500% | global_loss: 0.9508724212646484\ncomm_round: 153 | global_acc: 87.500% | global_loss: 0.9510836005210876\ncomm_round: 154 | global_acc: 87.500% | global_loss: 0.9509504437446594\ncomm_round: 155 | global_acc: 87.500% | global_loss: 0.9513913989067078\ncomm_round: 156 | global_acc: 87.500% | global_loss: 0.9506471753120422\ncomm_round: 157 | global_acc: 87.500% | global_loss: 0.9496113657951355\ncomm_round: 158 | global_acc: 87.500% | global_loss: 0.9481492638587952\ncomm_round: 159 | global_acc: 87.500% | global_loss: 0.9480090141296387\ncomm_round: 160 | global_acc: 87.500% | global_loss: 0.9395866990089417\ncomm_round: 161 | global_acc: 87.500% | global_loss: 0.9400215148925781\ncomm_round: 162 | global_acc: 87.500% | global_loss: 0.9394049644470215\ncomm_round: 163 | global_acc: 87.500% | global_loss: 0.9385663866996765\ncomm_round: 164 | global_acc: 87.500% | global_loss: 0.9392241835594177\ncomm_round: 165 | global_acc: 89.583% | global_loss: 0.9391588568687439\ncomm_round: 166 | global_acc: 89.583% | global_loss: 0.9382252097129822\ncomm_round: 167 | global_acc: 89.583% | global_loss: 0.937600314617157\ncomm_round: 168 | global_acc: 89.583% | global_loss: 0.9376361966133118\ncomm_round: 169 | global_acc: 89.583% | global_loss: 0.9366040229797363\ncomm_round: 170 | global_acc: 83.333% | global_loss: 0.934455394744873\ncomm_round: 171 | global_acc: 83.333% | global_loss: 0.9337029457092285\ncomm_round: 172 | global_acc: 85.417% | global_loss: 0.9318493008613586\ncomm_round: 173 | global_acc: 85.417% | global_loss: 0.9316096305847168\ncomm_round: 174 | global_acc: 85.417% | global_loss: 0.93170565366745\ncomm_round: 175 | global_acc: 85.417% | global_loss: 0.9317367672920227\ncomm_round: 176 | global_acc: 87.500% | global_loss: 0.9301784634590149\ncomm_round: 177 | global_acc: 85.417% | global_loss: 0.9305245280265808\ncomm_round: 178 | global_acc: 89.583% | global_loss: 0.9286971092224121\ncomm_round: 179 | global_acc: 89.583% | global_loss: 0.9273207783699036\ncomm_round: 180 | global_acc: 85.417% | global_loss: 0.9275867342948914\ncomm_round: 181 | global_acc: 87.500% | global_loss: 0.9246185421943665\ncomm_round: 182 | global_acc: 87.500% | global_loss: 0.9235317707061768\ncomm_round: 183 | global_acc: 87.500% | global_loss: 0.9239006638526917\ncomm_round: 184 | global_acc: 87.500% | global_loss: 0.9242350459098816\ncomm_round: 185 | global_acc: 87.500% | global_loss: 0.9237491488456726\ncomm_round: 186 | global_acc: 87.500% | global_loss: 0.9220412373542786\ncomm_round: 187 | global_acc: 87.500% | global_loss: 0.9207622408866882\ncomm_round: 188 | global_acc: 89.583% | global_loss: 0.9188923835754395\ncomm_round: 189 | global_acc: 87.500% | global_loss: 0.9202830791473389\ncomm_round: 190 | global_acc: 89.583% | global_loss: 0.9136344790458679\ncomm_round: 191 | global_acc: 89.583% | global_loss: 0.9125564694404602\ncomm_round: 192 | global_acc: 89.583% | global_loss: 0.9131370186805725\ncomm_round: 193 | global_acc: 89.583% | global_loss: 0.9125511050224304\ncomm_round: 194 | global_acc: 89.583% | global_loss: 0.9125699996948242\ncomm_round: 195 | global_acc: 91.667% | global_loss: 0.9130726456642151\ncomm_round: 196 | global_acc: 91.667% | global_loss: 0.912775993347168\ncomm_round: 197 | global_acc: 91.667% | global_loss: 0.9138719439506531\ncomm_round: 198 | global_acc: 89.583% | global_loss: 0.9129114151000977\ncomm_round: 199 | global_acc: 87.500% | global_loss: 0.9153063297271729\n",
          "output_type": "stream"
        }
      ]
    },
    {
      "cell_type": "code",
      "source": [
        "_visualise(_case2Model, _case2Accuracy, _case2Loss)"
      ],
      "metadata": {
        "execution": {
          "iopub.status.busy": "2022-06-12T17:31:46.962967Z",
          "iopub.execute_input": "2022-06-12T17:31:46.964859Z",
          "iopub.status.idle": "2022-06-12T17:31:47.203166Z",
          "shell.execute_reply.started": "2022-06-12T17:31:46.964814Z",
          "shell.execute_reply": "2022-06-12T17:31:47.202125Z"
        },
        "trusted": true,
        "id": "oicD7oY9_bII",
        "outputId": "2c762cf6-db81-4fff-d067-230e468eec99"
      },
      "execution_count": null,
      "outputs": [
        {
          "output_type": "display_data",
          "data": {
            "text/plain": "<Figure size 432x288 with 1 Axes>",
            "image/png": "[encoded data removed]"
          },
          "metadata": {
            "needs_background": "light"
          }
        }
      ]
    },
    {
      "cell_type": "code",
      "source": [
        "test_acc = list()\n",
        "test_loss = list()\n",
        "for (X_test, Y_test) in test_batched:\n",
        "    global_test_acc, global_test_loss = test_model(X_test, Y_test, _case2Model, comm_round=1)\n",
        "    test_acc.append(global_test_acc)\n",
        "    test_loss.append(global_test_loss)"
      ],
      "metadata": {
        "execution": {
          "iopub.status.busy": "2022-06-12T17:31:47.204705Z",
          "iopub.execute_input": "2022-06-12T17:31:47.205322Z",
          "iopub.status.idle": "2022-06-12T17:31:47.316642Z",
          "shell.execute_reply.started": "2022-06-12T17:31:47.205252Z",
          "shell.execute_reply": "2022-06-12T17:31:47.315616Z"
        },
        "trusted": true,
        "id": "ttnYgSJk_bIJ",
        "outputId": "6902c519-99b1-4397-97ea-8b5c29b482d3"
      },
      "execution_count": null,
      "outputs": [
        {
          "name": "stdout",
          "text": "comm_round: 1 | global_acc: 90.182% | global_loss: 0.8632149696350098\n",
          "output_type": "stream"
        }
      ]
    },
    {
      "cell_type": "markdown",
      "source": [
        "CASE 3:\n",
        "* Sharing deep weights every epoch, 1 shallow and 5 deep layers"
      ],
      "metadata": {
        "id": "HNwcsmWx_bIJ"
      }
    },
    {
      "cell_type": "code",
      "source": [
        "_case3Model, _case3Accuracy, _case3Loss  = _trainModel(1, 1, 6) "
      ],
      "metadata": {
        "execution": {
          "iopub.status.busy": "2022-06-12T17:31:47.319518Z",
          "iopub.execute_input": "2022-06-12T17:31:47.320156Z",
          "iopub.status.idle": "2022-06-12T18:00:52.050433Z",
          "shell.execute_reply.started": "2022-06-12T17:31:47.320115Z",
          "shell.execute_reply": "2022-06-12T18:00:52.049431Z"
        },
        "trusted": true,
        "id": "8_CLKC-D_bIK",
        "outputId": "0e0ee17c-7af0-47e0-807f-f3602281bcbf"
      },
      "execution_count": null,
      "outputs": [
        {
          "name": "stdout",
          "text": "comm_round: 0 | global_acc: 25.000% | global_loss: 1.3834480047225952\ncomm_round: 1 | global_acc: 25.000% | global_loss: 1.381602168083191\ncomm_round: 2 | global_acc: 25.000% | global_loss: 1.3801072835922241\ncomm_round: 3 | global_acc: 29.167% | global_loss: 1.3771705627441406\ncomm_round: 4 | global_acc: 29.167% | global_loss: 1.3693915605545044\ncomm_round: 5 | global_acc: 47.917% | global_loss: 1.353023886680603\ncomm_round: 6 | global_acc: 50.000% | global_loss: 1.3296056985855103\ncomm_round: 7 | global_acc: 54.167% | global_loss: 1.3030422925949097\ncomm_round: 8 | global_acc: 60.417% | global_loss: 1.2750047445297241\ncomm_round: 9 | global_acc: 62.500% | global_loss: 1.2493287324905396\ncomm_round: 10 | global_acc: 64.583% | global_loss: 1.2226983308792114\ncomm_round: 11 | global_acc: 66.667% | global_loss: 1.2006739377975464\ncomm_round: 12 | global_acc: 66.667% | global_loss: 1.1790977716445923\ncomm_round: 13 | global_acc: 68.750% | global_loss: 1.1610463857650757\ncomm_round: 14 | global_acc: 68.750% | global_loss: 1.1467475891113281\ncomm_round: 15 | global_acc: 70.833% | global_loss: 1.13466215133667\ncomm_round: 16 | global_acc: 70.833% | global_loss: 1.1239616870880127\ncomm_round: 17 | global_acc: 70.833% | global_loss: 1.1180745363235474\ncomm_round: 27 | global_acc: 72.917% | global_loss: 1.0642578601837158\ncomm_round: 28 | global_acc: 70.833% | global_loss: 1.0627667903900146\ncomm_round: 29 | global_acc: 77.083% | global_loss: 1.0510061979293823\ncomm_round: 30 | global_acc: 77.083% | global_loss: 1.0484429597854614\ncomm_round: 31 | global_acc: 77.083% | global_loss: 1.0489109754562378\ncomm_round: 32 | global_acc: 79.167% | global_loss: 1.0276927947998047\ncomm_round: 33 | global_acc: 79.167% | global_loss: 1.026241660118103\ncomm_round: 34 | global_acc: 81.250% | global_loss: 1.0158661603927612\ncomm_round: 35 | global_acc: 81.250% | global_loss: 1.0127333402633667\ncomm_round: 36 | global_acc: 75.000% | global_loss: 1.0197969675064087\ncomm_round: 37 | global_acc: 75.000% | global_loss: 1.015053629875183\ncomm_round: 38 | global_acc: 81.250% | global_loss: 1.0024261474609375\ncomm_round: 39 | global_acc: 81.250% | global_loss: 0.9915540814399719\ncomm_round: 40 | global_acc: 81.250% | global_loss: 0.9852558970451355\ncomm_round: 41 | global_acc: 81.250% | global_loss: 0.9780837893486023\ncomm_round: 42 | global_acc: 81.250% | global_loss: 0.977435827255249\ncomm_round: 43 | global_acc: 81.250% | global_loss: 0.9822120666503906\ncomm_round: 44 | global_acc: 81.250% | global_loss: 0.9748709797859192\ncomm_round: 45 | global_acc: 81.250% | global_loss: 0.9732029438018799\ncomm_round: 46 | global_acc: 81.250% | global_loss: 0.9692485928535461\ncomm_round: 47 | global_acc: 81.250% | global_loss: 0.9662016034126282\ncomm_round: 48 | global_acc: 77.083% | global_loss: 0.9785473942756653\ncomm_round: 49 | global_acc: 81.250% | global_loss: 0.9622877240180969\ncomm_round: 50 | global_acc: 81.250% | global_loss: 0.9492784142494202\ncomm_round: 51 | global_acc: 81.250% | global_loss: 0.9656385779380798\ncomm_round: 52 | global_acc: 81.250% | global_loss: 0.947627067565918\ncomm_round: 53 | global_acc: 81.250% | global_loss: 0.9384471774101257\ncomm_round: 54 | global_acc: 77.083% | global_loss: 0.9503302574157715\ncomm_round: 55 | global_acc: 79.167% | global_loss: 0.9503095149993896\ncomm_round: 56 | global_acc: 79.167% | global_loss: 0.9478185772895813\ncomm_round: 57 | global_acc: 81.250% | global_loss: 0.9326301217079163\ncomm_round: 58 | global_acc: 81.250% | global_loss: 0.9302313923835754\ncomm_round: 59 | global_acc: 79.167% | global_loss: 0.936771810054779\ncomm_round: 60 | global_acc: 85.417% | global_loss: 0.9258225560188293\ncomm_round: 61 | global_acc: 83.333% | global_loss: 0.9288707375526428\ncomm_round: 62 | global_acc: 79.167% | global_loss: 0.9369933009147644\ncomm_round: 63 | global_acc: 83.333% | global_loss: 0.9226617813110352\ncomm_round: 64 | global_acc: 79.167% | global_loss: 0.9246951937675476\ncomm_round: 65 | global_acc: 81.250% | global_loss: 0.9223911166191101\ncomm_round: 66 | global_acc: 81.250% | global_loss: 0.9245386719703674\ncomm_round: 67 | global_acc: 79.167% | global_loss: 0.9291698336601257\ncomm_round: 68 | global_acc: 79.167% | global_loss: 0.9229302406311035\ncomm_round: 69 | global_acc: 83.333% | global_loss: 0.9121394157409668\ncomm_round: 70 | global_acc: 83.333% | global_loss: 0.9166466593742371\ncomm_round: 71 | global_acc: 83.333% | global_loss: 0.91461580991745\ncomm_round: 72 | global_acc: 79.167% | global_loss: 0.9240952134132385\ncomm_round: 73 | global_acc: 81.250% | global_loss: 0.9181436896324158\ncomm_round: 74 | global_acc: 83.333% | global_loss: 0.9087569117546082\ncomm_round: 75 | global_acc: 81.250% | global_loss: 0.9192569255828857\ncomm_round: 76 | global_acc: 83.333% | global_loss: 0.9053499698638916\ncomm_round: 77 | global_acc: 83.333% | global_loss: 0.9008212685585022\ncomm_round: 78 | global_acc: 85.417% | global_loss: 0.9028802514076233\ncomm_round: 79 | global_acc: 85.417% | global_loss: 0.9023056030273438\ncomm_round: 80 | global_acc: 85.417% | global_loss: 0.9000070095062256\ncomm_round: 81 | global_acc: 83.333% | global_loss: 0.9053435921669006\ncomm_round: 82 | global_acc: 83.333% | global_loss: 0.9079020619392395\ncomm_round: 83 | global_acc: 85.417% | global_loss: 0.9005423188209534\ncomm_round: 84 | global_acc: 85.417% | global_loss: 0.9010429382324219\ncomm_round: 85 | global_acc: 87.500% | global_loss: 0.8908880352973938\ncomm_round: 86 | global_acc: 83.333% | global_loss: 0.899911105632782\ncomm_round: 87 | global_acc: 85.417% | global_loss: 0.8947333693504333\ncomm_round: 88 | global_acc: 83.333% | global_loss: 0.8984857201576233\ncomm_round: 89 | global_acc: 83.333% | global_loss: 0.8996089100837708\ncomm_round: 90 | global_acc: 83.333% | global_loss: 0.8986887335777283\ncomm_round: 91 | global_acc: 83.333% | global_loss: 0.8991625308990479\ncomm_round: 92 | global_acc: 85.417% | global_loss: 0.8951457142829895\ncomm_round: 93 | global_acc: 85.417% | global_loss: 0.8934410214424133\ncomm_round: 94 | global_acc: 85.417% | global_loss: 0.8944936394691467\ncomm_round: 95 | global_acc: 85.417% | global_loss: 0.8930771946907043\ncomm_round: 96 | global_acc: 83.333% | global_loss: 0.8996844291687012\ncomm_round: 97 | global_acc: 85.417% | global_loss: 0.8889874815940857\ncomm_round: 98 | global_acc: 85.417% | global_loss: 0.8905689120292664\ncomm_round: 99 | global_acc: 83.333% | global_loss: 0.8985512852668762\ncomm_round: 100 | global_acc: 83.333% | global_loss: 0.8946631550788879\ncomm_round: 101 | global_acc: 83.333% | global_loss: 0.894670307636261\ncomm_round: 102 | global_acc: 85.417% | global_loss: 0.8869142532348633\ncomm_round: 103 | global_acc: 85.417% | global_loss: 0.8845000267028809\ncomm_round: 104 | global_acc: 83.333% | global_loss: 0.8935012817382812\ncomm_round: 105 | global_acc: 83.333% | global_loss: 0.8923476338386536\ncomm_round: 106 | global_acc: 85.417% | global_loss: 0.8921177983283997\ncomm_round: 107 | global_acc: 83.333% | global_loss: 0.8939216136932373\ncomm_round: 108 | global_acc: 85.417% | global_loss: 0.8904221653938293\ncomm_round: 109 | global_acc: 83.333% | global_loss: 0.8934789299964905\ncomm_round: 110 | global_acc: 85.417% | global_loss: 0.8870479464530945\ncomm_round: 111 | global_acc: 85.417% | global_loss: 0.8898146748542786\ncomm_round: 112 | global_acc: 83.333% | global_loss: 0.8915733695030212\ncomm_round: 113 | global_acc: 85.417% | global_loss: 0.8899922370910645\ncomm_round: 114 | global_acc: 85.417% | global_loss: 0.8896790146827698\ncomm_round: 115 | global_acc: 85.417% | global_loss: 0.8891153335571289\ncomm_round: 116 | global_acc: 83.333% | global_loss: 0.8923301696777344\ncomm_round: 117 | global_acc: 85.417% | global_loss: 0.8878239989280701\ncomm_round: 118 | global_acc: 85.417% | global_loss: 0.8920978903770447\ncomm_round: 119 | global_acc: 85.417% | global_loss: 0.8840401768684387\ncomm_round: 120 | global_acc: 85.417% | global_loss: 0.8881298899650574\ncomm_round: 121 | global_acc: 85.417% | global_loss: 0.8877903819084167\ncomm_round: 122 | global_acc: 85.417% | global_loss: 0.8856678009033203\ncomm_round: 123 | global_acc: 85.417% | global_loss: 0.8864653706550598\ncomm_round: 124 | global_acc: 85.417% | global_loss: 0.882348358631134\ncomm_round: 125 | global_acc: 85.417% | global_loss: 0.8850054740905762\ncomm_round: 126 | global_acc: 85.417% | global_loss: 0.8839680552482605\ncomm_round: 127 | global_acc: 85.417% | global_loss: 0.8843434453010559\ncomm_round: 138 | global_acc: 85.417% | global_loss: 0.8868393898010254\ncomm_round: 139 | global_acc: 85.417% | global_loss: 0.8843415379524231\ncomm_round: 140 | global_acc: 85.417% | global_loss: 0.8857796788215637\ncomm_round: 141 | global_acc: 85.417% | global_loss: 0.8877994418144226\ncomm_round: 142 | global_acc: 85.417% | global_loss: 0.8866229057312012\ncomm_round: 143 | global_acc: 85.417% | global_loss: 0.8862369060516357\ncomm_round: 144 | global_acc: 85.417% | global_loss: 0.8849473595619202\ncomm_round: 145 | global_acc: 85.417% | global_loss: 0.8845461010932922\ncomm_round: 146 | global_acc: 85.417% | global_loss: 0.88637375831604\ncomm_round: 147 | global_acc: 85.417% | global_loss: 0.8861672878265381\ncomm_round: 148 | global_acc: 85.417% | global_loss: 0.884810745716095\ncomm_round: 149 | global_acc: 85.417% | global_loss: 0.8878689408302307\ncomm_round: 150 | global_acc: 85.417% | global_loss: 0.8855996131896973\ncomm_round: 151 | global_acc: 85.417% | global_loss: 0.8825078010559082\ncomm_round: 152 | global_acc: 85.417% | global_loss: 0.8822093605995178\ncomm_round: 153 | global_acc: 85.417% | global_loss: 0.8836396336555481\ncomm_round: 154 | global_acc: 85.417% | global_loss: 0.8829793930053711\ncomm_round: 155 | global_acc: 85.417% | global_loss: 0.8859968185424805\ncomm_round: 156 | global_acc: 85.417% | global_loss: 0.8850917220115662\ncomm_round: 157 | global_acc: 85.417% | global_loss: 0.8822086453437805\ncomm_round: 158 | global_acc: 85.417% | global_loss: 0.8843172192573547\ncomm_round: 159 | global_acc: 85.417% | global_loss: 0.8859393000602722\ncomm_round: 160 | global_acc: 85.417% | global_loss: 0.8844099044799805\ncomm_round: 161 | global_acc: 85.417% | global_loss: 0.8819575309753418\ncomm_round: 162 | global_acc: 85.417% | global_loss: 0.8828546404838562\ncomm_round: 163 | global_acc: 85.417% | global_loss: 0.8822238445281982\ncomm_round: 164 | global_acc: 85.417% | global_loss: 0.8855323791503906\ncomm_round: 165 | global_acc: 85.417% | global_loss: 0.884200394153595\ncomm_round: 166 | global_acc: 85.417% | global_loss: 0.8852021098136902\ncomm_round: 167 | global_acc: 85.417% | global_loss: 0.8822658061981201\ncomm_round: 168 | global_acc: 85.417% | global_loss: 0.8835155367851257\ncomm_round: 169 | global_acc: 85.417% | global_loss: 0.8810662627220154\ncomm_round: 170 | global_acc: 85.417% | global_loss: 0.8817804455757141\ncomm_round: 171 | global_acc: 85.417% | global_loss: 0.8858439326286316\ncomm_round: 172 | global_acc: 85.417% | global_loss: 0.8850076794624329\ncomm_round: 173 | global_acc: 85.417% | global_loss: 0.8814153671264648\ncomm_round: 174 | global_acc: 85.417% | global_loss: 0.8817549347877502\ncomm_round: 175 | global_acc: 85.417% | global_loss: 0.8820341229438782\ncomm_round: 176 | global_acc: 85.417% | global_loss: 0.8862554430961609\ncomm_round: 177 | global_acc: 85.417% | global_loss: 0.881663978099823\ncomm_round: 178 | global_acc: 85.417% | global_loss: 0.8822605609893799\ncomm_round: 179 | global_acc: 85.417% | global_loss: 0.8824920654296875\ncomm_round: 180 | global_acc: 85.417% | global_loss: 0.8823143839836121\ncomm_round: 181 | global_acc: 85.417% | global_loss: 0.8828361630439758\ncomm_round: 182 | global_acc: 85.417% | global_loss: 0.8831402659416199\ncomm_round: 183 | global_acc: 85.417% | global_loss: 0.8813896179199219\ncomm_round: 184 | global_acc: 85.417% | global_loss: 0.8822035789489746\ncomm_round: 185 | global_acc: 85.417% | global_loss: 0.8812004923820496\ncomm_round: 186 | global_acc: 85.417% | global_loss: 0.8819233775138855\ncomm_round: 187 | global_acc: 85.417% | global_loss: 0.88169264793396\ncomm_round: 188 | global_acc: 85.417% | global_loss: 0.8834317326545715\ncomm_round: 189 | global_acc: 85.417% | global_loss: 0.880674421787262\ncomm_round: 190 | global_acc: 85.417% | global_loss: 0.8801957964897156\ncomm_round: 191 | global_acc: 85.417% | global_loss: 0.8810994029045105\ncomm_round: 192 | global_acc: 85.417% | global_loss: 0.8808526992797852\ncomm_round: 193 | global_acc: 85.417% | global_loss: 0.8807681202888489\ncomm_round: 194 | global_acc: 85.417% | global_loss: 0.8819935917854309\ncomm_round: 195 | global_acc: 85.417% | global_loss: 0.8818960785865784\ncomm_round: 196 | global_acc: 85.417% | global_loss: 0.8818523287773132\ncomm_round: 197 | global_acc: 85.417% | global_loss: 0.8798111081123352\ncomm_round: 198 | global_acc: 85.417% | global_loss: 0.8813899159431458\ncomm_round: 199 | global_acc: 85.417% | global_loss: 0.8808441758155823\n",
          "output_type": "stream"
        }
      ]
    },
    {
      "cell_type": "code",
      "source": [
        "_visualise(_case3Model, _case3Accuracy, _case3Loss)"
      ],
      "metadata": {
        "execution": {
          "iopub.status.busy": "2022-06-12T18:00:52.060214Z",
          "iopub.execute_input": "2022-06-12T18:00:52.062271Z",
          "iopub.status.idle": "2022-06-12T18:00:52.325445Z",
          "shell.execute_reply.started": "2022-06-12T18:00:52.062184Z",
          "shell.execute_reply": "2022-06-12T18:00:52.324463Z"
        },
        "trusted": true,
        "id": "1bObLv-j_bIK",
        "outputId": "94a4d337-fd55-4c87-9dea-05f927e157b1"
      },
      "execution_count": null,
      "outputs": [
        {
          "output_type": "display_data",
          "data": {
            "text/plain": "<Figure size 432x288 with 1 Axes>",
            "image/png": "[encoded data removed]"
          },
          "metadata": {
            "needs_background": "light"
          }
        }
      ]
    },
    {
      "cell_type": "code",
      "source": [
        "test_acc = list()\n",
        "test_loss = list()\n",
        "for (X_test, Y_test) in test_batched:\n",
        "    global_test_acc, global_test_loss = test_model(X_test, Y_test, _case3Model, comm_round=1)\n",
        "    test_acc.append(global_test_acc)\n",
        "    test_loss.append(global_test_loss)"
      ],
      "metadata": {
        "execution": {
          "iopub.status.busy": "2022-06-12T18:00:52.347201Z",
          "iopub.execute_input": "2022-06-12T18:00:52.347843Z",
          "iopub.status.idle": "2022-06-12T18:00:52.463415Z",
          "shell.execute_reply.started": "2022-06-12T18:00:52.347797Z",
          "shell.execute_reply": "2022-06-12T18:00:52.462329Z"
        },
        "trusted": true,
        "id": "9oGqQQHQ_bIK",
        "outputId": "521c69f2-c3aa-46f7-d713-c3368082e022"
      },
      "execution_count": null,
      "outputs": [
        {
          "name": "stdout",
          "text": "comm_round: 1 | global_acc: 92.795% | global_loss: 0.8157132863998413\n",
          "output_type": "stream"
        }
      ]
    },
    {
      "cell_type": "markdown",
      "source": [
        "CASE 4:\n",
        "* Sharing deep weights every 5th epoch, 3 shallow and 3 deep layers"
      ],
      "metadata": {
        "id": "jiFYmA4D_bIL"
      }
    },
    {
      "cell_type": "code",
      "source": [
        "_case4Model, _case4Accuracy, _case4Loss  = _trainModel(5, 3, 6) "
      ],
      "metadata": {
        "execution": {
          "iopub.status.busy": "2022-06-12T18:00:52.468632Z",
          "iopub.execute_input": "2022-06-12T18:00:52.469451Z",
          "iopub.status.idle": "2022-06-12T18:30:19.453953Z",
          "shell.execute_reply.started": "2022-06-12T18:00:52.469410Z",
          "shell.execute_reply": "2022-06-12T18:30:19.452082Z"
        },
        "trusted": true,
        "id": "u9Y54fad_bIL",
        "outputId": "4f4eb826-5a55-4ef7-9b8a-90a4a72f20ff"
      },
      "execution_count": null,
      "outputs": [
        {
          "name": "stdout",
          "text": "comm_round: 0 | global_acc: 25.000% | global_loss: 1.381003975868225\ncomm_round: 1 | global_acc: 25.000% | global_loss: 1.3800230026245117\ncomm_round: 2 | global_acc: 25.000% | global_loss: 1.3789525032043457\ncomm_round: 3 | global_acc: 25.000% | global_loss: 1.3782325983047485\ncomm_round: 4 | global_acc: 25.000% | global_loss: 1.3777891397476196\ncomm_round: 5 | global_acc: 27.083% | global_loss: 1.377062439918518\ncomm_round: 6 | global_acc: 27.083% | global_loss: 1.3754940032958984\ncomm_round: 7 | global_acc: 31.250% | global_loss: 1.372937798500061\ncomm_round: 8 | global_acc: 41.667% | global_loss: 1.3695111274719238\ncomm_round: 9 | global_acc: 43.750% | global_loss: 1.365317702293396\ncomm_round: 10 | global_acc: 47.917% | global_loss: 1.3592748641967773\ncomm_round: 11 | global_acc: 47.917% | global_loss: 1.3518222570419312\ncomm_round: 12 | global_acc: 50.000% | global_loss: 1.3445647954940796\ncomm_round: 13 | global_acc: 52.083% | global_loss: 1.3372231721878052\ncomm_round: 14 | global_acc: 52.083% | global_loss: 1.3300789594650269\ncomm_round: 15 | global_acc: 50.000% | global_loss: 1.3159691095352173\ncomm_round: 16 | global_acc: 54.167% | global_loss: 1.30648672580719\ncomm_round: 17 | global_acc: 54.167% | global_loss: 1.2972241640090942\ncomm_round: 18 | global_acc: 54.167% | global_loss: 1.2887718677520752\ncomm_round: 19 | global_acc: 56.250% | global_loss: 1.2805092334747314\ncomm_round: 20 | global_acc: 54.167% | global_loss: 1.2636241912841797\ncomm_round: 21 | global_acc: 52.083% | global_loss: 1.2536780834197998\ncomm_round: 22 | global_acc: 52.083% | global_loss: 1.2449020147323608\ncomm_round: 23 | global_acc: 52.083% | global_loss: 1.2368470430374146\ncomm_round: 24 | global_acc: 52.083% | global_loss: 1.2294418811798096\ncomm_round: 25 | global_acc: 56.250% | global_loss: 1.2123521566390991\ncomm_round: 26 | global_acc: 58.333% | global_loss: 1.2048190832138062\ncomm_round: 27 | global_acc: 58.333% | global_loss: 1.1980125904083252\ncomm_round: 28 | global_acc: 60.417% | global_loss: 1.192339301109314\ncomm_round: 29 | global_acc: 60.417% | global_loss: 1.1871885061264038\ncomm_round: 30 | global_acc: 60.417% | global_loss: 1.1738981008529663\ncomm_round: 31 | global_acc: 60.417% | global_loss: 1.1696019172668457\ncomm_round: 32 | global_acc: 62.500% | global_loss: 1.165632963180542\ncomm_round: 33 | global_acc: 62.500% | global_loss: 1.162326455116272\ncomm_round: 34 | global_acc: 62.500% | global_loss: 1.1593960523605347\ncomm_round: 35 | global_acc: 64.583% | global_loss: 1.1468634605407715\ncomm_round: 36 | global_acc: 66.667% | global_loss: 1.1450825929641724\ncomm_round: 37 | global_acc: 66.667% | global_loss: 1.1427708864212036\ncomm_round: 38 | global_acc: 66.667% | global_loss: 1.1406224966049194\ncomm_round: 39 | global_acc: 66.667% | global_loss: 1.1385725736618042\ncomm_round: 40 | global_acc: 64.583% | global_loss: 1.1311308145523071\ncomm_round: 41 | global_acc: 66.667% | global_loss: 1.1298943758010864\ncomm_round: 42 | global_acc: 66.667% | global_loss: 1.1278010606765747\ncomm_round: 43 | global_acc: 66.667% | global_loss: 1.1262779235839844\ncomm_round: 44 | global_acc: 66.667% | global_loss: 1.1253867149353027\ncomm_round: 45 | global_acc: 68.750% | global_loss: 1.1197417974472046\ncomm_round: 46 | global_acc: 68.750% | global_loss: 1.117285132408142\ncomm_round: 47 | global_acc: 68.750% | global_loss: 1.117900013923645\ncomm_round: 48 | global_acc: 68.750% | global_loss: 1.1167848110198975\ncomm_round: 49 | global_acc: 68.750% | global_loss: 1.114389419555664\ncomm_round: 50 | global_acc: 68.750% | global_loss: 1.1090563535690308\ncomm_round: 51 | global_acc: 68.750% | global_loss: 1.1075853109359741\ncomm_round: 52 | global_acc: 68.750% | global_loss: 1.108171820640564\ncomm_round: 53 | global_acc: 68.750% | global_loss: 1.1056528091430664\ncomm_round: 54 | global_acc: 68.750% | global_loss: 1.1073031425476074\ncomm_round: 55 | global_acc: 68.750% | global_loss: 1.1011977195739746\ncomm_round: 56 | global_acc: 68.750% | global_loss: 1.1002944707870483\ncomm_round: 57 | global_acc: 68.750% | global_loss: 1.0984874963760376\ncomm_round: 58 | global_acc: 68.750% | global_loss: 1.097516417503357\ncomm_round: 59 | global_acc: 68.750% | global_loss: 1.098047137260437\ncomm_round: 60 | global_acc: 68.750% | global_loss: 1.0924617052078247\ncomm_round: 61 | global_acc: 68.750% | global_loss: 1.0922385454177856\ncomm_round: 62 | global_acc: 68.750% | global_loss: 1.0913361310958862\ncomm_round: 63 | global_acc: 68.750% | global_loss: 1.0911601781845093\ncomm_round: 64 | global_acc: 68.750% | global_loss: 1.0888365507125854\ncomm_round: 65 | global_acc: 72.917% | global_loss: 1.0863349437713623\ncomm_round: 66 | global_acc: 72.917% | global_loss: 1.0845662355422974\ncomm_round: 67 | global_acc: 72.917% | global_loss: 1.08245050907135\ncomm_round: 68 | global_acc: 72.917% | global_loss: 1.080848217010498\ncomm_round: 69 | global_acc: 72.917% | global_loss: 1.0796548128128052\ncomm_round: 70 | global_acc: 72.917% | global_loss: 1.074569821357727\ncomm_round: 71 | global_acc: 72.917% | global_loss: 1.0754200220108032\ncomm_round: 72 | global_acc: 75.000% | global_loss: 1.0710304975509644\ncomm_round: 73 | global_acc: 72.917% | global_loss: 1.0716784000396729\ncomm_round: 74 | global_acc: 72.917% | global_loss: 1.0728498697280884\ncomm_round: 75 | global_acc: 72.917% | global_loss: 1.0661903619766235\ncomm_round: 76 | global_acc: 70.833% | global_loss: 1.068156123161316\ncomm_round: 77 | global_acc: 70.833% | global_loss: 1.0633891820907593\ncomm_round: 78 | global_acc: 70.833% | global_loss: 1.0641289949417114\ncomm_round: 79 | global_acc: 70.833% | global_loss: 1.0603971481323242\ncomm_round: 80 | global_acc: 72.917% | global_loss: 1.0605366230010986\ncomm_round: 81 | global_acc: 70.833% | global_loss: 1.0555380582809448\ncomm_round: 82 | global_acc: 70.833% | global_loss: 1.051655650138855\ncomm_round: 83 | global_acc: 72.917% | global_loss: 1.0539757013320923\ncomm_round: 84 | global_acc: 72.917% | global_loss: 1.0517116785049438\ncomm_round: 85 | global_acc: 72.917% | global_loss: 1.0509940385818481\ncomm_round: 86 | global_acc: 72.917% | global_loss: 1.0494633913040161\ncomm_round: 87 | global_acc: 72.917% | global_loss: 1.0480273962020874\ncomm_round: 88 | global_acc: 75.000% | global_loss: 1.0468051433563232\ncomm_round: 89 | global_acc: 75.000% | global_loss: 1.0452216863632202\ncomm_round: 90 | global_acc: 75.000% | global_loss: 1.0425570011138916\ncomm_round: 91 | global_acc: 75.000% | global_loss: 1.0410913228988647\ncomm_round: 92 | global_acc: 75.000% | global_loss: 1.0416388511657715\ncomm_round: 93 | global_acc: 75.000% | global_loss: 1.0379154682159424\ncomm_round: 94 | global_acc: 75.000% | global_loss: 1.0370335578918457\ncomm_round: 95 | global_acc: 75.000% | global_loss: 1.0314735174179077\ncomm_round: 96 | global_acc: 75.000% | global_loss: 1.0292478799819946\ncomm_round: 97 | global_acc: 75.000% | global_loss: 1.030496597290039\ncomm_round: 98 | global_acc: 75.000% | global_loss: 1.024537444114685\ncomm_round: 99 | global_acc: 77.083% | global_loss: 1.02683424949646\ncomm_round: 100 | global_acc: 77.083% | global_loss: 1.0246578454971313\ncomm_round: 101 | global_acc: 75.000% | global_loss: 1.0207287073135376\ncomm_round: 102 | global_acc: 77.083% | global_loss: 1.0211951732635498\ncomm_round: 103 | global_acc: 77.083% | global_loss: 1.0201250314712524\ncomm_round: 104 | global_acc: 77.083% | global_loss: 1.02021324634552\ncomm_round: 105 | global_acc: 77.083% | global_loss: 1.0182586908340454\ncomm_round: 106 | global_acc: 81.250% | global_loss: 1.0176928043365479\ncomm_round: 107 | global_acc: 81.250% | global_loss: 1.0143338441848755\ncomm_round: 108 | global_acc: 81.250% | global_loss: 1.0121585130691528\ncomm_round: 109 | global_acc: 79.167% | global_loss: 1.0090298652648926\ncomm_round: 110 | global_acc: 81.250% | global_loss: 1.007846474647522\ncomm_round: 111 | global_acc: 83.333% | global_loss: 1.0090223550796509\ncomm_round: 112 | global_acc: 83.333% | global_loss: 1.0089045763015747\ncomm_round: 113 | global_acc: 83.333% | global_loss: 1.0050302743911743\ncomm_round: 114 | global_acc: 83.333% | global_loss: 1.0024749040603638\ncomm_round: 115 | global_acc: 81.250% | global_loss: 1.008385181427002\ncomm_round: 116 | global_acc: 83.333% | global_loss: 1.0010991096496582\ncomm_round: 117 | global_acc: 83.333% | global_loss: 0.9973055720329285\ncomm_round: 118 | global_acc: 83.333% | global_loss: 0.9988031387329102\ncomm_round: 119 | global_acc: 83.333% | global_loss: 0.9980077743530273\ncomm_round: 120 | global_acc: 83.333% | global_loss: 0.9978976249694824\ncomm_round: 121 | global_acc: 83.333% | global_loss: 0.9937496185302734\ncomm_round: 122 | global_acc: 83.333% | global_loss: 0.9945852160453796\ncomm_round: 123 | global_acc: 83.333% | global_loss: 0.9924327731132507\ncomm_round: 124 | global_acc: 83.333% | global_loss: 0.9928962588310242\ncomm_round: 125 | global_acc: 83.333% | global_loss: 0.9922981262207031\ncomm_round: 126 | global_acc: 83.333% | global_loss: 0.9890938401222229\ncomm_round: 127 | global_acc: 83.333% | global_loss: 0.9878571629524231\ncomm_round: 128 | global_acc: 83.333% | global_loss: 0.9839863777160645\ncomm_round: 129 | global_acc: 83.333% | global_loss: 0.9869328141212463\ncomm_round: 130 | global_acc: 83.333% | global_loss: 0.9854229092597961\ncomm_round: 131 | global_acc: 83.333% | global_loss: 0.9853339791297913\ncomm_round: 132 | global_acc: 83.333% | global_loss: 0.9827558994293213\ncomm_round: 133 | global_acc: 83.333% | global_loss: 0.980379045009613\ncomm_round: 134 | global_acc: 83.333% | global_loss: 0.9830803275108337\ncomm_round: 135 | global_acc: 83.333% | global_loss: 0.9802713990211487\ncomm_round: 136 | global_acc: 83.333% | global_loss: 0.9790199398994446\ncomm_round: 137 | global_acc: 81.250% | global_loss: 0.9772055745124817\ncomm_round: 138 | global_acc: 83.333% | global_loss: 0.9725400805473328\ncomm_round: 139 | global_acc: 83.333% | global_loss: 0.9733526110649109\ncomm_round: 140 | global_acc: 83.333% | global_loss: 0.9710248112678528\ncomm_round: 141 | global_acc: 81.250% | global_loss: 0.9709694981575012\ncomm_round: 142 | global_acc: 83.333% | global_loss: 0.9693472981452942\ncomm_round: 143 | global_acc: 83.333% | global_loss: 0.967116117477417\ncomm_round: 144 | global_acc: 83.333% | global_loss: 0.9659419655799866\ncomm_round: 145 | global_acc: 83.333% | global_loss: 0.9669081568717957\ncomm_round: 146 | global_acc: 83.333% | global_loss: 0.9633593559265137\ncomm_round: 147 | global_acc: 79.167% | global_loss: 0.9672954082489014\ncomm_round: 148 | global_acc: 83.333% | global_loss: 0.963720977306366\ncomm_round: 149 | global_acc: 85.417% | global_loss: 0.9601638913154602\ncomm_round: 150 | global_acc: 81.250% | global_loss: 0.9611408710479736\ncomm_round: 151 | global_acc: 85.417% | global_loss: 0.9570881724357605\ncomm_round: 152 | global_acc: 83.333% | global_loss: 0.9560125470161438\ncomm_round: 153 | global_acc: 83.333% | global_loss: 0.9555175304412842\ncomm_round: 154 | global_acc: 83.333% | global_loss: 0.9557104110717773\ncomm_round: 155 | global_acc: 85.417% | global_loss: 0.9531333446502686\ncomm_round: 156 | global_acc: 81.250% | global_loss: 0.9543335437774658\ncomm_round: 157 | global_acc: 81.250% | global_loss: 0.9542490839958191\ncomm_round: 158 | global_acc: 81.250% | global_loss: 0.9516409039497375\ncomm_round: 159 | global_acc: 85.417% | global_loss: 0.9491357803344727\ncomm_round: 160 | global_acc: 79.167% | global_loss: 0.9518453478813171\ncomm_round: 161 | global_acc: 79.167% | global_loss: 0.9510050415992737\ncomm_round: 162 | global_acc: 81.250% | global_loss: 0.9470419883728027\ncomm_round: 163 | global_acc: 85.417% | global_loss: 0.9437251091003418\ncomm_round: 164 | global_acc: 81.250% | global_loss: 0.94415283203125\ncomm_round: 165 | global_acc: 85.417% | global_loss: 0.9419834017753601\ncomm_round: 166 | global_acc: 81.250% | global_loss: 0.9423112869262695\ncomm_round: 167 | global_acc: 83.333% | global_loss: 0.9397884011268616\ncomm_round: 168 | global_acc: 85.417% | global_loss: 0.9395394325256348\ncomm_round: 169 | global_acc: 81.250% | global_loss: 0.9395684599876404\ncomm_round: 170 | global_acc: 79.167% | global_loss: 0.939471423625946\ncomm_round: 171 | global_acc: 79.167% | global_loss: 0.9389143586158752\ncomm_round: 172 | global_acc: 79.167% | global_loss: 0.936699390411377\ncomm_round: 173 | global_acc: 83.333% | global_loss: 0.9361758232116699\ncomm_round: 174 | global_acc: 79.167% | global_loss: 0.9360234141349792\ncomm_round: 175 | global_acc: 79.167% | global_loss: 0.9350479245185852\ncomm_round: 176 | global_acc: 81.250% | global_loss: 0.9348986744880676\ncomm_round: 177 | global_acc: 83.333% | global_loss: 0.9302411079406738\ncomm_round: 178 | global_acc: 83.333% | global_loss: 0.9298222661018372\ncomm_round: 179 | global_acc: 81.250% | global_loss: 0.9319791197776794\ncomm_round: 180 | global_acc: 83.333% | global_loss: 0.9277638792991638\ncomm_round: 181 | global_acc: 81.250% | global_loss: 0.9279921650886536\ncomm_round: 182 | global_acc: 81.250% | global_loss: 0.9306092262268066\ncomm_round: 183 | global_acc: 81.250% | global_loss: 0.9290053844451904\ncomm_round: 184 | global_acc: 83.333% | global_loss: 0.9266183376312256\ncomm_round: 185 | global_acc: 85.417% | global_loss: 0.9237515330314636\ncomm_round: 186 | global_acc: 81.250% | global_loss: 0.9247892498970032\ncomm_round: 187 | global_acc: 83.333% | global_loss: 0.9230995774269104\ncomm_round: 188 | global_acc: 81.250% | global_loss: 0.9268620610237122\ncomm_round: 189 | global_acc: 83.333% | global_loss: 0.9241145253181458\ncomm_round: 190 | global_acc: 83.333% | global_loss: 0.921988308429718\ncomm_round: 191 | global_acc: 83.333% | global_loss: 0.9220396876335144\ncomm_round: 192 | global_acc: 83.333% | global_loss: 0.9185335636138916\ncomm_round: 193 | global_acc: 81.250% | global_loss: 0.9230408668518066\ncomm_round: 194 | global_acc: 83.333% | global_loss: 0.9199736714363098\ncomm_round: 195 | global_acc: 83.333% | global_loss: 0.9176149964332581\ncomm_round: 196 | global_acc: 81.250% | global_loss: 0.9208502769470215\ncomm_round: 197 | global_acc: 83.333% | global_loss: 0.9196532368659973\ncomm_round: 198 | global_acc: 83.333% | global_loss: 0.9151239395141602\ncomm_round: 199 | global_acc: 83.333% | global_loss: 0.9155272841453552\n",
          "output_type": "stream"
        }
      ]
    },
    {
      "cell_type": "code",
      "source": [
        "_visualise(_case4Model, _case4Accuracy, _case4Loss)"
      ],
      "metadata": {
        "execution": {
          "iopub.status.busy": "2022-06-12T18:30:19.455614Z",
          "iopub.execute_input": "2022-06-12T18:30:19.456068Z",
          "iopub.status.idle": "2022-06-12T18:30:19.693446Z",
          "shell.execute_reply.started": "2022-06-12T18:30:19.456030Z",
          "shell.execute_reply": "2022-06-12T18:30:19.692237Z"
        },
        "trusted": true,
        "id": "NGdUxcka_bIL",
        "outputId": "514ba734-1ae8-475b-e60d-7570f0f7e2aa"
      },
      "execution_count": null,
      "outputs": [
        {
          "output_type": "display_data",
          "data": {
            "text/plain": "<Figure size 432x288 with 1 Axes>",
            "image/png": "[encoded data removed]"
          },
          "metadata": {
            "needs_background": "light"
          }
        }
      ]
    },
    {
      "cell_type": "code",
      "source": [
        "test_acc = list()\n",
        "test_loss = list()\n",
        "for (X_test, Y_test) in test_batched:\n",
        "    global_test_acc, global_test_loss = test_model(X_test, Y_test, _case4Model, comm_round=1)\n",
        "    test_acc.append(global_test_acc)\n",
        "    test_loss.append(global_test_loss)"
      ],
      "metadata": {
        "execution": {
          "iopub.status.busy": "2022-06-12T18:30:19.694870Z",
          "iopub.execute_input": "2022-06-12T18:30:19.696139Z",
          "iopub.status.idle": "2022-06-12T18:30:19.819982Z",
          "shell.execute_reply.started": "2022-06-12T18:30:19.696097Z",
          "shell.execute_reply": "2022-06-12T18:30:19.818762Z"
        },
        "trusted": true,
        "id": "lgomFdN1_bIL",
        "outputId": "0e65aa03-3227-408a-be76-7724e7fe040f"
      },
      "execution_count": null,
      "outputs": [
        {
          "name": "stdout",
          "text": "comm_round: 1 | global_acc: 90.420% | global_loss: 0.8526398539543152\n",
          "output_type": "stream"
        }
      ]
    },
    {
      "cell_type": "markdown",
      "source": [
        "CASE 5:\n",
        "* Sharing deep weights every 10th epoch, 3 shallow and 3 deep layers"
      ],
      "metadata": {
        "id": "RIVxldkz_bIM"
      }
    },
    {
      "cell_type": "code",
      "source": [
        "_case5Model, _case5Accuracy, _case5Loss  = _trainModel(10, 3, 6) "
      ],
      "metadata": {
        "execution": {
          "iopub.status.busy": "2022-06-12T18:30:19.821674Z",
          "iopub.execute_input": "2022-06-12T18:30:19.822255Z",
          "iopub.status.idle": "2022-06-12T19:00:05.904209Z",
          "shell.execute_reply.started": "2022-06-12T18:30:19.822214Z",
          "shell.execute_reply": "2022-06-12T19:00:05.903016Z"
        },
        "trusted": true,
        "id": "kr29uXmd_bIM",
        "outputId": "9c871494-df2f-4582-85f8-c772e3527de7"
      },
      "execution_count": null,
      "outputs": [
        {
          "name": "stdout",
          "text": "comm_round: 0 | global_acc: 31.250% | global_loss: 1.3828779458999634\ncomm_round: 1 | global_acc: 31.250% | global_loss: 1.3815914392471313\ncomm_round: 2 | global_acc: 31.250% | global_loss: 1.380374550819397\ncomm_round: 3 | global_acc: 31.250% | global_loss: 1.379428505897522\ncomm_round: 4 | global_acc: 33.333% | global_loss: 1.3785549402236938\ncomm_round: 5 | global_acc: 29.167% | global_loss: 1.3779693841934204\ncomm_round: 6 | global_acc: 29.167% | global_loss: 1.3776086568832397\ncomm_round: 7 | global_acc: 29.167% | global_loss: 1.377266526222229\ncomm_round: 8 | global_acc: 29.167% | global_loss: 1.3767293691635132\ncomm_round: 9 | global_acc: 29.167% | global_loss: 1.3760119676589966\ncomm_round: 10 | global_acc: 29.167% | global_loss: 1.3724604845046997\ncomm_round: 11 | global_acc: 29.167% | global_loss: 1.3714022636413574\ncomm_round: 12 | global_acc: 29.167% | global_loss: 1.3702524900436401\ncomm_round: 13 | global_acc: 29.167% | global_loss: 1.3690223693847656\ncomm_round: 14 | global_acc: 29.167% | global_loss: 1.3676838874816895\ncomm_round: 15 | global_acc: 29.167% | global_loss: 1.3661397695541382\ncomm_round: 16 | global_acc: 29.167% | global_loss: 1.3642936944961548\ncomm_round: 17 | global_acc: 29.167% | global_loss: 1.362223744392395\ncomm_round: 18 | global_acc: 29.167% | global_loss: 1.3599162101745605\ncomm_round: 19 | global_acc: 29.167% | global_loss: 1.357261061668396\ncomm_round: 20 | global_acc: 29.167% | global_loss: 1.3481460809707642\ncomm_round: 21 | global_acc: 29.167% | global_loss: 1.3435319662094116\ncomm_round: 22 | global_acc: 31.250% | global_loss: 1.3392090797424316\ncomm_round: 23 | global_acc: 29.167% | global_loss: 1.335053563117981\ncomm_round: 24 | global_acc: 31.250% | global_loss: 1.330968976020813\ncomm_round: 25 | global_acc: 31.250% | global_loss: 1.3266887664794922\ncomm_round: 26 | global_acc: 31.250% | global_loss: 1.3224190473556519\ncomm_round: 27 | global_acc: 33.333% | global_loss: 1.3181265592575073\ncomm_round: 28 | global_acc: 33.333% | global_loss: 1.3139822483062744\ncomm_round: 29 | global_acc: 33.333% | global_loss: 1.3097091913223267\ncomm_round: 30 | global_acc: 52.083% | global_loss: 1.295633316040039\ncomm_round: 31 | global_acc: 47.917% | global_loss: 1.290639877319336\ncomm_round: 32 | global_acc: 45.833% | global_loss: 1.2856348752975464\ncomm_round: 33 | global_acc: 45.833% | global_loss: 1.2811342477798462\ncomm_round: 34 | global_acc: 47.917% | global_loss: 1.2766588926315308\ncomm_round: 35 | global_acc: 52.083% | global_loss: 1.2726316452026367\ncomm_round: 36 | global_acc: 52.083% | global_loss: 1.268128514289856\ncomm_round: 37 | global_acc: 54.167% | global_loss: 1.2639366388320923\ncomm_round: 38 | global_acc: 52.083% | global_loss: 1.2600810527801514\ncomm_round: 39 | global_acc: 52.083% | global_loss: 1.2562745809555054\ncomm_round: 40 | global_acc: 56.250% | global_loss: 1.2406994104385376\ncomm_round: 41 | global_acc: 56.250% | global_loss: 1.2351669073104858\ncomm_round: 42 | global_acc: 56.250% | global_loss: 1.2306369543075562\ncomm_round: 43 | global_acc: 58.333% | global_loss: 1.2263778448104858\ncomm_round: 44 | global_acc: 58.333% | global_loss: 1.2226003408432007\ncomm_round: 45 | global_acc: 58.333% | global_loss: 1.2189306020736694\ncomm_round: 46 | global_acc: 58.333% | global_loss: 1.2157598733901978\ncomm_round: 47 | global_acc: 62.500% | global_loss: 1.21238374710083\ncomm_round: 48 | global_acc: 62.500% | global_loss: 1.2092609405517578\ncomm_round: 49 | global_acc: 62.500% | global_loss: 1.205794095993042\ncomm_round: 50 | global_acc: 60.417% | global_loss: 1.1943292617797852\ncomm_round: 51 | global_acc: 62.500% | global_loss: 1.1899659633636475\ncomm_round: 52 | global_acc: 62.500% | global_loss: 1.1862258911132812\ncomm_round: 53 | global_acc: 64.583% | global_loss: 1.1839227676391602\ncomm_round: 54 | global_acc: 66.667% | global_loss: 1.1808527708053589\ncomm_round: 55 | global_acc: 66.667% | global_loss: 1.1784604787826538\ncomm_round: 56 | global_acc: 66.667% | global_loss: 1.1760153770446777\ncomm_round: 57 | global_acc: 68.750% | global_loss: 1.1737061738967896\ncomm_round: 58 | global_acc: 68.750% | global_loss: 1.1717560291290283\ncomm_round: 59 | global_acc: 68.750% | global_loss: 1.169777750968933\ncomm_round: 60 | global_acc: 64.583% | global_loss: 1.1609312295913696\ncomm_round: 61 | global_acc: 66.667% | global_loss: 1.157804012298584\ncomm_round: 62 | global_acc: 68.750% | global_loss: 1.1559854745864868\ncomm_round: 63 | global_acc: 68.750% | global_loss: 1.1544855833053589\ncomm_round: 64 | global_acc: 68.750% | global_loss: 1.1529432535171509\ncomm_round: 65 | global_acc: 66.667% | global_loss: 1.1513341665267944\ncomm_round: 66 | global_acc: 66.667% | global_loss: 1.149814248085022\ncomm_round: 67 | global_acc: 66.667% | global_loss: 1.1483889818191528\ncomm_round: 68 | global_acc: 66.667% | global_loss: 1.1472772359848022\ncomm_round: 69 | global_acc: 66.667% | global_loss: 1.145949363708496\ncomm_round: 70 | global_acc: 64.583% | global_loss: 1.1395368576049805\ncomm_round: 71 | global_acc: 64.583% | global_loss: 1.1377464532852173\ncomm_round: 72 | global_acc: 64.583% | global_loss: 1.1362656354904175\ncomm_round: 73 | global_acc: 64.583% | global_loss: 1.1351916790008545\ncomm_round: 74 | global_acc: 64.583% | global_loss: 1.13422691822052\ncomm_round: 75 | global_acc: 64.583% | global_loss: 1.1333894729614258\ncomm_round: 76 | global_acc: 64.583% | global_loss: 1.1325191259384155\ncomm_round: 77 | global_acc: 64.583% | global_loss: 1.132096290588379\ncomm_round: 78 | global_acc: 64.583% | global_loss: 1.131196141242981\ncomm_round: 79 | global_acc: 66.667% | global_loss: 1.1300618648529053\ncomm_round: 80 | global_acc: 64.583% | global_loss: 1.1229400634765625\ncomm_round: 81 | global_acc: 64.583% | global_loss: 1.1223517656326294\ncomm_round: 82 | global_acc: 64.583% | global_loss: 1.1218669414520264\ncomm_round: 83 | global_acc: 64.583% | global_loss: 1.1211340427398682\ncomm_round: 84 | global_acc: 64.583% | global_loss: 1.1206804513931274\ncomm_round: 85 | global_acc: 64.583% | global_loss: 1.1196614503860474\ncomm_round: 86 | global_acc: 64.583% | global_loss: 1.1194590330123901\ncomm_round: 87 | global_acc: 64.583% | global_loss: 1.1187740564346313\ncomm_round: 88 | global_acc: 64.583% | global_loss: 1.1188944578170776\ncomm_round: 89 | global_acc: 64.583% | global_loss: 1.1181851625442505\ncomm_round: 90 | global_acc: 64.583% | global_loss: 1.112316370010376\ncomm_round: 91 | global_acc: 64.583% | global_loss: 1.1121670007705688\ncomm_round: 92 | global_acc: 64.583% | global_loss: 1.1117995977401733\ncomm_round: 93 | global_acc: 64.583% | global_loss: 1.1110934019088745\ncomm_round: 94 | global_acc: 64.583% | global_loss: 1.110633134841919\ncomm_round: 95 | global_acc: 64.583% | global_loss: 1.1101328134536743\ncomm_round: 96 | global_acc: 64.583% | global_loss: 1.1101784706115723\ncomm_round: 97 | global_acc: 64.583% | global_loss: 1.1097532510757446\ncomm_round: 98 | global_acc: 64.583% | global_loss: 1.1089859008789062\ncomm_round: 99 | global_acc: 64.583% | global_loss: 1.1087788343429565\ncomm_round: 100 | global_acc: 66.667% | global_loss: 1.1018308401107788\ncomm_round: 101 | global_acc: 64.583% | global_loss: 1.1026380062103271\ncomm_round: 102 | global_acc: 64.583% | global_loss: 1.1016639471054077\ncomm_round: 103 | global_acc: 66.667% | global_loss: 1.1007977724075317\ncomm_round: 104 | global_acc: 64.583% | global_loss: 1.1006386280059814\ncomm_round: 105 | global_acc: 66.667% | global_loss: 1.099859595298767\ncomm_round: 106 | global_acc: 64.583% | global_loss: 1.0998659133911133\ncomm_round: 107 | global_acc: 64.583% | global_loss: 1.0998822450637817\ncomm_round: 108 | global_acc: 64.583% | global_loss: 1.0996917486190796\ncomm_round: 109 | global_acc: 64.583% | global_loss: 1.0982471704483032\ncomm_round: 110 | global_acc: 66.667% | global_loss: 1.0929442644119263\ncomm_round: 111 | global_acc: 70.833% | global_loss: 1.0919545888900757\ncomm_round: 112 | global_acc: 68.750% | global_loss: 1.0921918153762817\ncomm_round: 113 | global_acc: 66.667% | global_loss: 1.0922777652740479\ncomm_round: 114 | global_acc: 68.750% | global_loss: 1.091164469718933\ncomm_round: 115 | global_acc: 68.750% | global_loss: 1.0908035039901733\ncomm_round: 116 | global_acc: 68.750% | global_loss: 1.0897904634475708\ncomm_round: 117 | global_acc: 70.833% | global_loss: 1.0886818170547485\ncomm_round: 118 | global_acc: 68.750% | global_loss: 1.0887242555618286\ncomm_round: 119 | global_acc: 70.833% | global_loss: 1.0876188278198242\ncomm_round: 120 | global_acc: 68.750% | global_loss: 1.0833735466003418\ncomm_round: 121 | global_acc: 68.750% | global_loss: 1.0827745199203491\ncomm_round: 122 | global_acc: 68.750% | global_loss: 1.08330237865448\ncomm_round: 123 | global_acc: 68.750% | global_loss: 1.0826400518417358\ncomm_round: 124 | global_acc: 70.833% | global_loss: 1.0796669721603394\ncomm_round: 125 | global_acc: 70.833% | global_loss: 1.079969048500061\ncomm_round: 126 | global_acc: 70.833% | global_loss: 1.0790456533432007\ncomm_round: 127 | global_acc: 70.833% | global_loss: 1.0791000127792358\ncomm_round: 128 | global_acc: 70.833% | global_loss: 1.0780061483383179\ncomm_round: 129 | global_acc: 70.833% | global_loss: 1.0755928754806519\ncomm_round: 130 | global_acc: 72.917% | global_loss: 1.0718601942062378\ncomm_round: 131 | global_acc: 72.917% | global_loss: 1.0706053972244263\ncomm_round: 132 | global_acc: 72.917% | global_loss: 1.0713316202163696\ncomm_round: 133 | global_acc: 72.917% | global_loss: 1.0697011947631836\ncomm_round: 134 | global_acc: 75.000% | global_loss: 1.0696014165878296\ncomm_round: 135 | global_acc: 75.000% | global_loss: 1.0682233572006226\ncomm_round: 136 | global_acc: 72.917% | global_loss: 1.0695241689682007\ncomm_round: 137 | global_acc: 75.000% | global_loss: 1.0666263103485107\ncomm_round: 138 | global_acc: 72.917% | global_loss: 1.066055417060852\ncomm_round: 139 | global_acc: 72.917% | global_loss: 1.0655015707015991\ncomm_round: 140 | global_acc: 70.833% | global_loss: 1.0603526830673218\ncomm_round: 141 | global_acc: 72.917% | global_loss: 1.0608035326004028\ncomm_round: 142 | global_acc: 72.917% | global_loss: 1.060771107673645\ncomm_round: 143 | global_acc: 72.917% | global_loss: 1.0586851835250854\ncomm_round: 144 | global_acc: 72.917% | global_loss: 1.0580954551696777\ncomm_round: 145 | global_acc: 72.917% | global_loss: 1.0571304559707642\ncomm_round: 146 | global_acc: 75.000% | global_loss: 1.0539859533309937\ncomm_round: 147 | global_acc: 75.000% | global_loss: 1.0534316301345825\ncomm_round: 148 | global_acc: 75.000% | global_loss: 1.0539875030517578\ncomm_round: 149 | global_acc: 72.917% | global_loss: 1.0535699129104614\ncomm_round: 150 | global_acc: 75.000% | global_loss: 1.048993706703186\ncomm_round: 151 | global_acc: 75.000% | global_loss: 1.0479998588562012\ncomm_round: 152 | global_acc: 75.000% | global_loss: 1.0459301471710205\ncomm_round: 153 | global_acc: 75.000% | global_loss: 1.0456587076187134\ncomm_round: 154 | global_acc: 75.000% | global_loss: 1.0456215143203735\ncomm_round: 155 | global_acc: 75.000% | global_loss: 1.0437160730361938\ncomm_round: 156 | global_acc: 75.000% | global_loss: 1.0431572198867798\ncomm_round: 157 | global_acc: 75.000% | global_loss: 1.0421942472457886\ncomm_round: 158 | global_acc: 77.083% | global_loss: 1.042880892753601\ncomm_round: 159 | global_acc: 75.000% | global_loss: 1.0410336256027222\ncomm_round: 160 | global_acc: 77.083% | global_loss: 1.0363556146621704\ncomm_round: 161 | global_acc: 77.083% | global_loss: 1.0357048511505127\ncomm_round: 162 | global_acc: 77.083% | global_loss: 1.036025881767273\ncomm_round: 163 | global_acc: 77.083% | global_loss: 1.0313552618026733\ncomm_round: 164 | global_acc: 77.083% | global_loss: 1.0323859453201294\ncomm_round: 165 | global_acc: 79.167% | global_loss: 1.0330880880355835\ncomm_round: 166 | global_acc: 77.083% | global_loss: 1.0322623252868652\ncomm_round: 167 | global_acc: 79.167% | global_loss: 1.0298107862472534\ncomm_round: 168 | global_acc: 77.083% | global_loss: 1.031483769416809\ncomm_round: 169 | global_acc: 81.250% | global_loss: 1.028302550315857\ncomm_round: 170 | global_acc: 75.000% | global_loss: 1.0272482633590698\ncomm_round: 171 | global_acc: 77.083% | global_loss: 1.0272489786148071\ncomm_round: 172 | global_acc: 75.000% | global_loss: 1.0261797904968262\ncomm_round: 173 | global_acc: 81.250% | global_loss: 1.02285635471344\ncomm_round: 174 | global_acc: 77.083% | global_loss: 1.0234143733978271\ncomm_round: 175 | global_acc: 79.167% | global_loss: 1.0230388641357422\ncomm_round: 176 | global_acc: 81.250% | global_loss: 1.0198959112167358\ncomm_round: 177 | global_acc: 83.333% | global_loss: 1.0207096338272095\ncomm_round: 178 | global_acc: 81.250% | global_loss: 1.018918514251709\ncomm_round: 179 | global_acc: 81.250% | global_loss: 1.016200065612793\ncomm_round: 180 | global_acc: 81.250% | global_loss: 1.0150213241577148\ncomm_round: 181 | global_acc: 81.250% | global_loss: 1.0135773420333862\ncomm_round: 182 | global_acc: 81.250% | global_loss: 1.0140103101730347\ncomm_round: 183 | global_acc: 83.333% | global_loss: 1.0124942064285278\ncomm_round: 184 | global_acc: 81.250% | global_loss: 1.0096739530563354\ncomm_round: 185 | global_acc: 83.333% | global_loss: 1.0115160942077637\ncomm_round: 186 | global_acc: 81.250% | global_loss: 1.0117372274398804\ncomm_round: 187 | global_acc: 83.333% | global_loss: 1.009374976158142\ncomm_round: 188 | global_acc: 83.333% | global_loss: 1.008400559425354\ncomm_round: 189 | global_acc: 85.417% | global_loss: 1.006696105003357\ncomm_round: 190 | global_acc: 81.250% | global_loss: 1.0098658800125122\ncomm_round: 191 | global_acc: 81.250% | global_loss: 1.0080997943878174\ncomm_round: 192 | global_acc: 83.333% | global_loss: 1.0059332847595215\ncomm_round: 193 | global_acc: 83.333% | global_loss: 1.0021408796310425\ncomm_round: 194 | global_acc: 83.333% | global_loss: 1.0023850202560425\ncomm_round: 195 | global_acc: 83.333% | global_loss: 1.0014511346817017\ncomm_round: 196 | global_acc: 83.333% | global_loss: 1.0024999380111694\ncomm_round: 197 | global_acc: 83.333% | global_loss: 1.0010685920715332\ncomm_round: 198 | global_acc: 85.417% | global_loss: 0.9997563362121582\ncomm_round: 199 | global_acc: 85.417% | global_loss: 0.9974011778831482\n",
          "output_type": "stream"
        }
      ]
    },
    {
      "cell_type": "code",
      "source": [
        "_visualise(_case5Model, _case5Accuracy, _case5Loss)"
      ],
      "metadata": {
        "execution": {
          "iopub.status.busy": "2022-06-12T19:00:05.905944Z",
          "iopub.execute_input": "2022-06-12T19:00:05.906989Z",
          "iopub.status.idle": "2022-06-12T19:00:06.133265Z",
          "shell.execute_reply.started": "2022-06-12T19:00:05.906947Z",
          "shell.execute_reply": "2022-06-12T19:00:06.132333Z"
        },
        "trusted": true,
        "id": "mStq-lFb_bIM",
        "outputId": "8deae3c2-b7a6-47c9-ed5c-7155a3face3c"
      },
      "execution_count": null,
      "outputs": [
        {
          "output_type": "display_data",
          "data": {
            "text/plain": "<Figure size 432x288 with 1 Axes>",
            "image/png": "[encoded data removed]"
          },
          "metadata": {
            "needs_background": "light"
          }
        }
      ]
    },
    {
      "cell_type": "code",
      "source": [
        "test_acc = list()\n",
        "test_loss = list()\n",
        "for (X_test, Y_test) in test_batched:\n",
        "    global_test_acc, global_test_loss = test_model(X_test, Y_test, _case5Model, comm_round=1)\n",
        "    test_acc.append(global_test_acc)\n",
        "    test_loss.append(global_test_loss)"
      ],
      "metadata": {
        "execution": {
          "iopub.status.busy": "2022-06-12T19:00:06.134631Z",
          "iopub.execute_input": "2022-06-12T19:00:06.135096Z",
          "iopub.status.idle": "2022-06-12T19:00:06.260665Z",
          "shell.execute_reply.started": "2022-06-12T19:00:06.135056Z",
          "shell.execute_reply": "2022-06-12T19:00:06.259518Z"
        },
        "trusted": true,
        "id": "BO6PYdeP_bIM",
        "outputId": "6d9f8388-df5f-4bd1-c15c-0f1cf631dd25"
      },
      "execution_count": null,
      "outputs": [
        {
          "name": "stdout",
          "text": "comm_round: 1 | global_acc: 85.194% | global_loss: 0.9249021410942078\n",
          "output_type": "stream"
        }
      ]
    },
    {
      "cell_type": "markdown",
      "source": [
        "CASE 6:\n",
        "* Sharing deep weights every epoch, 3 shallow and 3 deep layers"
      ],
      "metadata": {
        "id": "Z--UDK2e_bIN"
      }
    },
    {
      "cell_type": "code",
      "source": [
        "_case6Model, _case6Accuracy, _case6Loss  = _trainModel(1, 3, 6) "
      ],
      "metadata": {
        "execution": {
          "iopub.status.busy": "2022-06-12T19:00:06.262362Z",
          "iopub.execute_input": "2022-06-12T19:00:06.262747Z",
          "iopub.status.idle": "2022-06-12T19:30:23.162649Z",
          "shell.execute_reply.started": "2022-06-12T19:00:06.262708Z",
          "shell.execute_reply": "2022-06-12T19:30:23.161505Z"
        },
        "trusted": true,
        "id": "WB8zoptA_bIN",
        "outputId": "4ae0ef8e-701f-49d4-8fc5-cdcff2d08209"
      },
      "execution_count": null,
      "outputs": [
        {
          "name": "stdout",
          "text": "comm_round: 0 | global_acc: 25.000% | global_loss: 1.379707932472229\ncomm_round: 1 | global_acc: 25.000% | global_loss: 1.378203272819519\ncomm_round: 2 | global_acc: 25.000% | global_loss: 1.3765827417373657\ncomm_round: 3 | global_acc: 25.000% | global_loss: 1.3751741647720337\ncomm_round: 4 | global_acc: 22.917% | global_loss: 1.373552918434143\ncomm_round: 5 | global_acc: 22.917% | global_loss: 1.371939778327942\ncomm_round: 6 | global_acc: 29.167% | global_loss: 1.370370864868164\ncomm_round: 7 | global_acc: 33.333% | global_loss: 1.3688379526138306\ncomm_round: 8 | global_acc: 37.500% | global_loss: 1.36724054813385\ncomm_round: 9 | global_acc: 39.583% | global_loss: 1.365594506263733\ncomm_round: 10 | global_acc: 47.917% | global_loss: 1.3633695840835571\ncomm_round: 11 | global_acc: 52.083% | global_loss: 1.3600586652755737\ncomm_round: 12 | global_acc: 50.000% | global_loss: 1.355454444885254\ncomm_round: 13 | global_acc: 52.083% | global_loss: 1.3495036363601685\ncomm_round: 14 | global_acc: 52.083% | global_loss: 1.3422431945800781\ncomm_round: 15 | global_acc: 50.000% | global_loss: 1.3343092203140259\ncomm_round: 16 | global_acc: 47.917% | global_loss: 1.3256502151489258\ncomm_round: 17 | global_acc: 50.000% | global_loss: 1.3164246082305908\ncomm_round: 18 | global_acc: 50.000% | global_loss: 1.3070186376571655\ncomm_round: 19 | global_acc: 52.083% | global_loss: 1.297249674797058\ncomm_round: 20 | global_acc: 54.167% | global_loss: 1.2876054048538208\ncomm_round: 21 | global_acc: 54.167% | global_loss: 1.2778533697128296\ncomm_round: 22 | global_acc: 58.333% | global_loss: 1.2682890892028809\ncomm_round: 23 | global_acc: 58.333% | global_loss: 1.2591025829315186\ncomm_round: 24 | global_acc: 60.417% | global_loss: 1.249776840209961\ncomm_round: 25 | global_acc: 60.417% | global_loss: 1.2399908304214478\ncomm_round: 26 | global_acc: 62.500% | global_loss: 1.2304571866989136\ncomm_round: 27 | global_acc: 64.583% | global_loss: 1.2211273908615112\ncomm_round: 28 | global_acc: 64.583% | global_loss: 1.211814522743225\ncomm_round: 29 | global_acc: 64.583% | global_loss: 1.2034484148025513\ncomm_round: 30 | global_acc: 62.500% | global_loss: 1.1944423913955688\ncomm_round: 31 | global_acc: 64.583% | global_loss: 1.186273455619812\ncomm_round: 32 | global_acc: 62.500% | global_loss: 1.1785560846328735\ncomm_round: 33 | global_acc: 64.583% | global_loss: 1.1710559129714966\ncomm_round: 34 | global_acc: 64.583% | global_loss: 1.1644608974456787\ncomm_round: 35 | global_acc: 68.750% | global_loss: 1.1574209928512573\ncomm_round: 36 | global_acc: 68.750% | global_loss: 1.151023030281067\ncomm_round: 37 | global_acc: 70.833% | global_loss: 1.1449882984161377\ncomm_round: 38 | global_acc: 70.833% | global_loss: 1.1387314796447754\ncomm_round: 39 | global_acc: 70.833% | global_loss: 1.1339712142944336\ncomm_round: 40 | global_acc: 70.833% | global_loss: 1.1291297674179077\ncomm_round: 41 | global_acc: 70.833% | global_loss: 1.1239749193191528\ncomm_round: 42 | global_acc: 72.917% | global_loss: 1.11976158618927\ncomm_round: 43 | global_acc: 72.917% | global_loss: 1.1158679723739624\ncomm_round: 44 | global_acc: 72.917% | global_loss: 1.111790657043457\ncomm_round: 45 | global_acc: 72.917% | global_loss: 1.1084232330322266\ncomm_round: 46 | global_acc: 72.917% | global_loss: 1.1055173873901367\ncomm_round: 47 | global_acc: 72.917% | global_loss: 1.102033019065857\ncomm_round: 48 | global_acc: 72.917% | global_loss: 1.0988365411758423\ncomm_round: 49 | global_acc: 72.917% | global_loss: 1.096208095550537\ncomm_round: 50 | global_acc: 72.917% | global_loss: 1.093257188796997\ncomm_round: 51 | global_acc: 72.917% | global_loss: 1.090631127357483\ncomm_round: 52 | global_acc: 72.917% | global_loss: 1.0873746871948242\ncomm_round: 53 | global_acc: 72.917% | global_loss: 1.0852044820785522\ncomm_round: 54 | global_acc: 72.917% | global_loss: 1.0830492973327637\ncomm_round: 55 | global_acc: 72.917% | global_loss: 1.0812853574752808\ncomm_round: 56 | global_acc: 72.917% | global_loss: 1.0787036418914795\ncomm_round: 57 | global_acc: 72.917% | global_loss: 1.0768221616744995\ncomm_round: 58 | global_acc: 72.917% | global_loss: 1.0734535455703735\ncomm_round: 59 | global_acc: 72.917% | global_loss: 1.0718408823013306\ncomm_round: 60 | global_acc: 72.917% | global_loss: 1.069930911064148\ncomm_round: 61 | global_acc: 72.917% | global_loss: 1.0669560432434082\ncomm_round: 62 | global_acc: 72.917% | global_loss: 1.0642143487930298\ncomm_round: 63 | global_acc: 72.917% | global_loss: 1.0619993209838867\ncomm_round: 64 | global_acc: 72.917% | global_loss: 1.0598810911178589\ncomm_round: 65 | global_acc: 72.917% | global_loss: 1.0570038557052612\ncomm_round: 66 | global_acc: 75.000% | global_loss: 1.0544078350067139\ncomm_round: 67 | global_acc: 77.083% | global_loss: 1.0516763925552368\ncomm_round: 68 | global_acc: 79.167% | global_loss: 1.0475672483444214\ncomm_round: 69 | global_acc: 79.167% | global_loss: 1.0450806617736816\ncomm_round: 70 | global_acc: 81.250% | global_loss: 1.0416494607925415\ncomm_round: 71 | global_acc: 79.167% | global_loss: 1.0388858318328857\ncomm_round: 72 | global_acc: 81.250% | global_loss: 1.034977912902832\ncomm_round: 73 | global_acc: 81.250% | global_loss: 1.0329846143722534\ncomm_round: 74 | global_acc: 81.250% | global_loss: 1.0300768613815308\ncomm_round: 75 | global_acc: 81.250% | global_loss: 1.0272620916366577\ncomm_round: 76 | global_acc: 81.250% | global_loss: 1.0253963470458984\ncomm_round: 77 | global_acc: 81.250% | global_loss: 1.0201793909072876\ncomm_round: 78 | global_acc: 81.250% | global_loss: 1.0187349319458008\ncomm_round: 79 | global_acc: 81.250% | global_loss: 1.0168853998184204\ncomm_round: 80 | global_acc: 83.333% | global_loss: 1.013059139251709\ncomm_round: 81 | global_acc: 81.250% | global_loss: 1.011027455329895\ncomm_round: 82 | global_acc: 83.333% | global_loss: 1.0071134567260742\ncomm_round: 83 | global_acc: 83.333% | global_loss: 1.0045472383499146\ncomm_round: 84 | global_acc: 83.333% | global_loss: 1.0015891790390015\ncomm_round: 85 | global_acc: 83.333% | global_loss: 0.9981047511100769\ncomm_round: 86 | global_acc: 83.333% | global_loss: 0.9963329434394836\ncomm_round: 87 | global_acc: 83.333% | global_loss: 0.9941520690917969\ncomm_round: 88 | global_acc: 83.333% | global_loss: 0.9890549778938293\ncomm_round: 89 | global_acc: 85.417% | global_loss: 0.9891872406005859\ncomm_round: 90 | global_acc: 85.417% | global_loss: 0.9876100420951843\ncomm_round: 91 | global_acc: 85.417% | global_loss: 0.9810279011726379\ncomm_round: 92 | global_acc: 85.417% | global_loss: 0.9766363501548767\ncomm_round: 93 | global_acc: 85.417% | global_loss: 0.9739775657653809\ncomm_round: 94 | global_acc: 85.417% | global_loss: 0.9718344807624817\ncomm_round: 95 | global_acc: 87.500% | global_loss: 0.9695894718170166\ncomm_round: 96 | global_acc: 85.417% | global_loss: 0.9661622047424316\ncomm_round: 97 | global_acc: 83.333% | global_loss: 0.9647946953773499\ncomm_round: 98 | global_acc: 85.417% | global_loss: 0.9595142006874084\ncomm_round: 99 | global_acc: 85.417% | global_loss: 0.9584552645683289\ncomm_round: 100 | global_acc: 85.417% | global_loss: 0.9531803131103516\ncomm_round: 101 | global_acc: 85.417% | global_loss: 0.950549304485321\ncomm_round: 102 | global_acc: 87.500% | global_loss: 0.9472811818122864\ncomm_round: 103 | global_acc: 89.583% | global_loss: 0.9448351860046387\ncomm_round: 104 | global_acc: 91.667% | global_loss: 0.9450610280036926\ncomm_round: 105 | global_acc: 89.583% | global_loss: 0.9423778057098389\ncomm_round: 106 | global_acc: 91.667% | global_loss: 0.9383501410484314\ncomm_round: 107 | global_acc: 89.583% | global_loss: 0.936039388179779\ncomm_round: 108 | global_acc: 91.667% | global_loss: 0.9327041506767273\ncomm_round: 109 | global_acc: 91.667% | global_loss: 0.9343483448028564\ncomm_round: 110 | global_acc: 91.667% | global_loss: 0.9323267340660095\ncomm_round: 111 | global_acc: 91.667% | global_loss: 0.9295313954353333\ncomm_round: 112 | global_acc: 91.667% | global_loss: 0.9268167614936829\ncomm_round: 113 | global_acc: 91.667% | global_loss: 0.9237678050994873\ncomm_round: 114 | global_acc: 91.667% | global_loss: 0.9240588545799255\ncomm_round: 115 | global_acc: 91.667% | global_loss: 0.9208836555480957\ncomm_round: 116 | global_acc: 91.667% | global_loss: 0.9202914237976074\ncomm_round: 117 | global_acc: 91.667% | global_loss: 0.9176217913627625\ncomm_round: 118 | global_acc: 91.667% | global_loss: 0.9193718433380127\ncomm_round: 119 | global_acc: 91.667% | global_loss: 0.9157045483589172\ncomm_round: 120 | global_acc: 91.667% | global_loss: 0.9149558544158936\ncomm_round: 121 | global_acc: 91.667% | global_loss: 0.9133987426757812\ncomm_round: 122 | global_acc: 91.667% | global_loss: 0.911492109298706\ncomm_round: 123 | global_acc: 91.667% | global_loss: 0.9090879559516907\ncomm_round: 124 | global_acc: 91.667% | global_loss: 0.9082403779029846\ncomm_round: 125 | global_acc: 91.667% | global_loss: 0.9077593684196472\ncomm_round: 126 | global_acc: 91.667% | global_loss: 0.9070086479187012\ncomm_round: 127 | global_acc: 91.667% | global_loss: 0.9044447541236877\ncomm_round: 128 | global_acc: 91.667% | global_loss: 0.9043173789978027\ncomm_round: 129 | global_acc: 91.667% | global_loss: 0.9018891453742981\ncomm_round: 130 | global_acc: 91.667% | global_loss: 0.8998913764953613\ncomm_round: 131 | global_acc: 91.667% | global_loss: 0.9030358195304871\ncomm_round: 132 | global_acc: 91.667% | global_loss: 0.8985519409179688\ncomm_round: 133 | global_acc: 91.667% | global_loss: 0.8994238376617432\ncomm_round: 134 | global_acc: 91.667% | global_loss: 0.8969895243644714\ncomm_round: 135 | global_acc: 91.667% | global_loss: 0.8972287178039551\ncomm_round: 136 | global_acc: 91.667% | global_loss: 0.8967675566673279\ncomm_round: 137 | global_acc: 91.667% | global_loss: 0.896168053150177\ncomm_round: 138 | global_acc: 91.667% | global_loss: 0.8950899243354797\ncomm_round: 139 | global_acc: 91.667% | global_loss: 0.8953828811645508\ncomm_round: 140 | global_acc: 91.667% | global_loss: 0.8931069374084473\ncomm_round: 141 | global_acc: 91.667% | global_loss: 0.893320620059967\ncomm_round: 142 | global_acc: 91.667% | global_loss: 0.8921248316764832\ncomm_round: 143 | global_acc: 91.667% | global_loss: 0.8914732933044434\ncomm_round: 144 | global_acc: 89.583% | global_loss: 0.8914289474487305\ncomm_round: 145 | global_acc: 91.667% | global_loss: 0.8899386525154114\ncomm_round: 146 | global_acc: 91.667% | global_loss: 0.8905518651008606\ncomm_round: 147 | global_acc: 91.667% | global_loss: 0.8892119526863098\ncomm_round: 148 | global_acc: 89.583% | global_loss: 0.8891193270683289\ncomm_round: 149 | global_acc: 91.667% | global_loss: 0.8892524838447571\ncomm_round: 150 | global_acc: 91.667% | global_loss: 0.8866676688194275\ncomm_round: 151 | global_acc: 89.583% | global_loss: 0.8867232203483582\ncomm_round: 152 | global_acc: 91.667% | global_loss: 0.8853313326835632\ncomm_round: 153 | global_acc: 91.667% | global_loss: 0.8844632506370544\ncomm_round: 154 | global_acc: 91.667% | global_loss: 0.883581817150116\ncomm_round: 155 | global_acc: 89.583% | global_loss: 0.8813431859016418\ncomm_round: 156 | global_acc: 89.583% | global_loss: 0.8827576637268066\ncomm_round: 157 | global_acc: 91.667% | global_loss: 0.8812907338142395\ncomm_round: 158 | global_acc: 89.583% | global_loss: 0.8817043304443359\ncomm_round: 159 | global_acc: 91.667% | global_loss: 0.8807775378227234\ncomm_round: 160 | global_acc: 89.583% | global_loss: 0.8788959383964539\ncomm_round: 161 | global_acc: 89.583% | global_loss: 0.8780288696289062\ncomm_round: 162 | global_acc: 91.667% | global_loss: 0.8778812289237976\ncomm_round: 163 | global_acc: 89.583% | global_loss: 0.8760970234870911\ncomm_round: 164 | global_acc: 89.583% | global_loss: 0.8747460842132568\ncomm_round: 165 | global_acc: 89.583% | global_loss: 0.8739721179008484\ncomm_round: 166 | global_acc: 89.583% | global_loss: 0.875954806804657\ncomm_round: 167 | global_acc: 89.583% | global_loss: 0.8741753697395325\ncomm_round: 168 | global_acc: 89.583% | global_loss: 0.8721429705619812\ncomm_round: 169 | global_acc: 89.583% | global_loss: 0.8713909983634949\ncomm_round: 170 | global_acc: 89.583% | global_loss: 0.8708679676055908\ncomm_round: 171 | global_acc: 89.583% | global_loss: 0.868508517742157\ncomm_round: 172 | global_acc: 89.583% | global_loss: 0.8711922764778137\ncomm_round: 173 | global_acc: 89.583% | global_loss: 0.868975818157196\ncomm_round: 174 | global_acc: 89.583% | global_loss: 0.8687477111816406\ncomm_round: 175 | global_acc: 89.583% | global_loss: 0.8694040775299072\ncomm_round: 176 | global_acc: 89.583% | global_loss: 0.867720901966095\ncomm_round: 177 | global_acc: 91.667% | global_loss: 0.8645691275596619\ncomm_round: 178 | global_acc: 89.583% | global_loss: 0.8655257225036621\ncomm_round: 179 | global_acc: 91.667% | global_loss: 0.8642570376396179\ncomm_round: 180 | global_acc: 91.667% | global_loss: 0.8624539971351624\ncomm_round: 181 | global_acc: 91.667% | global_loss: 0.8616073131561279\ncomm_round: 182 | global_acc: 91.667% | global_loss: 0.8608300089836121\ncomm_round: 183 | global_acc: 93.750% | global_loss: 0.8613292574882507\ncomm_round: 184 | global_acc: 91.667% | global_loss: 0.860697329044342\ncomm_round: 185 | global_acc: 93.750% | global_loss: 0.8587756752967834\ncomm_round: 186 | global_acc: 93.750% | global_loss: 0.8586674332618713\ncomm_round: 187 | global_acc: 91.667% | global_loss: 0.8579004406929016\ncomm_round: 188 | global_acc: 91.667% | global_loss: 0.8593220710754395\ncomm_round: 189 | global_acc: 93.750% | global_loss: 0.8573238253593445\ncomm_round: 190 | global_acc: 91.667% | global_loss: 0.8575995564460754\ncomm_round: 191 | global_acc: 91.667% | global_loss: 0.8537539839744568\ncomm_round: 192 | global_acc: 93.750% | global_loss: 0.8533211350440979\ncomm_round: 193 | global_acc: 93.750% | global_loss: 0.8529461026191711\ncomm_round: 194 | global_acc: 91.667% | global_loss: 0.8515675663948059\ncomm_round: 195 | global_acc: 93.750% | global_loss: 0.8517318367958069\ncomm_round: 196 | global_acc: 93.750% | global_loss: 0.8515493273735046\ncomm_round: 197 | global_acc: 91.667% | global_loss: 0.8503068089485168\ncomm_round: 198 | global_acc: 91.667% | global_loss: 0.8520979881286621\ncomm_round: 199 | global_acc: 91.667% | global_loss: 0.8511819839477539\n",
          "output_type": "stream"
        }
      ]
    },
    {
      "cell_type": "code",
      "source": [
        "_visualise(_case6Model, _case6Accuracy, _case6Loss)"
      ],
      "metadata": {
        "execution": {
          "iopub.status.busy": "2022-06-12T19:30:23.164495Z",
          "iopub.execute_input": "2022-06-12T19:30:23.165251Z",
          "iopub.status.idle": "2022-06-12T19:30:23.415313Z",
          "shell.execute_reply.started": "2022-06-12T19:30:23.165206Z",
          "shell.execute_reply": "2022-06-12T19:30:23.414143Z"
        },
        "trusted": true,
        "id": "tiF7ow5N_bIN",
        "outputId": "0b9f3e53-75b0-4030-8f3b-0984cde5efbd"
      },
      "execution_count": null,
      "outputs": [
        {
          "output_type": "display_data",
          "data": {
            "text/plain": "<Figure size 432x288 with 1 Axes>",
            "image/png": "[encoded data removed]"
          },
          "metadata": {
            "needs_background": "light"
          }
        }
      ]
    },
    {
      "cell_type": "code",
      "source": [
        "test_acc = list()\n",
        "test_loss = list()\n",
        "for (X_test, Y_test) in test_batched:\n",
        "    global_test_acc, global_test_loss = test_model(X_test, Y_test, _case6Model, comm_round=1)\n",
        "    test_acc.append(global_test_acc)\n",
        "    test_loss.append(global_test_loss)"
      ],
      "metadata": {
        "execution": {
          "iopub.status.busy": "2022-06-12T19:30:23.417173Z",
          "iopub.execute_input": "2022-06-12T19:30:23.417711Z",
          "iopub.status.idle": "2022-06-12T19:30:23.543035Z",
          "shell.execute_reply.started": "2022-06-12T19:30:23.417666Z",
          "shell.execute_reply": "2022-06-12T19:30:23.541329Z"
        },
        "trusted": true,
        "id": "ewI4r_MO_bIN",
        "outputId": "a9c4d669-984c-49b2-bd96-07cbeb0c8f47"
      },
      "execution_count": null,
      "outputs": [
        {
          "name": "stdout",
          "text": "comm_round: 1 | global_acc: 91.449% | global_loss: 0.8399953246116638\n",
          "output_type": "stream"
        }
      ]
    },
    {
      "cell_type": "markdown",
      "source": [
        "CASE 7:\n",
        "* Sharing deep weights every 5th epoch, 4 shallow and 2 deep layers"
      ],
      "metadata": {
        "id": "KVcJUmkB_bIO"
      }
    },
    {
      "cell_type": "code",
      "source": [
        "_case7Model, _case7Accuracy, _case7Loss  = _trainModel(5, 4, 6) "
      ],
      "metadata": {
        "execution": {
          "iopub.status.busy": "2022-06-12T19:30:23.544774Z",
          "iopub.execute_input": "2022-06-12T19:30:23.545184Z"
        },
        "trusted": true,
        "id": "Qc4nujzJ_bIO"
      },
      "execution_count": null,
      "outputs": []
    },
    {
      "cell_type": "code",
      "source": [
        "_visualise(_case7Model, _case7Accuracy, _case7Loss)"
      ],
      "metadata": {
        "trusted": true,
        "id": "32AOXiKN_bIO"
      },
      "execution_count": null,
      "outputs": []
    },
    {
      "cell_type": "code",
      "source": [
        "test_acc = list()\n",
        "test_loss = list()\n",
        "for (X_test, Y_test) in test_batched:\n",
        "    global_test_acc, global_test_loss = test_model(X_test, Y_test, _case7Model, comm_round=1)\n",
        "    test_acc.append(global_test_acc)\n",
        "    test_loss.append(global_test_loss)"
      ],
      "metadata": {
        "trusted": true,
        "id": "ICn249pA_bIO"
      },
      "execution_count": null,
      "outputs": []
    },
    {
      "cell_type": "markdown",
      "source": [
        "CASE 8:\n",
        "* Sharing deep weights every 10th epoch, 4 shallow and 2 deep layers"
      ],
      "metadata": {
        "id": "Hi3s0RLW_bIP"
      }
    },
    {
      "cell_type": "code",
      "source": [
        "_case8Model, _case8Accuracy, _case8Loss  = _trainModel(10, 4, 6) "
      ],
      "metadata": {
        "trusted": true,
        "id": "2JAC0tYl_bIP"
      },
      "execution_count": null,
      "outputs": []
    },
    {
      "cell_type": "code",
      "source": [
        "_visualise(_case8Model, _case8Accuracy, _case8Loss)"
      ],
      "metadata": {
        "trusted": true,
        "id": "MxOlM5hJ_bIP"
      },
      "execution_count": null,
      "outputs": []
    },
    {
      "cell_type": "code",
      "source": [
        "test_acc = list()\n",
        "test_loss = list()\n",
        "for (X_test, Y_test) in test_batched:\n",
        "    global_test_acc, global_test_loss = test_model(X_test, Y_test, _case8Model, comm_round=1)\n",
        "    test_acc.append(global_test_acc)\n",
        "    test_loss.append(global_test_loss)"
      ],
      "metadata": {
        "trusted": true,
        "id": "1iVirWUB_bIP"
      },
      "execution_count": null,
      "outputs": []
    },
    {
      "cell_type": "markdown",
      "source": [
        "CASE 9:\n",
        "* Sharing deep weights every epoch, 4 shallow and 2 deep layers"
      ],
      "metadata": {
        "id": "CsS23Ulh_bIP"
      }
    },
    {
      "cell_type": "code",
      "source": [
        "_case9Model, _case9Accuracy, _case9Loss  = _trainModel(1, 4, 6) "
      ],
      "metadata": {
        "trusted": true,
        "id": "xJfjbki1_bIQ"
      },
      "execution_count": null,
      "outputs": []
    },
    {
      "cell_type": "code",
      "source": [
        "_visualise(_case9Model, _case9Accuracy, _case9Loss)"
      ],
      "metadata": {
        "trusted": true,
        "id": "_ymOCU93_bIQ"
      },
      "execution_count": null,
      "outputs": []
    },
    {
      "cell_type": "code",
      "source": [
        "test_acc = list()\n",
        "test_loss = list()\n",
        "for (X_test, Y_test) in test_batched:\n",
        "    global_test_acc, global_test_loss = test_model(X_test, Y_test, _case9Model, comm_round=1)\n",
        "    test_acc.append(global_test_acc)\n",
        "    test_loss.append(global_test_loss)"
      ],
      "metadata": {
        "trusted": true,
        "id": "5Xpkxqai_bIQ"
      },
      "execution_count": null,
      "outputs": []
    }
  ]
}