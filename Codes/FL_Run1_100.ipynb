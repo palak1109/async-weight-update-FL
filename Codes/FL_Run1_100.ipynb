{
  "metadata": {
    "kernelspec": {
      "language": "python",
      "display_name": "Python 3",
      "name": "python3"
    },
    "language_info": {
      "name": "python",
      "version": "3.7.12",
      "mimetype": "text/x-python",
      "codemirror_mode": {
        "name": "ipython",
        "version": 3
      },
      "pygments_lexer": "ipython3",
      "nbconvert_exporter": "python",
      "file_extension": ".py"
    },
    "colab": {
      "name": "Group2_FL_Run1_100.ipynb",
      "provenance": []
    }
  },
  "nbformat_minor": 0,
  "nbformat": 4,
  "cells": [
    {
      "cell_type": "code",
      "source": [
        "!pip install imutils"
      ],
      "metadata": {
        "_uuid": "8f2839f25d086af736a60e9eeb907d3b93b6e0e5",
        "_cell_guid": "b1076dfc-b9ad-4769-8c92-a6c4dae69d19",
        "execution": {
          "iopub.status.busy": "2022-06-11T13:46:32.484882Z",
          "iopub.execute_input": "2022-06-11T13:46:32.485835Z",
          "iopub.status.idle": "2022-06-11T13:46:47.657899Z",
          "shell.execute_reply.started": "2022-06-11T13:46:32.485728Z",
          "shell.execute_reply": "2022-06-11T13:46:47.656924Z"
        },
        "trusted": true,
        "id": "ZtIOuZpi--2a",
        "outputId": "4aea86c4-d0c2-4409-9631-b56ecbf36c4c"
      },
      "execution_count": null,
      "outputs": [
        {
          "name": "stdout",
          "text": "Collecting imutils\n  Downloading imutils-0.5.4.tar.gz (17 kB)\n  Preparing metadata (setup.py) ... \u001b[?25ldone\n\u001b[?25hBuilding wheels for collected packages: imutils\n  Building wheel for imutils (setup.py) ... \u001b[?25ldone\n\u001b[?25h  Created wheel for imutils: filename=imutils-0.5.4-py3-none-any.whl size=25858 sha256=92781572bb5ca01fa18b545166fe6dbc9de360860e5b548921cb355f1cd90a4b\n  Stored in directory: /root/.cache/pip/wheels/86/d7/0a/4923351ed1cec5d5e24c1eaf8905567b02a0343b24aa873df2\nSuccessfully built imutils\nInstalling collected packages: imutils\nSuccessfully installed imutils-0.5.4\n\u001b[33mWARNING: Running pip as the 'root' user can result in broken permissions and conflicting behaviour with the system package manager. It is recommended to use a virtual environment instead: https://pip.pypa.io/warnings/venv\u001b[0m\u001b[33m\n\u001b[0m",
          "output_type": "stream"
        }
      ]
    },
    {
      "cell_type": "code",
      "source": [
        "import numpy as np\n",
        "import random\n",
        "import cv2\n",
        "import os\n",
        "from imutils import paths\n",
        "from sklearn.model_selection import train_test_split\n",
        "from sklearn.preprocessing import LabelBinarizer\n",
        "from sklearn.model_selection import train_test_split\n",
        "from sklearn.utils import shuffle\n",
        "from sklearn.metrics import accuracy_score\n",
        "from keras.preprocessing.image import ImageDataGenerator\n",
        "\n",
        "import tensorflow as tf\n",
        "from tensorflow.keras.models import Sequential \n",
        "from tensorflow.keras.layers import Conv2D, MaxPooling2D, Activation, Flatten, Dense, Dropout\n",
        "from tensorflow.keras.optimizers import Adam, SGD\n",
        "from tensorflow.keras import backend as K\n",
        "import matplotlib.pyplot as plt"
      ],
      "metadata": {
        "execution": {
          "iopub.status.busy": "2022-06-11T13:46:47.659590Z",
          "iopub.execute_input": "2022-06-11T13:46:47.659953Z",
          "iopub.status.idle": "2022-06-11T13:46:54.803019Z",
          "shell.execute_reply.started": "2022-06-11T13:46:47.659916Z",
          "shell.execute_reply": "2022-06-11T13:46:54.802088Z"
        },
        "trusted": true,
        "id": "_Z_TDj_I--2g"
      },
      "execution_count": null,
      "outputs": []
    },
    {
      "cell_type": "code",
      "source": [
        "# Set paths to root, train, test and validation directories\n",
        "_rootDir = '../input/braintumor/Brain/'\n",
        "#os.listdir(_rootDir)\n",
        "_trainDir = _rootDir + 'train/'\n",
        "_valDir = _rootDir + 'validation/'\n",
        "_testDir = _rootDir + 'test/'"
      ],
      "metadata": {
        "execution": {
          "iopub.status.busy": "2022-06-11T13:46:54.804231Z",
          "iopub.execute_input": "2022-06-11T13:46:54.804783Z",
          "iopub.status.idle": "2022-06-11T13:46:54.813278Z",
          "shell.execute_reply.started": "2022-06-11T13:46:54.804753Z",
          "shell.execute_reply": "2022-06-11T13:46:54.812155Z"
        },
        "trusted": true,
        "id": "L04Dw4ie--2h"
      },
      "execution_count": null,
      "outputs": []
    },
    {
      "cell_type": "code",
      "source": [
        "# Function to preprocess and store images and labels\n",
        "def load(paths, verbose=-1):\n",
        "    '''\n",
        "        return:\n",
        "            _imageList: A list of Images\n",
        "            labels: A list of corresponding Labels\n",
        "        args:\n",
        "            paths: Path to main directory \n",
        "            * Must contain images belonging to a class as a single folder\n",
        "    '''\n",
        "    _imageList = list()\n",
        "    _labelList = list()\n",
        "    \n",
        "    for (i, _imgPath) in enumerate(paths):\n",
        "        \n",
        "        img = cv2.imread(_imgPath, cv2.IMREAD_GRAYSCALE)\n",
        "        # Set the desired height and weight of image data\n",
        "        _dimensions = (32, 32)\n",
        "        \n",
        "        # resize image\n",
        "        _image = cv2.resize(img, _dimensions, interpolation = cv2.INTER_AREA)\n",
        "        numpyImage = np.array(_image).flatten()\n",
        "        \n",
        "        # rescale the image\n",
        "        mupyImage = numpyImage/255\n",
        "        label = _imgPath.split(os.path.sep)[-2]\n",
        "        #print(label)\n",
        "        \n",
        "        _imageList.append(mupyImage)\n",
        "        _labelList.append(label)\n",
        "        \n",
        "    # return a tuple of the _imageList and _labelList\n",
        "    return _imageList, _labelList"
      ],
      "metadata": {
        "execution": {
          "iopub.status.busy": "2022-06-11T13:46:54.815662Z",
          "iopub.execute_input": "2022-06-11T13:46:54.816483Z",
          "iopub.status.idle": "2022-06-11T13:46:54.829449Z",
          "shell.execute_reply.started": "2022-06-11T13:46:54.816449Z",
          "shell.execute_reply": "2022-06-11T13:46:54.828545Z"
        },
        "trusted": true,
        "id": "WZY7HDt8--2i"
      },
      "execution_count": null,
      "outputs": []
    },
    {
      "cell_type": "code",
      "source": [
        "def one_hot_encoding(path):\n",
        "    _path = list(paths.list_images(path))\n",
        "    _data, _labelList = load(_path, verbose=10000)\n",
        "    _lblzr = LabelBinarizer()\n",
        "    _labels = _lblzr.fit_transform(_labelList)\n",
        "    \n",
        "    return _data, _labels"
      ],
      "metadata": {
        "execution": {
          "iopub.status.busy": "2022-06-11T13:46:54.830857Z",
          "iopub.execute_input": "2022-06-11T13:46:54.831242Z",
          "iopub.status.idle": "2022-06-11T13:46:54.839087Z",
          "shell.execute_reply.started": "2022-06-11T13:46:54.831211Z",
          "shell.execute_reply": "2022-06-11T13:46:54.838132Z"
        },
        "trusted": true,
        "id": "31uJJY0u--2j"
      },
      "execution_count": null,
      "outputs": []
    },
    {
      "cell_type": "code",
      "source": [
        "# Preprocess training data\n",
        "_trainX, _trainY = one_hot_encoding(_trainDir)\n",
        "#print(len(_trainX))\n",
        "#print(type(_trainY))"
      ],
      "metadata": {
        "execution": {
          "iopub.status.busy": "2022-06-11T13:46:54.840014Z",
          "iopub.execute_input": "2022-06-11T13:46:54.841453Z",
          "iopub.status.idle": "2022-06-11T13:47:52.905439Z",
          "shell.execute_reply.started": "2022-06-11T13:46:54.841406Z",
          "shell.execute_reply": "2022-06-11T13:47:52.904394Z"
        },
        "trusted": true,
        "id": "iGV_AstR--2k"
      },
      "execution_count": null,
      "outputs": []
    },
    {
      "cell_type": "markdown",
      "source": [
        ""
      ],
      "metadata": {
        "id": "wiJEkOdG--2l"
      }
    },
    {
      "cell_type": "code",
      "source": [
        "# Preprocess validation and test data\n",
        "_valX, _valY = one_hot_encoding(_valDir)\n",
        "\n",
        "_testX, _testY = one_hot_encoding(_testDir)"
      ],
      "metadata": {
        "execution": {
          "iopub.status.busy": "2022-06-11T13:47:52.913914Z",
          "iopub.execute_input": "2022-06-11T13:47:52.914245Z",
          "iopub.status.idle": "2022-06-11T13:48:03.615666Z",
          "shell.execute_reply.started": "2022-06-11T13:47:52.914215Z",
          "shell.execute_reply": "2022-06-11T13:48:03.614969Z"
        },
        "trusted": true,
        "id": "X6jJ35p7--2n"
      },
      "execution_count": null,
      "outputs": []
    },
    {
      "cell_type": "code",
      "source": [
        "def create_clients(image_list, label_list, num_clients):\n",
        "    ''' return: a dictionary with keys clients' names and value as \n",
        "                data shards - tuple of images and label lists.\n",
        "        args: \n",
        "            image_list: a list of numpy arrays of training images\n",
        "            label_list:a list of binarized labels for each image\n",
        "            num_client: number of fedrated members (clients)\n",
        "            initials: the clients'name prefix, e.g, clients_1 \n",
        "            \n",
        "    '''\n",
        "\n",
        "    #create a list of client names\n",
        "    _clientNames = []\n",
        "    for i in range(num_clients):\n",
        "        _client = '{}_{}'.format('client', i+1)\n",
        "        _clientNames.append(_client)\n",
        "\n",
        "    #randomize the data\n",
        "    data = list(zip(image_list, label_list))\n",
        "    random.shuffle(data)\n",
        "\n",
        "    #shard data and place at each client\n",
        "    size = len(data)//num_clients\n",
        "    \n",
        "    _clientShards =[]\n",
        "    for i in range(0, size*num_clients, size):\n",
        "        _shard = data[i: i+size]\n",
        "        _clientShards.append(_shard)\n",
        "    \n",
        "    #number of clients must equal number of shards\n",
        "    if len(_clientShards) == len(_clientNames):\n",
        "        _clientDict = {}\n",
        "        for i in range(len(_clientNames)):\n",
        "            _clientDict[_clientNames[i]] = _clientShards[i]\n",
        "        return _clientDict\n",
        "    else:\n",
        "        return 0\n",
        "    "
      ],
      "metadata": {
        "execution": {
          "iopub.status.busy": "2022-06-11T13:48:03.616697Z",
          "iopub.execute_input": "2022-06-11T13:48:03.617508Z",
          "iopub.status.idle": "2022-06-11T13:48:03.629590Z",
          "shell.execute_reply.started": "2022-06-11T13:48:03.617462Z",
          "shell.execute_reply": "2022-06-11T13:48:03.628314Z"
        },
        "trusted": true,
        "id": "zd1gcVO3--2o"
      },
      "execution_count": null,
      "outputs": []
    },
    {
      "cell_type": "code",
      "source": [
        "clients = create_clients(_trainX, _trainY, num_clients = 7)"
      ],
      "metadata": {
        "execution": {
          "iopub.status.busy": "2022-06-11T13:48:03.633633Z",
          "iopub.execute_input": "2022-06-11T13:48:03.633992Z",
          "iopub.status.idle": "2022-06-11T13:48:03.654608Z",
          "shell.execute_reply.started": "2022-06-11T13:48:03.633961Z",
          "shell.execute_reply": "2022-06-11T13:48:03.653785Z"
        },
        "trusted": true,
        "id": "94WQoB1P--2p"
      },
      "execution_count": null,
      "outputs": []
    },
    {
      "cell_type": "code",
      "source": [
        "def batch_data(data_shard, bs=64):\n",
        "    \n",
        "    # Create tensorflow datasets from each client's data shards\n",
        "    data, label = zip(*data_shard)\n",
        "    #print(\"----------------\"+str(type(data)))\n",
        "    dataset = tf.data.Dataset.from_tensor_slices((list(data), list(label)))\n",
        "    return dataset.shuffle(len(label)).batch(bs)"
      ],
      "metadata": {
        "execution": {
          "iopub.status.busy": "2022-06-11T13:48:03.656040Z",
          "iopub.execute_input": "2022-06-11T13:48:03.656607Z",
          "iopub.status.idle": "2022-06-11T13:48:03.661998Z",
          "shell.execute_reply.started": "2022-06-11T13:48:03.656573Z",
          "shell.execute_reply": "2022-06-11T13:48:03.661044Z"
        },
        "trusted": true,
        "id": "spXhEXi8--2q"
      },
      "execution_count": null,
      "outputs": []
    },
    {
      "cell_type": "code",
      "source": [
        "# Create batches for training data\n",
        "clients_batched = dict()\n",
        "\n",
        "for (client_name, data) in clients.items():\n",
        "    clients_batched[client_name] = batch_data(data)"
      ],
      "metadata": {
        "execution": {
          "iopub.status.busy": "2022-06-11T13:48:03.663735Z",
          "iopub.execute_input": "2022-06-11T13:48:03.664215Z",
          "iopub.status.idle": "2022-06-11T13:48:04.854496Z",
          "shell.execute_reply.started": "2022-06-11T13:48:03.664179Z",
          "shell.execute_reply": "2022-06-11T13:48:04.853703Z"
        },
        "trusted": true,
        "id": "CwEdMTeJ--2r",
        "outputId": "607b23aa-8898-4e29-872f-6ccc6d9cdd94"
      },
      "execution_count": null,
      "outputs": [
        {
          "name": "stderr",
          "text": "2022-06-11 13:48:03.704404: I tensorflow/core/common_runtime/process_util.cc:146] Creating new thread pool with default inter op setting: 2. Tune using inter_op_parallelism_threads for best performance.\n",
          "output_type": "stream"
        }
      ]
    },
    {
      "cell_type": "code",
      "source": [
        "#process and batch the test set  \n",
        "test_batched = tf.data.Dataset.from_tensor_slices((_testX, _testY)).batch(len(_testY))\n",
        "\n",
        "#process and batch the test set  \n",
        "val_batched = tf.data.Dataset.from_tensor_slices((_valX, _valY)).batch(len(_valY))"
      ],
      "metadata": {
        "execution": {
          "iopub.status.busy": "2022-06-11T13:48:04.855485Z",
          "iopub.execute_input": "2022-06-11T13:48:04.856434Z",
          "iopub.status.idle": "2022-06-11T13:48:05.094201Z",
          "shell.execute_reply.started": "2022-06-11T13:48:04.856397Z",
          "shell.execute_reply": "2022-06-11T13:48:05.093304Z"
        },
        "trusted": true,
        "id": "lFRirEaE--2r"
      },
      "execution_count": null,
      "outputs": []
    },
    {
      "cell_type": "code",
      "source": [
        "# Define the hyperparameters\n",
        "lr = 0.01 \n",
        "_globalEpochs = 100\n",
        "loss='categorical_crossentropy'\n",
        "metrics = ['accuracy'] \n",
        "optimizer = SGD(lr=lr, \n",
        "                decay=lr / _globalEpochs, \n",
        "                momentum=0.9\n",
        "               )   \n",
        "activationFunction = \"relu\""
      ],
      "metadata": {
        "execution": {
          "iopub.status.busy": "2022-06-11T13:52:20.743874Z",
          "iopub.execute_input": "2022-06-11T13:52:20.744583Z",
          "iopub.status.idle": "2022-06-11T13:52:20.750726Z",
          "shell.execute_reply.started": "2022-06-11T13:52:20.744545Z",
          "shell.execute_reply": "2022-06-11T13:52:20.749611Z"
        },
        "trusted": true,
        "id": "CwRHowd8--2s",
        "outputId": "13f3efb5-56e0-488d-d9c0-91f544407862"
      },
      "execution_count": null,
      "outputs": [
        {
          "name": "stderr",
          "text": "/opt/conda/lib/python3.7/site-packages/keras/optimizer_v2/optimizer_v2.py:356: UserWarning: The `lr` argument is deprecated, use `learning_rate` instead.\n  \"The `lr` argument is deprecated, use `learning_rate` instead.\")\n",
          "output_type": "stream"
        }
      ]
    },
    {
      "cell_type": "code",
      "source": [
        "# Class for model architecture\n",
        "class MLP:\n",
        "    @staticmethod\n",
        "    def _buildModel(shape, classes):\n",
        "        model = Sequential()\n",
        "        model.add(Dense(200, input_shape=(shape,)))\n",
        "        model.add(Activation(\"relu\"))\n",
        "        model.add(Dense(200))\n",
        "        model.add(Activation(\"relu\"))\n",
        "        model.add(Dense(200))\n",
        "        model.add(Activation(\"relu\"))\n",
        "        model.add(Dense(200))\n",
        "        model.add(Activation(\"relu\"))\n",
        "        model.add(Dense(200))\n",
        "        model.add(Activation(\"relu\"))\n",
        "        model.add(Dense(classes))\n",
        "        model.add(Activation(\"softmax\"))\n",
        "        \n",
        "        return model"
      ],
      "metadata": {
        "execution": {
          "iopub.status.busy": "2022-06-11T13:50:37.990888Z",
          "iopub.execute_input": "2022-06-11T13:50:37.991968Z",
          "iopub.status.idle": "2022-06-11T13:50:37.999933Z",
          "shell.execute_reply.started": "2022-06-11T13:50:37.991927Z",
          "shell.execute_reply": "2022-06-11T13:50:37.999042Z"
        },
        "trusted": true,
        "id": "yNa1St2b--2s"
      },
      "execution_count": null,
      "outputs": []
    },
    {
      "cell_type": "code",
      "source": [
        "def _globalAverageWeights(_localWeightList):\n",
        "    _averageWeights = list()\n",
        "    \n",
        "    for _list in zip(*_localWeightList):\n",
        "        _sum = tf.math.reduce_sum(_list, axis=0)\n",
        "        _averageWeights.append(_sum)\n",
        "        \n",
        "    return _averageWeights"
      ],
      "metadata": {
        "execution": {
          "iopub.status.busy": "2022-06-11T13:48:05.128516Z",
          "iopub.execute_input": "2022-06-11T13:48:05.129396Z",
          "iopub.status.idle": "2022-06-11T13:48:05.139696Z",
          "shell.execute_reply.started": "2022-06-11T13:48:05.129355Z",
          "shell.execute_reply": "2022-06-11T13:48:05.138649Z"
        },
        "trusted": true,
        "id": "aqV_Fk3H--2u"
      },
      "execution_count": null,
      "outputs": []
    },
    {
      "cell_type": "code",
      "source": [
        "def _getScalingFactor(_trainData, _clientName, _batchSize):\n",
        "    \n",
        "    _clients = list(_trainData.keys())\n",
        "    \n",
        "    #first calculate the total training data points across clinets\n",
        "    _gblLength = list()\n",
        "    _gblCount = 0\n",
        "    \n",
        "    for client in _clients:\n",
        "        _length = tf.data.experimental.cardinality(_trainData[client]).numpy()\n",
        "        _gblLength.append(_length)\n",
        "        \n",
        "    _gblCount = sum(_gblLength) * _batchSize\n",
        "\n",
        "    # get the total number of data points held by a client\n",
        "    _lclCount = tf.data.experimental.cardinality(_trainData[_clientName]).numpy()*_batchSize\n",
        "    \n",
        "    return _lclCount/_gblCount"
      ],
      "metadata": {
        "execution": {
          "iopub.status.busy": "2022-06-11T13:48:05.140855Z",
          "iopub.execute_input": "2022-06-11T13:48:05.141649Z",
          "iopub.status.idle": "2022-06-11T13:48:05.155168Z",
          "shell.execute_reply.started": "2022-06-11T13:48:05.141614Z",
          "shell.execute_reply": "2022-06-11T13:48:05.153952Z"
        },
        "trusted": true,
        "id": "a_6s8NtE--2u"
      },
      "execution_count": null,
      "outputs": []
    },
    {
      "cell_type": "code",
      "source": [
        "def _scaleWeights(weight, scalar):\n",
        "    '''function for scaling a models weights'''\n",
        "    weight_final = []\n",
        "    steps = len(weight)\n",
        "    for i in range(steps):\n",
        "        weight_final.append(scalar * weight[i])\n",
        "    return weight_final\n"
      ],
      "metadata": {
        "execution": {
          "iopub.status.busy": "2022-06-11T13:48:05.156586Z",
          "iopub.execute_input": "2022-06-11T13:48:05.157050Z",
          "iopub.status.idle": "2022-06-11T13:48:05.166435Z",
          "shell.execute_reply.started": "2022-06-11T13:48:05.157006Z",
          "shell.execute_reply": "2022-06-11T13:48:05.165522Z"
        },
        "trusted": true,
        "id": "unrlYXJC--2v"
      },
      "execution_count": null,
      "outputs": []
    },
    {
      "cell_type": "code",
      "source": [
        "def test_model(X_test, Y_test,  model, comm_round):\n",
        "    \n",
        "    cce = tf.keras.losses.CategoricalCrossentropy(from_logits=True)\n",
        "    logits = model.predict(X_test)\n",
        "\n",
        "    loss = cce(Y_test, logits)\n",
        "\n",
        "    acc = accuracy_score(tf.argmax(logits, axis=1), tf.argmax(Y_test, axis=1))\n",
        "    print('comm_round: {} | global_acc: {:.3%} | global_loss: {}'.format(comm_round, acc, loss))\n",
        "    return acc, loss"
      ],
      "metadata": {
        "execution": {
          "iopub.status.busy": "2022-06-11T13:48:05.167827Z",
          "iopub.execute_input": "2022-06-11T13:48:05.168699Z",
          "iopub.status.idle": "2022-06-11T13:48:05.177326Z",
          "shell.execute_reply.started": "2022-06-11T13:48:05.168652Z",
          "shell.execute_reply": "2022-06-11T13:48:05.176657Z"
        },
        "trusted": true,
        "id": "y1EeYlD9--2w"
      },
      "execution_count": null,
      "outputs": []
    },
    {
      "cell_type": "code",
      "source": [
        "def _trainModel(_epochStep, _shallowLayers, _totalLayers):\n",
        "    #initialize global model\n",
        "    _globalObject = MLP()\n",
        "    globalModel = _globalObject._buildModel(1024, 4)\n",
        "\n",
        "    _globalAccuracy = list()\n",
        "    _globalLoss = list()\n",
        "    \n",
        "    shallow_index = 2 * _shallowLayers\n",
        "    total_index = 2 * _totalLayers\n",
        "    #commence global training loop\n",
        "    for _gEpoch in range(_globalEpochs):\n",
        "\n",
        "        # get the global model's weights - will serve as the initial weights for all local models\n",
        "        _globalWeights = globalModel.get_weights()\n",
        "\n",
        "        #print(type(global_weights))\n",
        "        global_deep_weights = _globalWeights[shallow_index:total_index]\n",
        "\n",
        "        #initial list to collect local model weights after scalling\n",
        "        _localWeightList = list()\n",
        "\n",
        "        #randomize client data - using keys\n",
        "        client_names= list(clients_batched.keys())\n",
        "        random.shuffle(client_names)\n",
        "        factor = 0\n",
        "        #loop through each client and create new local model\n",
        "        for client in client_names:\n",
        "            _localObject = MLP()\n",
        "            localModel = _localObject._buildModel(1024, 4)\n",
        "            localModel.compile(loss=loss, \n",
        "                          optimizer=optimizer, \n",
        "                          metrics=metrics)\n",
        "\n",
        "\n",
        "            #set local model weight to the weight of the global model\n",
        "            localModel.set_weights(_globalWeights)\n",
        "\n",
        "            #fit local model with client's data\n",
        "            localModel.fit(clients_batched[client], epochs=10, verbose=0)\n",
        "            lm = localModel.get_weights()\n",
        "\n",
        "            if _gEpoch%_epochStep != 0:\n",
        "                shallow_weights = lm[0:shallow_index]\n",
        "                deep_weights = lm[shallow_index:total_index]\n",
        "                comm_weights = shallow_weights\n",
        "            else:\n",
        "                comm_weights = lm\n",
        "\n",
        "            #scale the model weights and add to list\n",
        "            _scalingFactor = _getScalingFactor(clients_batched, client, 64)\n",
        "            scaledWeights = _scaleWeights(comm_weights, _scalingFactor)\n",
        "\n",
        "            #scaled_weights = _scaleLocalWeights(clients_batched,comm_weights, 64, client)\n",
        "            _localWeightList.append(scaledWeights)\n",
        "            factor = _scalingFactor\n",
        "\n",
        "            #clear session to free memory after each communication round\n",
        "            K.clear_session()\n",
        "\n",
        "        globalScaledWeights = _scaleWeights(global_deep_weights, factor)\n",
        "\n",
        "        if _gEpoch%_epochStep != 0:\n",
        "            final_weights = list()\n",
        "            for i in range(len(_localWeightList)):\n",
        "                _weight = _localWeightList[i] + globalScaledWeights\n",
        "                final_weights.append(_weight)\n",
        "\n",
        "        else:\n",
        "            final_weights = _localWeightList\n",
        "\n",
        "        #to get the average over all the local model, we simply take the sum of the scaled weights\n",
        "        #average_weights = sum_scaled_weights(scaled_local_weight_list)\n",
        "        average_weights = _globalAverageWeights(final_weights)\n",
        "\n",
        "        #update global model \n",
        "        globalModel.set_weights(average_weights)\n",
        "\n",
        "        #test global model and print out metrics after each communications round\n",
        "\n",
        "        for(X_val, Y_val) in val_batched:\n",
        "            global_acc, global_loss = test_model(X_val, Y_val, globalModel, _gEpoch)\n",
        "            _globalAccuracy.append(global_acc)\n",
        "            _globalLoss.append(global_loss)\n",
        "        \n",
        "    return globalModel,_globalAccuracy, _globalLoss\n",
        "        "
      ],
      "metadata": {
        "execution": {
          "iopub.status.busy": "2022-06-11T13:53:07.780486Z",
          "iopub.execute_input": "2022-06-11T13:53:07.780939Z",
          "iopub.status.idle": "2022-06-11T13:53:07.797840Z",
          "shell.execute_reply.started": "2022-06-11T13:53:07.780905Z",
          "shell.execute_reply": "2022-06-11T13:53:07.796759Z"
        },
        "trusted": true,
        "id": "jRVU2_FR--2w"
      },
      "execution_count": null,
      "outputs": []
    },
    {
      "cell_type": "code",
      "source": [
        "def _visualise(_model,_acc, _loss):\n",
        "    plt.plot(_acc)\n",
        "    plt.plot(_loss)\n",
        "    plt.title('Global Accuracy and Loss')\n",
        "    plt.ylabel('Accuracy/Loss')\n",
        "    plt.xlabel('epoch')\n",
        "    plt.legend(['accuracy', 'loss'], loc='upper left')\n",
        "    plt.show()"
      ],
      "metadata": {
        "execution": {
          "iopub.status.busy": "2022-06-11T13:49:40.227399Z",
          "iopub.execute_input": "2022-06-11T13:49:40.227776Z",
          "iopub.status.idle": "2022-06-11T13:49:40.233168Z",
          "shell.execute_reply.started": "2022-06-11T13:49:40.227737Z",
          "shell.execute_reply": "2022-06-11T13:49:40.232431Z"
        },
        "trusted": true,
        "id": "D8u_mDYl--2y"
      },
      "execution_count": null,
      "outputs": []
    },
    {
      "cell_type": "markdown",
      "source": [
        "CASE 1: \n",
        "* Sharing deep weights every 5th epoch, 1 - shallow and 5 deep layers"
      ],
      "metadata": {
        "id": "nkHDspqR--2z"
      }
    },
    {
      "cell_type": "code",
      "source": [
        "_case1Model, _case1Accuracy, _case1Loss  = _trainModel(5, 1, 6) \n",
        "# # Plotting the graph for accuracy/loss VS number of epochs\n",
        "# plt.plot(_globalAccuracy)\n",
        "# plt.plot(_globalLoss)\n",
        "# plt.title('Global Accuracy and Loss')\n",
        "# plt.ylabel('Accuracy/Loss')\n",
        "# plt.xlabel('epoch')\n",
        "# plt.legend(['accuracy', 'loss'], loc='upper left')\n",
        "# plt.show()\n",
        "\n"
      ],
      "metadata": {
        "execution": {
          "iopub.status.busy": "2022-06-11T13:53:12.779602Z",
          "iopub.execute_input": "2022-06-11T13:53:12.779993Z",
          "iopub.status.idle": "2022-06-11T14:09:51.018369Z",
          "shell.execute_reply.started": "2022-06-11T13:53:12.779962Z",
          "shell.execute_reply": "2022-06-11T14:09:51.017362Z"
        },
        "trusted": true,
        "id": "MJH83xrq--20",
        "outputId": "4372827f-aa23-40ca-aca5-b68cb12ffe62"
      },
      "execution_count": null,
      "outputs": [
        {
          "name": "stdout",
          "text": "comm_round: 0 | global_acc: 66.667% | global_loss: 1.1719416379928589\ncomm_round: 1 | global_acc: 62.500% | global_loss: 1.1659414768218994\ncomm_round: 2 | global_acc: 58.333% | global_loss: 1.1750611066818237\ncomm_round: 3 | global_acc: 62.500% | global_loss: 1.1514034271240234\ncomm_round: 4 | global_acc: 62.500% | global_loss: 1.1409112215042114\ncomm_round: 5 | global_acc: 75.000% | global_loss: 1.0466939210891724\ncomm_round: 6 | global_acc: 75.000% | global_loss: 1.018142580986023\ncomm_round: 7 | global_acc: 77.083% | global_loss: 1.0167292356491089\ncomm_round: 8 | global_acc: 70.833% | global_loss: 1.005527377128601\ncomm_round: 9 | global_acc: 75.000% | global_loss: 1.0036940574645996\ncomm_round: 10 | global_acc: 77.083% | global_loss: 0.956934928894043\ncomm_round: 11 | global_acc: 77.083% | global_loss: 0.9528508186340332\ncomm_round: 12 | global_acc: 87.500% | global_loss: 0.9382146000862122\ncomm_round: 13 | global_acc: 89.583% | global_loss: 0.9248809814453125\ncomm_round: 14 | global_acc: 91.667% | global_loss: 0.919558584690094\ncomm_round: 15 | global_acc: 85.417% | global_loss: 0.9168646931648254\ncomm_round: 16 | global_acc: 91.667% | global_loss: 0.889021635055542\ncomm_round: 17 | global_acc: 91.667% | global_loss: 0.8858353495597839\ncomm_round: 18 | global_acc: 89.583% | global_loss: 0.8934054970741272\ncomm_round: 19 | global_acc: 91.667% | global_loss: 0.8926330208778381\ncomm_round: 20 | global_acc: 87.500% | global_loss: 0.8873887658119202\ncomm_round: 21 | global_acc: 89.583% | global_loss: 0.8808818459510803\ncomm_round: 22 | global_acc: 91.667% | global_loss: 0.8690669536590576\ncomm_round: 23 | global_acc: 91.667% | global_loss: 0.8661732077598572\ncomm_round: 24 | global_acc: 91.667% | global_loss: 0.8667667508125305\ncomm_round: 25 | global_acc: 91.667% | global_loss: 0.8640092015266418\ncomm_round: 26 | global_acc: 91.667% | global_loss: 0.8614022135734558\ncomm_round: 27 | global_acc: 91.667% | global_loss: 0.8631753921508789\ncomm_round: 28 | global_acc: 91.667% | global_loss: 0.8647165894508362\ncomm_round: 29 | global_acc: 91.667% | global_loss: 0.8627550601959229\ncomm_round: 30 | global_acc: 87.500% | global_loss: 0.8678956031799316\ncomm_round: 31 | global_acc: 89.583% | global_loss: 0.8625866770744324\ncomm_round: 32 | global_acc: 89.583% | global_loss: 0.855018675327301\ncomm_round: 33 | global_acc: 91.667% | global_loss: 0.8544079661369324\ncomm_round: 34 | global_acc: 89.583% | global_loss: 0.8587056994438171\ncomm_round: 35 | global_acc: 87.500% | global_loss: 0.8625669479370117\ncomm_round: 36 | global_acc: 89.583% | global_loss: 0.8568804860115051\ncomm_round: 37 | global_acc: 89.583% | global_loss: 0.8575692772865295\ncomm_round: 38 | global_acc: 89.583% | global_loss: 0.8582267761230469\ncomm_round: 39 | global_acc: 89.583% | global_loss: 0.8571934700012207\ncomm_round: 40 | global_acc: 89.583% | global_loss: 0.8574223518371582\ncomm_round: 41 | global_acc: 89.583% | global_loss: 0.8539085388183594\ncomm_round: 42 | global_acc: 89.583% | global_loss: 0.8543512225151062\ncomm_round: 43 | global_acc: 89.583% | global_loss: 0.8507435321807861\ncomm_round: 44 | global_acc: 89.583% | global_loss: 0.854240357875824\ncomm_round: 45 | global_acc: 89.583% | global_loss: 0.8474414944648743\ncomm_round: 46 | global_acc: 89.583% | global_loss: 0.8522898554801941\ncomm_round: 47 | global_acc: 89.583% | global_loss: 0.8532564043998718\ncomm_round: 48 | global_acc: 89.583% | global_loss: 0.8490583300590515\ncomm_round: 49 | global_acc: 89.583% | global_loss: 0.8506419062614441\ncomm_round: 50 | global_acc: 89.583% | global_loss: 0.8530365824699402\ncomm_round: 51 | global_acc: 89.583% | global_loss: 0.8511078953742981\ncomm_round: 52 | global_acc: 89.583% | global_loss: 0.8540714383125305\ncomm_round: 53 | global_acc: 89.583% | global_loss: 0.853513777256012\ncomm_round: 54 | global_acc: 89.583% | global_loss: 0.8520568013191223\ncomm_round: 55 | global_acc: 89.583% | global_loss: 0.8531833291053772\ncomm_round: 56 | global_acc: 89.583% | global_loss: 0.8510034680366516\ncomm_round: 57 | global_acc: 89.583% | global_loss: 0.8519591689109802\ncomm_round: 58 | global_acc: 89.583% | global_loss: 0.8517128825187683\ncomm_round: 59 | global_acc: 89.583% | global_loss: 0.8491165041923523\ncomm_round: 60 | global_acc: 89.583% | global_loss: 0.8484657406806946\ncomm_round: 61 | global_acc: 89.583% | global_loss: 0.8482580184936523\ncomm_round: 62 | global_acc: 89.583% | global_loss: 0.8505509495735168\ncomm_round: 63 | global_acc: 89.583% | global_loss: 0.8496347069740295\ncomm_round: 64 | global_acc: 89.583% | global_loss: 0.84953373670578\ncomm_round: 65 | global_acc: 89.583% | global_loss: 0.8485779166221619\ncomm_round: 66 | global_acc: 89.583% | global_loss: 0.849499523639679\ncomm_round: 67 | global_acc: 89.583% | global_loss: 0.8495481610298157\ncomm_round: 68 | global_acc: 89.583% | global_loss: 0.8484170436859131\ncomm_round: 69 | global_acc: 89.583% | global_loss: 0.8500361442565918\ncomm_round: 70 | global_acc: 89.583% | global_loss: 0.849602997303009\ncomm_round: 71 | global_acc: 89.583% | global_loss: 0.8483737111091614\ncomm_round: 72 | global_acc: 89.583% | global_loss: 0.8495880961418152\ncomm_round: 73 | global_acc: 89.583% | global_loss: 0.8491945266723633\ncomm_round: 74 | global_acc: 89.583% | global_loss: 0.8493142127990723\ncomm_round: 75 | global_acc: 89.583% | global_loss: 0.8491529822349548\ncomm_round: 76 | global_acc: 89.583% | global_loss: 0.848968505859375\ncomm_round: 77 | global_acc: 89.583% | global_loss: 0.8480382561683655\ncomm_round: 78 | global_acc: 89.583% | global_loss: 0.8484840393066406\ncomm_round: 79 | global_acc: 89.583% | global_loss: 0.848522424697876\ncomm_round: 80 | global_acc: 89.583% | global_loss: 0.8478055596351624\ncomm_round: 81 | global_acc: 89.583% | global_loss: 0.8478226065635681\ncomm_round: 82 | global_acc: 89.583% | global_loss: 0.8480790257453918\ncomm_round: 83 | global_acc: 87.500% | global_loss: 0.8490126132965088\ncomm_round: 84 | global_acc: 87.500% | global_loss: 0.8483148217201233\ncomm_round: 85 | global_acc: 87.500% | global_loss: 0.8482860922813416\ncomm_round: 86 | global_acc: 87.500% | global_loss: 0.8482030034065247\ncomm_round: 87 | global_acc: 87.500% | global_loss: 0.8478558659553528\ncomm_round: 88 | global_acc: 87.500% | global_loss: 0.8471377491950989\ncomm_round: 89 | global_acc: 87.500% | global_loss: 0.8480784296989441\ncomm_round: 90 | global_acc: 87.500% | global_loss: 0.847813069820404\ncomm_round: 91 | global_acc: 87.500% | global_loss: 0.846912682056427\ncomm_round: 92 | global_acc: 87.500% | global_loss: 0.8475131988525391\ncomm_round: 93 | global_acc: 87.500% | global_loss: 0.8476260304450989\ncomm_round: 94 | global_acc: 87.500% | global_loss: 0.8481051325798035\ncomm_round: 95 | global_acc: 87.500% | global_loss: 0.8465971946716309\ncomm_round: 96 | global_acc: 87.500% | global_loss: 0.8471894264221191\ncomm_round: 97 | global_acc: 87.500% | global_loss: 0.8472929000854492\ncomm_round: 98 | global_acc: 87.500% | global_loss: 0.8471595644950867\ncomm_round: 99 | global_acc: 87.500% | global_loss: 0.8472153544425964\n",
          "output_type": "stream"
        }
      ]
    },
    {
      "cell_type": "code",
      "source": [
        "_visualise(_case1Model, _case1Accuracy, _case1Loss)"
      ],
      "metadata": {
        "execution": {
          "iopub.status.busy": "2022-06-11T14:10:35.433089Z",
          "iopub.execute_input": "2022-06-11T14:10:35.433467Z",
          "iopub.status.idle": "2022-06-11T14:10:35.669745Z",
          "shell.execute_reply.started": "2022-06-11T14:10:35.433436Z",
          "shell.execute_reply": "2022-06-11T14:10:35.668769Z"
        },
        "trusted": true,
        "id": "xwXzPXjA--20",
        "outputId": "f095ae95-8e43-4378-e835-5594138a4571"
      },
      "execution_count": null,
      "outputs": [
        {
          "output_type": "display_data",
          "data": {
            "text/plain": "<Figure size 432x288 with 1 Axes>",
            "image/png": "[encoded data removed]"
          },
          "metadata": {
            "needs_background": "light"
          }
        }
      ]
    },
    {
      "cell_type": "code",
      "source": [
        "test_acc = list()\n",
        "test_loss = list()\n",
        "for (X_test, Y_test) in test_batched:\n",
        "    global_test_acc, global_test_loss = test_model(X_test, Y_test, _case1Model, comm_round=1)\n",
        "    test_acc.append(global_test_acc)\n",
        "    test_loss.append(global_test_loss)"
      ],
      "metadata": {
        "execution": {
          "iopub.status.busy": "2022-06-11T14:10:50.331683Z",
          "iopub.execute_input": "2022-06-11T14:10:50.332675Z",
          "iopub.status.idle": "2022-06-11T14:10:50.486723Z",
          "shell.execute_reply.started": "2022-06-11T14:10:50.332635Z",
          "shell.execute_reply": "2022-06-11T14:10:50.485596Z"
        },
        "trusted": true,
        "id": "2CdpPTo8--21",
        "outputId": "bd8570c9-88ba-48e1-faec-2c0adc17c2b9"
      },
      "execution_count": null,
      "outputs": [
        {
          "name": "stdout",
          "text": "comm_round: 1 | global_acc: 93.824% | global_loss: 0.80852210521698\n",
          "output_type": "stream"
        }
      ]
    },
    {
      "cell_type": "markdown",
      "source": [
        "CASE 2:\n",
        "* Sharing deep weights every 10th epoch, 1 shallow and 5 deep layers"
      ],
      "metadata": {
        "id": "42-p4_NU--21"
      }
    },
    {
      "cell_type": "code",
      "source": [
        "_case2Model, _case2Accuracy, _case2Loss  = _trainModel(10, 1, 6) "
      ],
      "metadata": {
        "execution": {
          "iopub.status.busy": "2022-06-11T14:10:56.611740Z",
          "iopub.execute_input": "2022-06-11T14:10:56.612149Z",
          "iopub.status.idle": "2022-06-11T14:28:03.211631Z",
          "shell.execute_reply.started": "2022-06-11T14:10:56.612118Z",
          "shell.execute_reply": "2022-06-11T14:28:03.210835Z"
        },
        "trusted": true,
        "id": "UzmCZISL--22",
        "outputId": "eea292b7-8626-4180-c172-805d371e519f"
      },
      "execution_count": null,
      "outputs": [
        {
          "name": "stdout",
          "text": "comm_round: 0 | global_acc: 25.000% | global_loss: 1.3769057989120483\ncomm_round: 1 | global_acc: 25.000% | global_loss: 1.3755569458007812\ncomm_round: 2 | global_acc: 25.000% | global_loss: 1.37472403049469\ncomm_round: 3 | global_acc: 22.917% | global_loss: 1.3737711906433105\ncomm_round: 4 | global_acc: 22.917% | global_loss: 1.3726348876953125\ncomm_round: 5 | global_acc: 22.917% | global_loss: 1.3711332082748413\ncomm_round: 6 | global_acc: 25.000% | global_loss: 1.3691123723983765\ncomm_round: 7 | global_acc: 29.167% | global_loss: 1.3669325113296509\ncomm_round: 8 | global_acc: 31.250% | global_loss: 1.3645960092544556\ncomm_round: 9 | global_acc: 31.250% | global_loss: 1.3622117042541504\ncomm_round: 10 | global_acc: 52.083% | global_loss: 1.3280774354934692\ncomm_round: 11 | global_acc: 54.167% | global_loss: 1.3147650957107544\ncomm_round: 12 | global_acc: 56.250% | global_loss: 1.3049516677856445\ncomm_round: 13 | global_acc: 56.250% | global_loss: 1.2967958450317383\ncomm_round: 14 | global_acc: 56.250% | global_loss: 1.289866328239441\ncomm_round: 15 | global_acc: 60.417% | global_loss: 1.2844302654266357\ncomm_round: 16 | global_acc: 56.250% | global_loss: 1.2795377969741821\ncomm_round: 17 | global_acc: 56.250% | global_loss: 1.2752985954284668\ncomm_round: 18 | global_acc: 54.167% | global_loss: 1.271358847618103\ncomm_round: 19 | global_acc: 56.250% | global_loss: 1.2678651809692383\ncomm_round: 20 | global_acc: 60.417% | global_loss: 1.2312263250350952\ncomm_round: 21 | global_acc: 60.417% | global_loss: 1.2233036756515503\ncomm_round: 22 | global_acc: 62.500% | global_loss: 1.2176213264465332\ncomm_round: 23 | global_acc: 64.583% | global_loss: 1.213169813156128\ncomm_round: 24 | global_acc: 64.583% | global_loss: 1.2092024087905884\ncomm_round: 25 | global_acc: 64.583% | global_loss: 1.205991268157959\ncomm_round: 26 | global_acc: 66.667% | global_loss: 1.2027381658554077\ncomm_round: 27 | global_acc: 66.667% | global_loss: 1.199919581413269\ncomm_round: 28 | global_acc: 66.667% | global_loss: 1.1977262496948242\ncomm_round: 29 | global_acc: 66.667% | global_loss: 1.1955783367156982\ncomm_round: 30 | global_acc: 66.667% | global_loss: 1.168296217918396\ncomm_round: 31 | global_acc: 66.667% | global_loss: 1.1641533374786377\ncomm_round: 32 | global_acc: 66.667% | global_loss: 1.161448359489441\ncomm_round: 33 | global_acc: 66.667% | global_loss: 1.1597529649734497\ncomm_round: 34 | global_acc: 66.667% | global_loss: 1.1578575372695923\ncomm_round: 35 | global_acc: 66.667% | global_loss: 1.1567095518112183\ncomm_round: 36 | global_acc: 66.667% | global_loss: 1.155892252922058\ncomm_round: 37 | global_acc: 66.667% | global_loss: 1.1546248197555542\ncomm_round: 38 | global_acc: 66.667% | global_loss: 1.153637170791626\ncomm_round: 39 | global_acc: 66.667% | global_loss: 1.153035283088684\ncomm_round: 40 | global_acc: 64.583% | global_loss: 1.135853886604309\ncomm_round: 41 | global_acc: 64.583% | global_loss: 1.1341496706008911\ncomm_round: 42 | global_acc: 64.583% | global_loss: 1.133758544921875\ncomm_round: 43 | global_acc: 64.583% | global_loss: 1.13324773311615\ncomm_round: 44 | global_acc: 62.500% | global_loss: 1.1328659057617188\ncomm_round: 45 | global_acc: 62.500% | global_loss: 1.1323174238204956\ncomm_round: 46 | global_acc: 62.500% | global_loss: 1.1321572065353394\ncomm_round: 47 | global_acc: 62.500% | global_loss: 1.1318422555923462\ncomm_round: 48 | global_acc: 62.500% | global_loss: 1.1308960914611816\ncomm_round: 49 | global_acc: 62.500% | global_loss: 1.130448818206787\ncomm_round: 50 | global_acc: 66.667% | global_loss: 1.1141778230667114\ncomm_round: 51 | global_acc: 66.667% | global_loss: 1.1142487525939941\ncomm_round: 52 | global_acc: 66.667% | global_loss: 1.1137386560440063\ncomm_round: 53 | global_acc: 66.667% | global_loss: 1.1138880252838135\ncomm_round: 54 | global_acc: 64.583% | global_loss: 1.1139885187149048\ncomm_round: 55 | global_acc: 64.583% | global_loss: 1.1142537593841553\ncomm_round: 56 | global_acc: 64.583% | global_loss: 1.1141471862792969\ncomm_round: 57 | global_acc: 64.583% | global_loss: 1.1141237020492554\ncomm_round: 58 | global_acc: 64.583% | global_loss: 1.1143845319747925\ncomm_round: 59 | global_acc: 64.583% | global_loss: 1.1135362386703491\ncomm_round: 60 | global_acc: 66.667% | global_loss: 1.1032668352127075\ncomm_round: 61 | global_acc: 66.667% | global_loss: 1.1019476652145386\ncomm_round: 62 | global_acc: 66.667% | global_loss: 1.101148247718811\ncomm_round: 63 | global_acc: 66.667% | global_loss: 1.1006828546524048\ncomm_round: 64 | global_acc: 66.667% | global_loss: 1.1006618738174438\ncomm_round: 65 | global_acc: 66.667% | global_loss: 1.1007858514785767\ncomm_round: 66 | global_acc: 66.667% | global_loss: 1.1001996994018555\ncomm_round: 67 | global_acc: 66.667% | global_loss: 1.1006797552108765\ncomm_round: 68 | global_acc: 66.667% | global_loss: 1.100256085395813\ncomm_round: 69 | global_acc: 66.667% | global_loss: 1.100058913230896\ncomm_round: 70 | global_acc: 68.750% | global_loss: 1.090298056602478\ncomm_round: 71 | global_acc: 68.750% | global_loss: 1.0887569189071655\ncomm_round: 72 | global_acc: 68.750% | global_loss: 1.0889583826065063\ncomm_round: 73 | global_acc: 68.750% | global_loss: 1.0896104574203491\ncomm_round: 74 | global_acc: 68.750% | global_loss: 1.089297890663147\ncomm_round: 75 | global_acc: 68.750% | global_loss: 1.089032769203186\ncomm_round: 76 | global_acc: 68.750% | global_loss: 1.0883513689041138\ncomm_round: 77 | global_acc: 68.750% | global_loss: 1.088847041130066\ncomm_round: 78 | global_acc: 68.750% | global_loss: 1.0885645151138306\ncomm_round: 79 | global_acc: 68.750% | global_loss: 1.0880579948425293\ncomm_round: 80 | global_acc: 68.750% | global_loss: 1.0764687061309814\ncomm_round: 81 | global_acc: 68.750% | global_loss: 1.0763990879058838\ncomm_round: 82 | global_acc: 66.667% | global_loss: 1.075029730796814\ncomm_round: 83 | global_acc: 68.750% | global_loss: 1.0756484270095825\ncomm_round: 84 | global_acc: 66.667% | global_loss: 1.0754338502883911\ncomm_round: 85 | global_acc: 68.750% | global_loss: 1.0752334594726562\ncomm_round: 86 | global_acc: 66.667% | global_loss: 1.0746426582336426\ncomm_round: 87 | global_acc: 68.750% | global_loss: 1.0746588706970215\ncomm_round: 88 | global_acc: 68.750% | global_loss: 1.074729323387146\ncomm_round: 89 | global_acc: 68.750% | global_loss: 1.0750294923782349\ncomm_round: 90 | global_acc: 70.833% | global_loss: 1.0681122541427612\ncomm_round: 91 | global_acc: 70.833% | global_loss: 1.0651105642318726\ncomm_round: 92 | global_acc: 70.833% | global_loss: 1.0649473667144775\ncomm_round: 93 | global_acc: 70.833% | global_loss: 1.0636588335037231\ncomm_round: 94 | global_acc: 68.750% | global_loss: 1.0621837377548218\ncomm_round: 95 | global_acc: 68.750% | global_loss: 1.0617374181747437\ncomm_round: 96 | global_acc: 70.833% | global_loss: 1.0631752014160156\ncomm_round: 97 | global_acc: 70.833% | global_loss: 1.063420295715332\ncomm_round: 98 | global_acc: 70.833% | global_loss: 1.0623904466629028\ncomm_round: 99 | global_acc: 70.833% | global_loss: 1.063325047492981\n",
          "output_type": "stream"
        }
      ]
    },
    {
      "cell_type": "code",
      "source": [
        "_visualise(_case2Model, _case2Accuracy, _case2Loss)"
      ],
      "metadata": {
        "execution": {
          "iopub.status.busy": "2022-06-11T14:30:28.984019Z",
          "iopub.execute_input": "2022-06-11T14:30:28.984499Z",
          "iopub.status.idle": "2022-06-11T14:30:29.188357Z",
          "shell.execute_reply.started": "2022-06-11T14:30:28.984464Z",
          "shell.execute_reply": "2022-06-11T14:30:29.187413Z"
        },
        "trusted": true,
        "id": "6JsNuDra--22",
        "outputId": "c2aac0b6-2680-4a67-fc12-5398b79d18b2"
      },
      "execution_count": null,
      "outputs": [
        {
          "output_type": "display_data",
          "data": {
            "text/plain": "<Figure size 432x288 with 1 Axes>",
            "image/png": "[encoded data removed]"
          },
          "metadata": {
            "needs_background": "light"
          }
        }
      ]
    },
    {
      "cell_type": "code",
      "source": [
        "test_acc = list()\n",
        "test_loss = list()\n",
        "for (X_test, Y_test) in test_batched:\n",
        "    global_test_acc, global_test_loss = test_model(X_test, Y_test, _case2Model, comm_round=1)\n",
        "    test_acc.append(global_test_acc)\n",
        "    test_loss.append(global_test_loss)"
      ],
      "metadata": {
        "execution": {
          "iopub.status.busy": "2022-06-11T14:30:29.813939Z",
          "iopub.execute_input": "2022-06-11T14:30:29.814696Z",
          "iopub.status.idle": "2022-06-11T14:30:29.974042Z",
          "shell.execute_reply.started": "2022-06-11T14:30:29.814652Z",
          "shell.execute_reply": "2022-06-11T14:30:29.973018Z"
        },
        "trusted": true,
        "id": "qCSm_eFE--23",
        "outputId": "8e0b0590-c0cf-46e8-eff7-b58135bdb164"
      },
      "execution_count": null,
      "outputs": [
        {
          "name": "stdout",
          "text": "comm_round: 1 | global_acc: 82.581% | global_loss: 0.9653962850570679\n",
          "output_type": "stream"
        }
      ]
    },
    {
      "cell_type": "markdown",
      "source": [
        "CASE 3:\n",
        "* Sharing deep weights every epoch, 1 shallow and 5 deep layers"
      ],
      "metadata": {
        "id": "hLH6cRce--23"
      }
    },
    {
      "cell_type": "code",
      "source": [
        "_case3Model, _case3Accuracy, _case3Loss  = _trainModel(1, 1, 6) "
      ],
      "metadata": {
        "execution": {
          "iopub.status.busy": "2022-06-11T14:30:36.980433Z",
          "iopub.execute_input": "2022-06-11T14:30:36.981104Z",
          "iopub.status.idle": "2022-06-11T14:47:53.610886Z",
          "shell.execute_reply.started": "2022-06-11T14:30:36.981041Z",
          "shell.execute_reply": "2022-06-11T14:47:53.609850Z"
        },
        "trusted": true,
        "id": "1oWKEDrL--24",
        "outputId": "6c93233d-3d94-4aec-bb6a-9c106237f973"
      },
      "execution_count": null,
      "outputs": [
        {
          "name": "stdout",
          "text": "comm_round: 0 | global_acc: 25.000% | global_loss: 1.3814140558242798\ncomm_round: 1 | global_acc: 22.917% | global_loss: 1.3768644332885742\ncomm_round: 2 | global_acc: 27.083% | global_loss: 1.3737138509750366\ncomm_round: 3 | global_acc: 37.500% | global_loss: 1.3708442449569702\ncomm_round: 4 | global_acc: 45.833% | global_loss: 1.3621959686279297\ncomm_round: 5 | global_acc: 52.083% | global_loss: 1.3440470695495605\ncomm_round: 6 | global_acc: 50.000% | global_loss: 1.3199981451034546\ncomm_round: 7 | global_acc: 56.250% | global_loss: 1.2911614179611206\ncomm_round: 8 | global_acc: 60.417% | global_loss: 1.2637344598770142\ncomm_round: 9 | global_acc: 58.333% | global_loss: 1.2358053922653198\ncomm_round: 10 | global_acc: 58.333% | global_loss: 1.2118042707443237\ncomm_round: 11 | global_acc: 58.333% | global_loss: 1.1895099878311157\ncomm_round: 12 | global_acc: 64.583% | global_loss: 1.170174479484558\ncomm_round: 13 | global_acc: 62.500% | global_loss: 1.1545015573501587\ncomm_round: 14 | global_acc: 66.667% | global_loss: 1.1407278776168823\ncomm_round: 15 | global_acc: 66.667% | global_loss: 1.1298352479934692\ncomm_round: 16 | global_acc: 66.667% | global_loss: 1.1202045679092407\ncomm_round: 17 | global_acc: 66.667% | global_loss: 1.1132746934890747\ncomm_round: 18 | global_acc: 68.750% | global_loss: 1.1097511053085327\ncomm_round: 19 | global_acc: 66.667% | global_loss: 1.1033117771148682\ncomm_round: 20 | global_acc: 64.583% | global_loss: 1.0965899229049683\ncomm_round: 21 | global_acc: 64.583% | global_loss: 1.093106746673584\ncomm_round: 22 | global_acc: 66.667% | global_loss: 1.0886887311935425\ncomm_round: 23 | global_acc: 66.667% | global_loss: 1.0827933549880981\ncomm_round: 24 | global_acc: 64.583% | global_loss: 1.0773719549179077\ncomm_round: 25 | global_acc: 64.583% | global_loss: 1.0740364789962769\ncomm_round: 26 | global_acc: 70.833% | global_loss: 1.0683398246765137\ncomm_round: 27 | global_acc: 66.667% | global_loss: 1.0678049325942993\ncomm_round: 28 | global_acc: 70.833% | global_loss: 1.0582174062728882\ncomm_round: 29 | global_acc: 68.750% | global_loss: 1.0548442602157593\ncomm_round: 30 | global_acc: 70.833% | global_loss: 1.0468026399612427\ncomm_round: 31 | global_acc: 72.917% | global_loss: 1.043317198753357\ncomm_round: 32 | global_acc: 72.917% | global_loss: 1.0370393991470337\ncomm_round: 33 | global_acc: 75.000% | global_loss: 1.0319360494613647\ncomm_round: 34 | global_acc: 77.083% | global_loss: 1.0299383401870728\ncomm_round: 35 | global_acc: 77.083% | global_loss: 1.0241855382919312\ncomm_round: 36 | global_acc: 81.250% | global_loss: 1.0208500623703003\ncomm_round: 37 | global_acc: 79.167% | global_loss: 1.0162149667739868\ncomm_round: 38 | global_acc: 83.333% | global_loss: 1.0085760354995728\ncomm_round: 39 | global_acc: 85.417% | global_loss: 1.0037962198257446\ncomm_round: 40 | global_acc: 83.333% | global_loss: 0.9998517036437988\ncomm_round: 41 | global_acc: 85.417% | global_loss: 0.9942052960395813\ncomm_round: 42 | global_acc: 81.250% | global_loss: 0.9899318814277649\ncomm_round: 43 | global_acc: 85.417% | global_loss: 0.9864754676818848\ncomm_round: 44 | global_acc: 83.333% | global_loss: 0.9866577982902527\ncomm_round: 45 | global_acc: 83.333% | global_loss: 0.9828165173530579\ncomm_round: 46 | global_acc: 83.333% | global_loss: 0.9772561192512512\ncomm_round: 47 | global_acc: 85.417% | global_loss: 0.974816620349884\ncomm_round: 48 | global_acc: 83.333% | global_loss: 0.9764778017997742\ncomm_round: 49 | global_acc: 81.250% | global_loss: 0.9710294604301453\ncomm_round: 50 | global_acc: 83.333% | global_loss: 0.9670851230621338\ncomm_round: 51 | global_acc: 83.333% | global_loss: 0.9659407734870911\ncomm_round: 52 | global_acc: 83.333% | global_loss: 0.966029167175293\ncomm_round: 53 | global_acc: 81.250% | global_loss: 0.9599099159240723\ncomm_round: 54 | global_acc: 81.250% | global_loss: 0.9605684876441956\ncomm_round: 55 | global_acc: 85.417% | global_loss: 0.956724226474762\ncomm_round: 56 | global_acc: 81.250% | global_loss: 0.9572157859802246\ncomm_round: 57 | global_acc: 81.250% | global_loss: 0.9512159824371338\ncomm_round: 58 | global_acc: 83.333% | global_loss: 0.9475185871124268\ncomm_round: 59 | global_acc: 81.250% | global_loss: 0.9463753700256348\ncomm_round: 60 | global_acc: 79.167% | global_loss: 0.9454248547554016\ncomm_round: 61 | global_acc: 79.167% | global_loss: 0.9425249099731445\ncomm_round: 62 | global_acc: 81.250% | global_loss: 0.9453742504119873\ncomm_round: 63 | global_acc: 79.167% | global_loss: 0.9375896453857422\ncomm_round: 64 | global_acc: 81.250% | global_loss: 0.9374038577079773\ncomm_round: 65 | global_acc: 81.250% | global_loss: 0.9343338012695312\ncomm_round: 66 | global_acc: 83.333% | global_loss: 0.9362511038780212\ncomm_round: 67 | global_acc: 79.167% | global_loss: 0.9334647059440613\ncomm_round: 68 | global_acc: 79.167% | global_loss: 0.9282052516937256\ncomm_round: 69 | global_acc: 85.417% | global_loss: 0.9367343783378601\ncomm_round: 70 | global_acc: 83.333% | global_loss: 0.9310286045074463\ncomm_round: 71 | global_acc: 85.417% | global_loss: 0.9260828495025635\ncomm_round: 72 | global_acc: 87.500% | global_loss: 0.9183861613273621\ncomm_round: 73 | global_acc: 85.417% | global_loss: 0.918724536895752\ncomm_round: 74 | global_acc: 85.417% | global_loss: 0.9208522439002991\ncomm_round: 75 | global_acc: 87.500% | global_loss: 0.9137680530548096\ncomm_round: 76 | global_acc: 87.500% | global_loss: 0.9126758575439453\ncomm_round: 77 | global_acc: 85.417% | global_loss: 0.9097703099250793\ncomm_round: 78 | global_acc: 87.500% | global_loss: 0.9087989926338196\ncomm_round: 79 | global_acc: 87.500% | global_loss: 0.9089322090148926\ncomm_round: 80 | global_acc: 85.417% | global_loss: 0.9095401763916016\ncomm_round: 81 | global_acc: 87.500% | global_loss: 0.906527042388916\ncomm_round: 82 | global_acc: 87.500% | global_loss: 0.9016315340995789\ncomm_round: 83 | global_acc: 87.500% | global_loss: 0.9002507328987122\ncomm_round: 84 | global_acc: 85.417% | global_loss: 0.9078360199928284\ncomm_round: 85 | global_acc: 91.667% | global_loss: 0.8946153521537781\ncomm_round: 86 | global_acc: 89.583% | global_loss: 0.897712767124176\ncomm_round: 87 | global_acc: 87.500% | global_loss: 0.894067108631134\ncomm_round: 88 | global_acc: 89.583% | global_loss: 0.8958178162574768\ncomm_round: 89 | global_acc: 89.583% | global_loss: 0.8906847834587097\ncomm_round: 90 | global_acc: 91.667% | global_loss: 0.8888375759124756\ncomm_round: 91 | global_acc: 89.583% | global_loss: 0.8866499066352844\ncomm_round: 92 | global_acc: 89.583% | global_loss: 0.8878955841064453\ncomm_round: 93 | global_acc: 89.583% | global_loss: 0.8865215182304382\ncomm_round: 94 | global_acc: 91.667% | global_loss: 0.8830148577690125\ncomm_round: 95 | global_acc: 89.583% | global_loss: 0.8835784792900085\ncomm_round: 96 | global_acc: 87.500% | global_loss: 0.8832111954689026\ncomm_round: 97 | global_acc: 87.500% | global_loss: 0.8846616744995117\ncomm_round: 98 | global_acc: 91.667% | global_loss: 0.8788027763366699\ncomm_round: 99 | global_acc: 91.667% | global_loss: 0.8776623606681824\n",
          "output_type": "stream"
        }
      ]
    },
    {
      "cell_type": "code",
      "source": [
        "_visualise(_case3Model, _case3Accuracy, _case3Loss)"
      ],
      "metadata": {
        "execution": {
          "iopub.status.busy": "2022-06-11T14:47:53.613055Z",
          "iopub.execute_input": "2022-06-11T14:47:53.613547Z",
          "iopub.status.idle": "2022-06-11T14:47:53.831709Z",
          "shell.execute_reply.started": "2022-06-11T14:47:53.613502Z",
          "shell.execute_reply": "2022-06-11T14:47:53.831053Z"
        },
        "trusted": true,
        "id": "s2SUbM4D--24",
        "outputId": "d496309a-9cb8-4752-9e40-ebf320fdd21d"
      },
      "execution_count": null,
      "outputs": [
        {
          "output_type": "display_data",
          "data": {
            "text/plain": "<Figure size 432x288 with 1 Axes>",
            "image/png": "[encoded data removed]"
          },
          "metadata": {
            "needs_background": "light"
          }
        }
      ]
    },
    {
      "cell_type": "code",
      "source": [
        "test_acc = list()\n",
        "test_loss = list()\n",
        "for (X_test, Y_test) in test_batched:\n",
        "    global_test_acc, global_test_loss = test_model(X_test, Y_test, _case3Model, comm_round=1)\n",
        "    test_acc.append(global_test_acc)\n",
        "    test_loss.append(global_test_loss)"
      ],
      "metadata": {
        "execution": {
          "iopub.status.busy": "2022-06-11T14:47:53.832846Z",
          "iopub.execute_input": "2022-06-11T14:47:53.833532Z",
          "iopub.status.idle": "2022-06-11T14:47:53.987734Z",
          "shell.execute_reply.started": "2022-06-11T14:47:53.833500Z",
          "shell.execute_reply": "2022-06-11T14:47:53.987028Z"
        },
        "trusted": true,
        "id": "0j0J_U8W--25",
        "outputId": "57643159-8865-4308-9e83-cf6b2b0607d3"
      },
      "execution_count": null,
      "outputs": [
        {
          "name": "stdout",
          "text": "comm_round: 1 | global_acc: 91.686% | global_loss: 0.8324623107910156\n",
          "output_type": "stream"
        }
      ]
    },
    {
      "cell_type": "markdown",
      "source": [
        "CASE 4:\n",
        "* Sharing deep weights every 5th epoch, 3 shallow and 3 deep layers"
      ],
      "metadata": {
        "id": "lvwlf3EC--26"
      }
    },
    {
      "cell_type": "code",
      "source": [
        "_case4Model, _case4Accuracy, _case4Loss  = _trainModel(5, 3, 6) "
      ],
      "metadata": {
        "execution": {
          "iopub.status.busy": "2022-06-11T14:53:21.529378Z",
          "iopub.execute_input": "2022-06-11T14:53:21.529796Z",
          "iopub.status.idle": "2022-06-11T15:10:48.322952Z",
          "shell.execute_reply.started": "2022-06-11T14:53:21.529763Z",
          "shell.execute_reply": "2022-06-11T15:10:48.321898Z"
        },
        "trusted": true,
        "id": "AMf_R2V5--26",
        "outputId": "14e6e1f3-969b-4635-d06b-f37b20cf1cdb"
      },
      "execution_count": null,
      "outputs": [
        {
          "name": "stdout",
          "text": "comm_round: 0 | global_acc: 35.417% | global_loss: 1.3851318359375\ncomm_round: 1 | global_acc: 31.250% | global_loss: 1.383530616760254\ncomm_round: 2 | global_acc: 29.167% | global_loss: 1.3821783065795898\ncomm_round: 3 | global_acc: 25.000% | global_loss: 1.3811841011047363\ncomm_round: 4 | global_acc: 27.083% | global_loss: 1.3798376321792603\ncomm_round: 5 | global_acc: 27.083% | global_loss: 1.3757214546203613\ncomm_round: 6 | global_acc: 31.250% | global_loss: 1.3748000860214233\ncomm_round: 7 | global_acc: 31.250% | global_loss: 1.3736052513122559\ncomm_round: 8 | global_acc: 37.500% | global_loss: 1.3720229864120483\ncomm_round: 9 | global_acc: 41.667% | global_loss: 1.369942307472229\ncomm_round: 10 | global_acc: 39.583% | global_loss: 1.3655577898025513\ncomm_round: 11 | global_acc: 41.667% | global_loss: 1.360312581062317\ncomm_round: 12 | global_acc: 45.833% | global_loss: 1.3551979064941406\ncomm_round: 13 | global_acc: 47.917% | global_loss: 1.3498045206069946\ncomm_round: 14 | global_acc: 47.917% | global_loss: 1.3441892862319946\ncomm_round: 15 | global_acc: 52.083% | global_loss: 1.3305637836456299\ncomm_round: 16 | global_acc: 52.083% | global_loss: 1.321863055229187\ncomm_round: 17 | global_acc: 54.167% | global_loss: 1.3135583400726318\ncomm_round: 18 | global_acc: 54.167% | global_loss: 1.3060358762741089\ncomm_round: 19 | global_acc: 54.167% | global_loss: 1.2989569902420044\ncomm_round: 20 | global_acc: 54.167% | global_loss: 1.2823400497436523\ncomm_round: 21 | global_acc: 56.250% | global_loss: 1.273506760597229\ncomm_round: 22 | global_acc: 58.333% | global_loss: 1.26506769657135\ncomm_round: 23 | global_acc: 58.333% | global_loss: 1.2573002576828003\ncomm_round: 24 | global_acc: 58.333% | global_loss: 1.2497342824935913\ncomm_round: 25 | global_acc: 58.333% | global_loss: 1.2330080270767212\ncomm_round: 26 | global_acc: 60.417% | global_loss: 1.2242491245269775\ncomm_round: 27 | global_acc: 60.417% | global_loss: 1.2172001600265503\ncomm_round: 28 | global_acc: 62.500% | global_loss: 1.210528016090393\ncomm_round: 29 | global_acc: 62.500% | global_loss: 1.2041287422180176\ncomm_round: 30 | global_acc: 66.667% | global_loss: 1.1889901161193848\ncomm_round: 31 | global_acc: 66.667% | global_loss: 1.181883692741394\ncomm_round: 32 | global_acc: 68.750% | global_loss: 1.176039695739746\ncomm_round: 33 | global_acc: 70.833% | global_loss: 1.1715126037597656\ncomm_round: 34 | global_acc: 72.917% | global_loss: 1.1675578355789185\ncomm_round: 35 | global_acc: 66.667% | global_loss: 1.155650019645691\ncomm_round: 36 | global_acc: 68.750% | global_loss: 1.151434063911438\ncomm_round: 37 | global_acc: 68.750% | global_loss: 1.1483206748962402\ncomm_round: 38 | global_acc: 68.750% | global_loss: 1.1457804441452026\ncomm_round: 39 | global_acc: 68.750% | global_loss: 1.1431851387023926\ncomm_round: 40 | global_acc: 68.750% | global_loss: 1.134445071220398\ncomm_round: 41 | global_acc: 68.750% | global_loss: 1.1314789056777954\ncomm_round: 42 | global_acc: 66.667% | global_loss: 1.1295661926269531\ncomm_round: 43 | global_acc: 66.667% | global_loss: 1.128176212310791\ncomm_round: 44 | global_acc: 66.667% | global_loss: 1.1267122030258179\ncomm_round: 45 | global_acc: 66.667% | global_loss: 1.1191209554672241\ncomm_round: 46 | global_acc: 66.667% | global_loss: 1.1185325384140015\ncomm_round: 47 | global_acc: 66.667% | global_loss: 1.1168279647827148\ncomm_round: 48 | global_acc: 66.667% | global_loss: 1.1154009103775024\ncomm_round: 49 | global_acc: 66.667% | global_loss: 1.1142085790634155\ncomm_round: 50 | global_acc: 66.667% | global_loss: 1.10812246799469\ncomm_round: 51 | global_acc: 66.667% | global_loss: 1.1077333688735962\ncomm_round: 52 | global_acc: 66.667% | global_loss: 1.1080777645111084\ncomm_round: 53 | global_acc: 66.667% | global_loss: 1.1079000234603882\ncomm_round: 54 | global_acc: 68.750% | global_loss: 1.1076488494873047\ncomm_round: 55 | global_acc: 68.750% | global_loss: 1.1005305051803589\ncomm_round: 56 | global_acc: 68.750% | global_loss: 1.1005486249923706\ncomm_round: 57 | global_acc: 68.750% | global_loss: 1.1016230583190918\ncomm_round: 58 | global_acc: 68.750% | global_loss: 1.100301742553711\ncomm_round: 59 | global_acc: 68.750% | global_loss: 1.1019980907440186\ncomm_round: 60 | global_acc: 68.750% | global_loss: 1.0935732126235962\ncomm_round: 61 | global_acc: 66.667% | global_loss: 1.0942280292510986\ncomm_round: 62 | global_acc: 66.667% | global_loss: 1.0939202308654785\ncomm_round: 63 | global_acc: 66.667% | global_loss: 1.093572735786438\ncomm_round: 64 | global_acc: 66.667% | global_loss: 1.092097282409668\ncomm_round: 65 | global_acc: 68.750% | global_loss: 1.0870016813278198\ncomm_round: 66 | global_acc: 68.750% | global_loss: 1.085401177406311\ncomm_round: 67 | global_acc: 68.750% | global_loss: 1.0855036973953247\ncomm_round: 68 | global_acc: 68.750% | global_loss: 1.0869401693344116\ncomm_round: 69 | global_acc: 66.667% | global_loss: 1.0890341997146606\ncomm_round: 70 | global_acc: 68.750% | global_loss: 1.0791387557983398\ncomm_round: 71 | global_acc: 68.750% | global_loss: 1.0817269086837769\ncomm_round: 72 | global_acc: 68.750% | global_loss: 1.0794037580490112\ncomm_round: 73 | global_acc: 68.750% | global_loss: 1.0788947343826294\ncomm_round: 74 | global_acc: 68.750% | global_loss: 1.081112027168274\ncomm_round: 75 | global_acc: 68.750% | global_loss: 1.0706849098205566\ncomm_round: 76 | global_acc: 68.750% | global_loss: 1.0736925601959229\ncomm_round: 77 | global_acc: 68.750% | global_loss: 1.0675948858261108\ncomm_round: 78 | global_acc: 68.750% | global_loss: 1.0695770978927612\ncomm_round: 79 | global_acc: 68.750% | global_loss: 1.0712223052978516\ncomm_round: 80 | global_acc: 68.750% | global_loss: 1.0621718168258667\ncomm_round: 81 | global_acc: 68.750% | global_loss: 1.067044973373413\ncomm_round: 82 | global_acc: 68.750% | global_loss: 1.0667351484298706\ncomm_round: 83 | global_acc: 68.750% | global_loss: 1.06389582157135\ncomm_round: 84 | global_acc: 68.750% | global_loss: 1.0618150234222412\ncomm_round: 85 | global_acc: 68.750% | global_loss: 1.0578840970993042\ncomm_round: 86 | global_acc: 70.833% | global_loss: 1.0559453964233398\ncomm_round: 87 | global_acc: 70.833% | global_loss: 1.0553289651870728\ncomm_round: 88 | global_acc: 66.667% | global_loss: 1.0569205284118652\ncomm_round: 89 | global_acc: 66.667% | global_loss: 1.0547293424606323\ncomm_round: 90 | global_acc: 66.667% | global_loss: 1.0454421043395996\ncomm_round: 91 | global_acc: 70.833% | global_loss: 1.0417603254318237\ncomm_round: 92 | global_acc: 68.750% | global_loss: 1.044405221939087\ncomm_round: 93 | global_acc: 70.833% | global_loss: 1.0432624816894531\ncomm_round: 94 | global_acc: 70.833% | global_loss: 1.0457974672317505\ncomm_round: 95 | global_acc: 72.917% | global_loss: 1.0426830053329468\ncomm_round: 96 | global_acc: 75.000% | global_loss: 1.0347394943237305\ncomm_round: 97 | global_acc: 75.000% | global_loss: 1.0369819402694702\ncomm_round: 98 | global_acc: 75.000% | global_loss: 1.0398011207580566\ncomm_round: 99 | global_acc: 75.000% | global_loss: 1.038853406906128\n",
          "output_type": "stream"
        }
      ]
    },
    {
      "cell_type": "code",
      "source": [
        "_visualise(_case4Model, _case4Accuracy, _case4Loss)"
      ],
      "metadata": {
        "execution": {
          "iopub.status.busy": "2022-06-11T15:10:48.324798Z",
          "iopub.execute_input": "2022-06-11T15:10:48.325205Z",
          "iopub.status.idle": "2022-06-11T15:10:48.529522Z",
          "shell.execute_reply.started": "2022-06-11T15:10:48.325169Z",
          "shell.execute_reply": "2022-06-11T15:10:48.528572Z"
        },
        "trusted": true,
        "id": "scJnfK8W--27",
        "outputId": "80c6d408-2672-4ac0-d2e7-cc66050ae105"
      },
      "execution_count": null,
      "outputs": [
        {
          "output_type": "display_data",
          "data": {
            "text/plain": "<Figure size 432x288 with 1 Axes>",
            "image/png": "[encoded data removed]"
          },
          "metadata": {
            "needs_background": "light"
          }
        }
      ]
    },
    {
      "cell_type": "code",
      "source": [
        "test_acc = list()\n",
        "test_loss = list()\n",
        "for (X_test, Y_test) in test_batched:\n",
        "    global_test_acc, global_test_loss = test_model(X_test, Y_test, _case4Model, comm_round=1)\n",
        "    test_acc.append(global_test_acc)\n",
        "    test_loss.append(global_test_loss)"
      ],
      "metadata": {
        "execution": {
          "iopub.status.busy": "2022-06-11T15:10:48.531097Z",
          "iopub.execute_input": "2022-06-11T15:10:48.531422Z",
          "iopub.status.idle": "2022-06-11T15:10:48.695782Z",
          "shell.execute_reply.started": "2022-06-11T15:10:48.531392Z",
          "shell.execute_reply": "2022-06-11T15:10:48.695042Z"
        },
        "trusted": true,
        "id": "s6Vz-SZ0--27",
        "outputId": "50dfa781-3dbc-4a7c-f1ca-c177e5b328b9"
      },
      "execution_count": null,
      "outputs": [
        {
          "name": "stdout",
          "text": "comm_round: 1 | global_acc: 83.531% | global_loss: 0.9459684491157532\n",
          "output_type": "stream"
        }
      ]
    },
    {
      "cell_type": "markdown",
      "source": [
        "CASE 5:\n",
        "* Sharing deep weights every 10th epoch, 3 shallow and 3 deep layers"
      ],
      "metadata": {
        "id": "fnE4boWd--27"
      }
    },
    {
      "cell_type": "code",
      "source": [
        "_case5Model, _case5Accuracy, _case5Loss  = _trainModel(10, 3, 6) "
      ],
      "metadata": {
        "execution": {
          "iopub.status.busy": "2022-06-11T15:10:48.697550Z",
          "iopub.execute_input": "2022-06-11T15:10:48.698101Z",
          "iopub.status.idle": "2022-06-11T15:28:21.198970Z",
          "shell.execute_reply.started": "2022-06-11T15:10:48.698041Z",
          "shell.execute_reply": "2022-06-11T15:28:21.197999Z"
        },
        "trusted": true,
        "id": "VNFrK4sU--28",
        "outputId": "4ab271ca-7d55-4ce3-e772-900d3f70e6f5"
      },
      "execution_count": null,
      "outputs": [
        {
          "name": "stdout",
          "text": "comm_round: 0 | global_acc: 25.000% | global_loss: 1.3820501565933228\ncomm_round: 1 | global_acc: 25.000% | global_loss: 1.380500316619873\ncomm_round: 2 | global_acc: 27.083% | global_loss: 1.3791813850402832\ncomm_round: 3 | global_acc: 29.167% | global_loss: 1.3778406381607056\ncomm_round: 4 | global_acc: 31.250% | global_loss: 1.3770346641540527\ncomm_round: 5 | global_acc: 29.167% | global_loss: 1.3764249086380005\ncomm_round: 6 | global_acc: 27.083% | global_loss: 1.375831961631775\ncomm_round: 7 | global_acc: 27.083% | global_loss: 1.3751773834228516\ncomm_round: 8 | global_acc: 29.167% | global_loss: 1.3745518922805786\ncomm_round: 9 | global_acc: 29.167% | global_loss: 1.3739961385726929\ncomm_round: 10 | global_acc: 29.167% | global_loss: 1.3703527450561523\ncomm_round: 11 | global_acc: 31.250% | global_loss: 1.3691219091415405\ncomm_round: 12 | global_acc: 31.250% | global_loss: 1.3677183389663696\ncomm_round: 13 | global_acc: 31.250% | global_loss: 1.3661140203475952\ncomm_round: 14 | global_acc: 31.250% | global_loss: 1.3642839193344116\ncomm_round: 15 | global_acc: 31.250% | global_loss: 1.3623229265213013\ncomm_round: 16 | global_acc: 35.417% | global_loss: 1.3602176904678345\ncomm_round: 17 | global_acc: 41.667% | global_loss: 1.3577876091003418\ncomm_round: 18 | global_acc: 43.750% | global_loss: 1.3550758361816406\ncomm_round: 19 | global_acc: 43.750% | global_loss: 1.352304458618164\ncomm_round: 20 | global_acc: 52.083% | global_loss: 1.345523476600647\ncomm_round: 21 | global_acc: 52.083% | global_loss: 1.3412247896194458\ncomm_round: 22 | global_acc: 52.083% | global_loss: 1.3370577096939087\ncomm_round: 23 | global_acc: 52.083% | global_loss: 1.3328710794448853\ncomm_round: 24 | global_acc: 52.083% | global_loss: 1.3287240266799927\ncomm_round: 25 | global_acc: 54.167% | global_loss: 1.3245387077331543\ncomm_round: 26 | global_acc: 54.167% | global_loss: 1.3203186988830566\ncomm_round: 27 | global_acc: 56.250% | global_loss: 1.315992832183838\ncomm_round: 28 | global_acc: 56.250% | global_loss: 1.3118113279342651\ncomm_round: 29 | global_acc: 56.250% | global_loss: 1.307639241218567\ncomm_round: 30 | global_acc: 56.250% | global_loss: 1.2989951372146606\ncomm_round: 31 | global_acc: 54.167% | global_loss: 1.2928632497787476\ncomm_round: 32 | global_acc: 54.167% | global_loss: 1.2872737646102905\ncomm_round: 33 | global_acc: 54.167% | global_loss: 1.2824276685714722\ncomm_round: 34 | global_acc: 54.167% | global_loss: 1.2777488231658936\ncomm_round: 35 | global_acc: 54.167% | global_loss: 1.2730997800827026\ncomm_round: 36 | global_acc: 54.167% | global_loss: 1.2688289880752563\ncomm_round: 37 | global_acc: 54.167% | global_loss: 1.2645385265350342\ncomm_round: 38 | global_acc: 54.167% | global_loss: 1.2603542804718018\ncomm_round: 39 | global_acc: 54.167% | global_loss: 1.256272315979004\ncomm_round: 40 | global_acc: 47.917% | global_loss: 1.2469714879989624\ncomm_round: 41 | global_acc: 47.917% | global_loss: 1.2416789531707764\ncomm_round: 42 | global_acc: 47.917% | global_loss: 1.237629771232605\ncomm_round: 43 | global_acc: 50.000% | global_loss: 1.2333022356033325\ncomm_round: 44 | global_acc: 50.000% | global_loss: 1.2294422388076782\ncomm_round: 45 | global_acc: 47.917% | global_loss: 1.2259403467178345\ncomm_round: 46 | global_acc: 50.000% | global_loss: 1.2227559089660645\ncomm_round: 47 | global_acc: 50.000% | global_loss: 1.2194205522537231\ncomm_round: 48 | global_acc: 52.083% | global_loss: 1.216372013092041\ncomm_round: 49 | global_acc: 54.167% | global_loss: 1.212947964668274\ncomm_round: 50 | global_acc: 52.083% | global_loss: 1.2043012380599976\ncomm_round: 51 | global_acc: 54.167% | global_loss: 1.2002899646759033\ncomm_round: 52 | global_acc: 54.167% | global_loss: 1.1969585418701172\ncomm_round: 53 | global_acc: 56.250% | global_loss: 1.194151520729065\ncomm_round: 54 | global_acc: 56.250% | global_loss: 1.1915545463562012\ncomm_round: 55 | global_acc: 56.250% | global_loss: 1.1890662908554077\ncomm_round: 56 | global_acc: 58.333% | global_loss: 1.186740517616272\ncomm_round: 57 | global_acc: 60.417% | global_loss: 1.1846517324447632\ncomm_round: 58 | global_acc: 62.500% | global_loss: 1.1821950674057007\ncomm_round: 59 | global_acc: 62.500% | global_loss: 1.1802111864089966\ncomm_round: 60 | global_acc: 58.333% | global_loss: 1.1736799478530884\ncomm_round: 61 | global_acc: 60.417% | global_loss: 1.1709688901901245\ncomm_round: 62 | global_acc: 62.500% | global_loss: 1.1690753698349\ncomm_round: 63 | global_acc: 62.500% | global_loss: 1.1668956279754639\ncomm_round: 64 | global_acc: 62.500% | global_loss: 1.1651577949523926\ncomm_round: 65 | global_acc: 62.500% | global_loss: 1.1637533903121948\ncomm_round: 66 | global_acc: 62.500% | global_loss: 1.1623084545135498\ncomm_round: 67 | global_acc: 64.583% | global_loss: 1.1605886220932007\ncomm_round: 68 | global_acc: 64.583% | global_loss: 1.1594252586364746\ncomm_round: 69 | global_acc: 64.583% | global_loss: 1.157974123954773\ncomm_round: 70 | global_acc: 64.583% | global_loss: 1.15325129032135\ncomm_round: 71 | global_acc: 64.583% | global_loss: 1.1517547369003296\ncomm_round: 72 | global_acc: 64.583% | global_loss: 1.1498029232025146\ncomm_round: 73 | global_acc: 64.583% | global_loss: 1.1487250328063965\ncomm_round: 74 | global_acc: 64.583% | global_loss: 1.1475993394851685\ncomm_round: 75 | global_acc: 64.583% | global_loss: 1.146546483039856\ncomm_round: 76 | global_acc: 64.583% | global_loss: 1.1456189155578613\ncomm_round: 77 | global_acc: 64.583% | global_loss: 1.1447147130966187\ncomm_round: 78 | global_acc: 64.583% | global_loss: 1.1436997652053833\ncomm_round: 79 | global_acc: 64.583% | global_loss: 1.1425766944885254\ncomm_round: 80 | global_acc: 64.583% | global_loss: 1.139967918395996\ncomm_round: 81 | global_acc: 64.583% | global_loss: 1.138532280921936\ncomm_round: 82 | global_acc: 64.583% | global_loss: 1.137597680091858\ncomm_round: 83 | global_acc: 64.583% | global_loss: 1.1363565921783447\ncomm_round: 84 | global_acc: 64.583% | global_loss: 1.1356438398361206\ncomm_round: 85 | global_acc: 64.583% | global_loss: 1.1342445611953735\ncomm_round: 86 | global_acc: 64.583% | global_loss: 1.1334500312805176\ncomm_round: 87 | global_acc: 64.583% | global_loss: 1.1331194639205933\ncomm_round: 88 | global_acc: 64.583% | global_loss: 1.1319363117218018\ncomm_round: 89 | global_acc: 64.583% | global_loss: 1.132200837135315\ncomm_round: 90 | global_acc: 66.667% | global_loss: 1.1280603408813477\ncomm_round: 91 | global_acc: 66.667% | global_loss: 1.1270617246627808\ncomm_round: 92 | global_acc: 66.667% | global_loss: 1.126735806465149\ncomm_round: 93 | global_acc: 66.667% | global_loss: 1.125798225402832\ncomm_round: 94 | global_acc: 66.667% | global_loss: 1.1251667737960815\ncomm_round: 95 | global_acc: 66.667% | global_loss: 1.1251658201217651\ncomm_round: 96 | global_acc: 66.667% | global_loss: 1.123958706855774\ncomm_round: 97 | global_acc: 66.667% | global_loss: 1.1235268115997314\ncomm_round: 98 | global_acc: 66.667% | global_loss: 1.1229959726333618\ncomm_round: 99 | global_acc: 66.667% | global_loss: 1.1215351819992065\n",
          "output_type": "stream"
        }
      ]
    },
    {
      "cell_type": "code",
      "source": [
        "_visualise(_case5Model, _case5Accuracy, _case5Loss)"
      ],
      "metadata": {
        "execution": {
          "iopub.status.busy": "2022-06-11T15:28:21.200637Z",
          "iopub.execute_input": "2022-06-11T15:28:21.201131Z",
          "iopub.status.idle": "2022-06-11T15:28:21.363497Z",
          "shell.execute_reply.started": "2022-06-11T15:28:21.201064Z",
          "shell.execute_reply": "2022-06-11T15:28:21.362462Z"
        },
        "trusted": true,
        "id": "1bYoYf58--28",
        "outputId": "515f2831-e1af-4ebf-9b51-50994f615ebe"
      },
      "execution_count": null,
      "outputs": [
        {
          "output_type": "display_data",
          "data": {
            "text/plain": "<Figure size 432x288 with 1 Axes>",
            "image/png": "[encoded data removed]"
          },
          "metadata": {
            "needs_background": "light"
          }
        }
      ]
    },
    {
      "cell_type": "code",
      "source": [
        "test_acc = list()\n",
        "test_loss = list()\n",
        "for (X_test, Y_test) in test_batched:\n",
        "    global_test_acc, global_test_loss = test_model(X_test, Y_test, _case5Model, comm_round=1)\n",
        "    test_acc.append(global_test_acc)\n",
        "    test_loss.append(global_test_loss)"
      ],
      "metadata": {
        "execution": {
          "iopub.status.busy": "2022-06-11T15:28:21.365169Z",
          "iopub.execute_input": "2022-06-11T15:28:21.365653Z",
          "iopub.status.idle": "2022-06-11T15:28:21.532998Z",
          "shell.execute_reply.started": "2022-06-11T15:28:21.365606Z",
          "shell.execute_reply": "2022-06-11T15:28:21.532007Z"
        },
        "trusted": true,
        "id": "OWzgsCAl--28",
        "outputId": "1840128a-c2fe-4405-9057-3fff417e51d7"
      },
      "execution_count": null,
      "outputs": [
        {
          "name": "stdout",
          "text": "comm_round: 1 | global_acc: 77.831% | global_loss: 1.0174236297607422\n",
          "output_type": "stream"
        }
      ]
    },
    {
      "cell_type": "markdown",
      "source": [
        "CASE 6:\n",
        "* Sharing deep weights every epoch, 3 shallow and 3 deep layers"
      ],
      "metadata": {
        "id": "xKJxXA0J--29"
      }
    },
    {
      "cell_type": "code",
      "source": [
        "_case6Model, _case6Accuracy, _case6Loss  = _trainModel(1, 3, 6) "
      ],
      "metadata": {
        "execution": {
          "iopub.status.busy": "2022-06-11T15:28:21.534256Z",
          "iopub.execute_input": "2022-06-11T15:28:21.534607Z",
          "iopub.status.idle": "2022-06-11T15:45:55.211706Z",
          "shell.execute_reply.started": "2022-06-11T15:28:21.534575Z",
          "shell.execute_reply": "2022-06-11T15:45:55.210666Z"
        },
        "trusted": true,
        "id": "Dhe6tH3k--29",
        "outputId": "f2eb14db-7d2f-4a03-ef90-6a0d09692614"
      },
      "execution_count": null,
      "outputs": [
        {
          "name": "stdout",
          "text": "comm_round: 0 | global_acc: 29.167% | global_loss: 1.3807507753372192\ncomm_round: 1 | global_acc: 25.000% | global_loss: 1.3797483444213867\ncomm_round: 2 | global_acc: 25.000% | global_loss: 1.3789714574813843\ncomm_round: 3 | global_acc: 25.000% | global_loss: 1.378271222114563\ncomm_round: 4 | global_acc: 25.000% | global_loss: 1.3773380517959595\ncomm_round: 5 | global_acc: 25.000% | global_loss: 1.3766673803329468\ncomm_round: 6 | global_acc: 25.000% | global_loss: 1.3762191534042358\ncomm_round: 7 | global_acc: 22.917% | global_loss: 1.3759013414382935\ncomm_round: 8 | global_acc: 22.917% | global_loss: 1.3754581212997437\ncomm_round: 9 | global_acc: 25.000% | global_loss: 1.3747199773788452\ncomm_round: 10 | global_acc: 22.917% | global_loss: 1.373258113861084\ncomm_round: 11 | global_acc: 27.083% | global_loss: 1.3707979917526245\ncomm_round: 12 | global_acc: 27.083% | global_loss: 1.3669439554214478\ncomm_round: 13 | global_acc: 33.333% | global_loss: 1.3612103462219238\ncomm_round: 14 | global_acc: 37.500% | global_loss: 1.3533269166946411\ncomm_round: 15 | global_acc: 43.750% | global_loss: 1.344053864479065\ncomm_round: 16 | global_acc: 52.083% | global_loss: 1.3329827785491943\ncomm_round: 17 | global_acc: 52.083% | global_loss: 1.3201559782028198\ncomm_round: 18 | global_acc: 54.167% | global_loss: 1.307977318763733\ncomm_round: 19 | global_acc: 56.250% | global_loss: 1.2957792282104492\ncomm_round: 20 | global_acc: 58.333% | global_loss: 1.283953309059143\ncomm_round: 21 | global_acc: 60.417% | global_loss: 1.272203803062439\ncomm_round: 22 | global_acc: 62.500% | global_loss: 1.2612285614013672\ncomm_round: 23 | global_acc: 60.417% | global_loss: 1.2510164976119995\ncomm_round: 24 | global_acc: 64.583% | global_loss: 1.2413119077682495\ncomm_round: 25 | global_acc: 64.583% | global_loss: 1.231920838356018\ncomm_round: 26 | global_acc: 64.583% | global_loss: 1.222830891609192\ncomm_round: 27 | global_acc: 66.667% | global_loss: 1.2155276536941528\ncomm_round: 28 | global_acc: 66.667% | global_loss: 1.2076094150543213\ncomm_round: 29 | global_acc: 66.667% | global_loss: 1.2005106210708618\ncomm_round: 30 | global_acc: 68.750% | global_loss: 1.1930015087127686\ncomm_round: 31 | global_acc: 68.750% | global_loss: 1.1867003440856934\ncomm_round: 32 | global_acc: 68.750% | global_loss: 1.180993914604187\ncomm_round: 33 | global_acc: 68.750% | global_loss: 1.1746554374694824\ncomm_round: 34 | global_acc: 68.750% | global_loss: 1.1691282987594604\ncomm_round: 35 | global_acc: 68.750% | global_loss: 1.1640349626541138\ncomm_round: 36 | global_acc: 70.833% | global_loss: 1.1585288047790527\ncomm_round: 37 | global_acc: 70.833% | global_loss: 1.15384840965271\ncomm_round: 38 | global_acc: 70.833% | global_loss: 1.1494317054748535\ncomm_round: 39 | global_acc: 70.833% | global_loss: 1.1447809934616089\ncomm_round: 40 | global_acc: 70.833% | global_loss: 1.1406941413879395\ncomm_round: 41 | global_acc: 70.833% | global_loss: 1.1361443996429443\ncomm_round: 42 | global_acc: 70.833% | global_loss: 1.1326289176940918\ncomm_round: 43 | global_acc: 70.833% | global_loss: 1.1289944648742676\ncomm_round: 44 | global_acc: 68.750% | global_loss: 1.1258883476257324\ncomm_round: 45 | global_acc: 68.750% | global_loss: 1.1217588186264038\ncomm_round: 46 | global_acc: 68.750% | global_loss: 1.1188918352127075\ncomm_round: 47 | global_acc: 68.750% | global_loss: 1.1159383058547974\ncomm_round: 48 | global_acc: 68.750% | global_loss: 1.1130353212356567\ncomm_round: 49 | global_acc: 70.833% | global_loss: 1.1100863218307495\ncomm_round: 50 | global_acc: 70.833% | global_loss: 1.1074395179748535\ncomm_round: 51 | global_acc: 70.833% | global_loss: 1.1051682233810425\ncomm_round: 52 | global_acc: 70.833% | global_loss: 1.102920413017273\ncomm_round: 53 | global_acc: 70.833% | global_loss: 1.100225806236267\ncomm_round: 54 | global_acc: 70.833% | global_loss: 1.0966871976852417\ncomm_round: 55 | global_acc: 68.750% | global_loss: 1.0954327583312988\ncomm_round: 56 | global_acc: 68.750% | global_loss: 1.0934704542160034\ncomm_round: 57 | global_acc: 68.750% | global_loss: 1.0917751789093018\ncomm_round: 58 | global_acc: 68.750% | global_loss: 1.0892406702041626\ncomm_round: 59 | global_acc: 68.750% | global_loss: 1.0871700048446655\ncomm_round: 60 | global_acc: 68.750% | global_loss: 1.0844264030456543\ncomm_round: 61 | global_acc: 66.667% | global_loss: 1.0841556787490845\ncomm_round: 62 | global_acc: 68.750% | global_loss: 1.080641269683838\ncomm_round: 63 | global_acc: 68.750% | global_loss: 1.0794790983200073\ncomm_round: 64 | global_acc: 66.667% | global_loss: 1.0794261693954468\ncomm_round: 65 | global_acc: 66.667% | global_loss: 1.0777274370193481\ncomm_round: 66 | global_acc: 66.667% | global_loss: 1.0748790502548218\ncomm_round: 67 | global_acc: 66.667% | global_loss: 1.0712294578552246\ncomm_round: 68 | global_acc: 66.667% | global_loss: 1.0712590217590332\ncomm_round: 69 | global_acc: 66.667% | global_loss: 1.0671277046203613\ncomm_round: 70 | global_acc: 66.667% | global_loss: 1.0701590776443481\ncomm_round: 71 | global_acc: 68.750% | global_loss: 1.0626109838485718\ncomm_round: 72 | global_acc: 68.750% | global_loss: 1.0615891218185425\ncomm_round: 73 | global_acc: 66.667% | global_loss: 1.0629216432571411\ncomm_round: 74 | global_acc: 66.667% | global_loss: 1.0618770122528076\ncomm_round: 75 | global_acc: 68.750% | global_loss: 1.0554972887039185\ncomm_round: 76 | global_acc: 68.750% | global_loss: 1.058242678642273\ncomm_round: 77 | global_acc: 68.750% | global_loss: 1.055583119392395\ncomm_round: 78 | global_acc: 72.917% | global_loss: 1.0485272407531738\ncomm_round: 79 | global_acc: 70.833% | global_loss: 1.0510691404342651\ncomm_round: 80 | global_acc: 72.917% | global_loss: 1.0500377416610718\ncomm_round: 81 | global_acc: 75.000% | global_loss: 1.0457154512405396\ncomm_round: 82 | global_acc: 72.917% | global_loss: 1.045697569847107\ncomm_round: 83 | global_acc: 75.000% | global_loss: 1.0396889448165894\ncomm_round: 84 | global_acc: 75.000% | global_loss: 1.037116527557373\ncomm_round: 85 | global_acc: 75.000% | global_loss: 1.0362025499343872\ncomm_round: 86 | global_acc: 75.000% | global_loss: 1.0364118814468384\ncomm_round: 87 | global_acc: 75.000% | global_loss: 1.0344949960708618\ncomm_round: 88 | global_acc: 75.000% | global_loss: 1.0330041646957397\ncomm_round: 89 | global_acc: 75.000% | global_loss: 1.0273194313049316\ncomm_round: 90 | global_acc: 77.083% | global_loss: 1.023003339767456\ncomm_round: 91 | global_acc: 77.083% | global_loss: 1.0239218473434448\ncomm_round: 92 | global_acc: 75.000% | global_loss: 1.0262842178344727\ncomm_round: 93 | global_acc: 75.000% | global_loss: 1.025051236152649\ncomm_round: 94 | global_acc: 79.167% | global_loss: 1.013834834098816\ncomm_round: 95 | global_acc: 77.083% | global_loss: 1.0196315050125122\ncomm_round: 96 | global_acc: 79.167% | global_loss: 1.0169637203216553\ncomm_round: 97 | global_acc: 81.250% | global_loss: 1.0144848823547363\ncomm_round: 98 | global_acc: 81.250% | global_loss: 1.0107886791229248\ncomm_round: 99 | global_acc: 81.250% | global_loss: 1.0088896751403809\n",
          "output_type": "stream"
        }
      ]
    },
    {
      "cell_type": "code",
      "source": [
        "_visualise(_case6Model, _case6Accuracy, _case6Loss)"
      ],
      "metadata": {
        "execution": {
          "iopub.status.busy": "2022-06-11T15:45:55.215004Z",
          "iopub.execute_input": "2022-06-11T15:45:55.215909Z",
          "iopub.status.idle": "2022-06-11T15:45:55.371274Z",
          "shell.execute_reply.started": "2022-06-11T15:45:55.215872Z",
          "shell.execute_reply": "2022-06-11T15:45:55.370362Z"
        },
        "trusted": true,
        "id": "kT0KlAQt--2-",
        "outputId": "9f76875f-60b7-4c03-e406-27415f125b53"
      },
      "execution_count": null,
      "outputs": [
        {
          "output_type": "display_data",
          "data": {
            "text/plain": "<Figure size 432x288 with 1 Axes>",
            "image/png": "[encoded data removed]"
          },
          "metadata": {
            "needs_background": "light"
          }
        }
      ]
    },
    {
      "cell_type": "code",
      "source": [
        "test_acc = list()\n",
        "test_loss = list()\n",
        "for (X_test, Y_test) in test_batched:\n",
        "    global_test_acc, global_test_loss = test_model(X_test, Y_test, _case6Model, comm_round=1)\n",
        "    test_acc.append(global_test_acc)\n",
        "    test_loss.append(global_test_loss)"
      ],
      "metadata": {
        "execution": {
          "iopub.status.busy": "2022-06-11T15:45:55.372767Z",
          "iopub.execute_input": "2022-06-11T15:45:55.373098Z",
          "iopub.status.idle": "2022-06-11T15:45:55.532946Z",
          "shell.execute_reply.started": "2022-06-11T15:45:55.373055Z",
          "shell.execute_reply": "2022-06-11T15:45:55.531885Z"
        },
        "trusted": true,
        "id": "thVtUMzW--2-",
        "outputId": "e7efc5b4-7bed-4668-820c-12ed51a8f7ac"
      },
      "execution_count": null,
      "outputs": [
        {
          "name": "stdout",
          "text": "comm_round: 1 | global_acc: 84.244% | global_loss: 0.9398937821388245\n",
          "output_type": "stream"
        }
      ]
    },
    {
      "cell_type": "markdown",
      "source": [
        "CASE 7:\n",
        "* Sharing deep weights every 5th epoch, 4 shallow and 2 deep layers"
      ],
      "metadata": {
        "id": "Rci6yfm---2_"
      }
    },
    {
      "cell_type": "code",
      "source": [
        "_case7Model, _case7Accuracy, _case7Loss  = _trainModel(5, 4, 6) "
      ],
      "metadata": {
        "execution": {
          "iopub.status.busy": "2022-06-11T15:45:55.535381Z",
          "iopub.execute_input": "2022-06-11T15:45:55.535795Z",
          "iopub.status.idle": "2022-06-11T16:03:31.197948Z",
          "shell.execute_reply.started": "2022-06-11T15:45:55.535756Z",
          "shell.execute_reply": "2022-06-11T16:03:31.196829Z"
        },
        "trusted": true,
        "id": "uWdtO-jb--2_",
        "outputId": "7e40ef5e-dc7c-485b-9f11-03ec3e743336"
      },
      "execution_count": null,
      "outputs": [
        {
          "name": "stdout",
          "text": "comm_round: 0 | global_acc: 31.250% | global_loss: 1.3816595077514648\ncomm_round: 1 | global_acc: 29.167% | global_loss: 1.3811722993850708\ncomm_round: 2 | global_acc: 25.000% | global_loss: 1.3808692693710327\ncomm_round: 3 | global_acc: 25.000% | global_loss: 1.3805230855941772\ncomm_round: 4 | global_acc: 27.083% | global_loss: 1.3802270889282227\ncomm_round: 5 | global_acc: 20.833% | global_loss: 1.3792117834091187\ncomm_round: 6 | global_acc: 20.833% | global_loss: 1.378893256187439\ncomm_round: 7 | global_acc: 22.917% | global_loss: 1.378730297088623\ncomm_round: 8 | global_acc: 22.917% | global_loss: 1.3786125183105469\ncomm_round: 9 | global_acc: 29.167% | global_loss: 1.3784631490707397\ncomm_round: 10 | global_acc: 29.167% | global_loss: 1.3779054880142212\ncomm_round: 11 | global_acc: 29.167% | global_loss: 1.3776715993881226\ncomm_round: 12 | global_acc: 33.333% | global_loss: 1.3773680925369263\ncomm_round: 13 | global_acc: 33.333% | global_loss: 1.3767814636230469\ncomm_round: 14 | global_acc: 33.333% | global_loss: 1.3758400678634644\ncomm_round: 15 | global_acc: 39.583% | global_loss: 1.3737729787826538\ncomm_round: 16 | global_acc: 37.500% | global_loss: 1.3720282316207886\ncomm_round: 17 | global_acc: 37.500% | global_loss: 1.3700956106185913\ncomm_round: 18 | global_acc: 43.750% | global_loss: 1.3677949905395508\ncomm_round: 19 | global_acc: 45.833% | global_loss: 1.3651217222213745\ncomm_round: 20 | global_acc: 45.833% | global_loss: 1.3606053590774536\ncomm_round: 21 | global_acc: 45.833% | global_loss: 1.3565233945846558\ncomm_round: 22 | global_acc: 45.833% | global_loss: 1.3526369333267212\ncomm_round: 23 | global_acc: 47.917% | global_loss: 1.3486043214797974\ncomm_round: 24 | global_acc: 50.000% | global_loss: 1.34429931640625\ncomm_round: 25 | global_acc: 50.000% | global_loss: 1.3378463983535767\ncomm_round: 26 | global_acc: 50.000% | global_loss: 1.3326334953308105\ncomm_round: 27 | global_acc: 50.000% | global_loss: 1.327790379524231\ncomm_round: 28 | global_acc: 52.083% | global_loss: 1.3231853246688843\ncomm_round: 29 | global_acc: 52.083% | global_loss: 1.318407416343689\ncomm_round: 30 | global_acc: 54.167% | global_loss: 1.31166410446167\ncomm_round: 31 | global_acc: 54.167% | global_loss: 1.3062947988510132\ncomm_round: 32 | global_acc: 54.167% | global_loss: 1.3016499280929565\ncomm_round: 33 | global_acc: 54.167% | global_loss: 1.297318935394287\ncomm_round: 34 | global_acc: 56.250% | global_loss: 1.292681097984314\ncomm_round: 35 | global_acc: 54.167% | global_loss: 1.285987377166748\ncomm_round: 36 | global_acc: 54.167% | global_loss: 1.2805631160736084\ncomm_round: 37 | global_acc: 54.167% | global_loss: 1.2754902839660645\ncomm_round: 38 | global_acc: 54.167% | global_loss: 1.2708464860916138\ncomm_round: 39 | global_acc: 54.167% | global_loss: 1.2657990455627441\ncomm_round: 40 | global_acc: 56.250% | global_loss: 1.2590303421020508\ncomm_round: 41 | global_acc: 56.250% | global_loss: 1.2535353899002075\ncomm_round: 42 | global_acc: 56.250% | global_loss: 1.2482643127441406\ncomm_round: 43 | global_acc: 56.250% | global_loss: 1.2436541318893433\ncomm_round: 44 | global_acc: 58.333% | global_loss: 1.2391092777252197\ncomm_round: 45 | global_acc: 58.333% | global_loss: 1.232395052909851\ncomm_round: 46 | global_acc: 58.333% | global_loss: 1.227987289428711\ncomm_round: 47 | global_acc: 58.333% | global_loss: 1.2230504751205444\ncomm_round: 48 | global_acc: 60.417% | global_loss: 1.2197691202163696\ncomm_round: 49 | global_acc: 60.417% | global_loss: 1.2151747941970825\ncomm_round: 50 | global_acc: 60.417% | global_loss: 1.2092241048812866\ncomm_round: 51 | global_acc: 62.500% | global_loss: 1.20456063747406\ncomm_round: 52 | global_acc: 60.417% | global_loss: 1.2014955282211304\ncomm_round: 53 | global_acc: 62.500% | global_loss: 1.1975222826004028\ncomm_round: 54 | global_acc: 62.500% | global_loss: 1.1947227716445923\ncomm_round: 55 | global_acc: 64.583% | global_loss: 1.189447283744812\ncomm_round: 56 | global_acc: 66.667% | global_loss: 1.1856473684310913\ncomm_round: 57 | global_acc: 68.750% | global_loss: 1.1817456483840942\ncomm_round: 58 | global_acc: 68.750% | global_loss: 1.1790395975112915\ncomm_round: 59 | global_acc: 68.750% | global_loss: 1.1758235692977905\ncomm_round: 60 | global_acc: 68.750% | global_loss: 1.1712051630020142\ncomm_round: 61 | global_acc: 70.833% | global_loss: 1.167636752128601\ncomm_round: 62 | global_acc: 72.917% | global_loss: 1.1653704643249512\ncomm_round: 63 | global_acc: 72.917% | global_loss: 1.162886619567871\ncomm_round: 64 | global_acc: 72.917% | global_loss: 1.1602927446365356\ncomm_round: 65 | global_acc: 75.000% | global_loss: 1.1559315919876099\ncomm_round: 66 | global_acc: 75.000% | global_loss: 1.1533843278884888\ncomm_round: 67 | global_acc: 75.000% | global_loss: 1.151155948638916\ncomm_round: 68 | global_acc: 75.000% | global_loss: 1.1491904258728027\ncomm_round: 69 | global_acc: 75.000% | global_loss: 1.147434115409851\ncomm_round: 70 | global_acc: 72.917% | global_loss: 1.1442618370056152\ncomm_round: 71 | global_acc: 75.000% | global_loss: 1.1416471004486084\ncomm_round: 72 | global_acc: 75.000% | global_loss: 1.1397649049758911\ncomm_round: 73 | global_acc: 75.000% | global_loss: 1.1377853155136108\ncomm_round: 74 | global_acc: 75.000% | global_loss: 1.1365240812301636\ncomm_round: 75 | global_acc: 75.000% | global_loss: 1.1338609457015991\ncomm_round: 76 | global_acc: 75.000% | global_loss: 1.1315354108810425\ncomm_round: 77 | global_acc: 75.000% | global_loss: 1.1300958395004272\ncomm_round: 78 | global_acc: 75.000% | global_loss: 1.128558874130249\ncomm_round: 79 | global_acc: 75.000% | global_loss: 1.1270126104354858\ncomm_round: 80 | global_acc: 70.833% | global_loss: 1.1245087385177612\ncomm_round: 81 | global_acc: 75.000% | global_loss: 1.1224809885025024\ncomm_round: 82 | global_acc: 75.000% | global_loss: 1.1210649013519287\ncomm_round: 83 | global_acc: 75.000% | global_loss: 1.120215892791748\ncomm_round: 84 | global_acc: 75.000% | global_loss: 1.1193031072616577\ncomm_round: 85 | global_acc: 70.833% | global_loss: 1.11683189868927\ncomm_round: 86 | global_acc: 72.917% | global_loss: 1.115462303161621\ncomm_round: 87 | global_acc: 70.833% | global_loss: 1.1148325204849243\ncomm_round: 88 | global_acc: 70.833% | global_loss: 1.114397406578064\ncomm_round: 89 | global_acc: 70.833% | global_loss: 1.1128275394439697\ncomm_round: 90 | global_acc: 72.917% | global_loss: 1.1108322143554688\ncomm_round: 91 | global_acc: 70.833% | global_loss: 1.1101409196853638\ncomm_round: 92 | global_acc: 70.833% | global_loss: 1.1094690561294556\ncomm_round: 93 | global_acc: 70.833% | global_loss: 1.1083612442016602\ncomm_round: 94 | global_acc: 70.833% | global_loss: 1.1075571775436401\ncomm_round: 95 | global_acc: 70.833% | global_loss: 1.1052197217941284\ncomm_round: 96 | global_acc: 70.833% | global_loss: 1.1044880151748657\ncomm_round: 97 | global_acc: 70.833% | global_loss: 1.1041401624679565\ncomm_round: 98 | global_acc: 70.833% | global_loss: 1.1035784482955933\ncomm_round: 99 | global_acc: 70.833% | global_loss: 1.102959156036377\n",
          "output_type": "stream"
        }
      ]
    },
    {
      "cell_type": "code",
      "source": [
        "_visualise(_case7Model, _case7Accuracy, _case7Loss)"
      ],
      "metadata": {
        "execution": {
          "iopub.status.busy": "2022-06-11T16:03:31.199384Z",
          "iopub.execute_input": "2022-06-11T16:03:31.199696Z",
          "iopub.status.idle": "2022-06-11T16:03:31.351923Z",
          "shell.execute_reply.started": "2022-06-11T16:03:31.199668Z",
          "shell.execute_reply": "2022-06-11T16:03:31.351148Z"
        },
        "trusted": true,
        "id": "hlysEtEh--2_",
        "outputId": "5497cafe-f1d5-4730-842f-4e2e75114ec3"
      },
      "execution_count": null,
      "outputs": [
        {
          "output_type": "display_data",
          "data": {
            "text/plain": "<Figure size 432x288 with 1 Axes>",
            "image/png": "[encoded data removed]"
          },
          "metadata": {
            "needs_background": "light"
          }
        }
      ]
    },
    {
      "cell_type": "code",
      "source": [
        "test_acc = list()\n",
        "test_loss = list()\n",
        "for (X_test, Y_test) in test_batched:\n",
        "    global_test_acc, global_test_loss = test_model(X_test, Y_test, _case7Model, comm_round=1)\n",
        "    test_acc.append(global_test_acc)\n",
        "    test_loss.append(global_test_loss)"
      ],
      "metadata": {
        "execution": {
          "iopub.status.busy": "2022-06-11T16:03:31.353425Z",
          "iopub.execute_input": "2022-06-11T16:03:31.354206Z",
          "iopub.status.idle": "2022-06-11T16:03:31.513158Z",
          "shell.execute_reply.started": "2022-06-11T16:03:31.354158Z",
          "shell.execute_reply": "2022-06-11T16:03:31.512139Z"
        },
        "trusted": true,
        "id": "b2nbGwMp--3A",
        "outputId": "fa54a0d1-6860-41a7-facc-2535dedb1c78"
      },
      "execution_count": null,
      "outputs": [
        {
          "name": "stdout",
          "text": "comm_round: 1 | global_acc: 76.960% | global_loss: 1.0225378274917603\n",
          "output_type": "stream"
        }
      ]
    },
    {
      "cell_type": "markdown",
      "source": [
        "CASE 8:\n",
        "* Sharing deep weights every 10th epoch, 4 shallow and 2 deep layers"
      ],
      "metadata": {
        "id": "bARSBJlS--3A"
      }
    },
    {
      "cell_type": "code",
      "source": [
        "_case8Model, _case8Accuracy, _case8Loss  = _trainModel(10, 4, 6) "
      ],
      "metadata": {
        "execution": {
          "iopub.status.busy": "2022-06-11T16:03:31.514514Z",
          "iopub.execute_input": "2022-06-11T16:03:31.515149Z",
          "iopub.status.idle": "2022-06-11T16:21:16.416998Z",
          "shell.execute_reply.started": "2022-06-11T16:03:31.515100Z",
          "shell.execute_reply": "2022-06-11T16:21:16.415920Z"
        },
        "trusted": true,
        "id": "FAJtDOCd--3A",
        "outputId": "91d363f9-cc83-4e6f-bdd5-e5b92caf8e9d"
      },
      "execution_count": null,
      "outputs": [
        {
          "name": "stdout",
          "text": "comm_round: 0 | global_acc: 27.083% | global_loss: 1.38017737865448\ncomm_round: 1 | global_acc: 29.167% | global_loss: 1.3794664144515991\ncomm_round: 2 | global_acc: 27.083% | global_loss: 1.3787012100219727\ncomm_round: 3 | global_acc: 22.917% | global_loss: 1.3780368566513062\ncomm_round: 4 | global_acc: 22.917% | global_loss: 1.3773504495620728\ncomm_round: 5 | global_acc: 22.917% | global_loss: 1.3768550157546997\ncomm_round: 6 | global_acc: 22.917% | global_loss: 1.3765147924423218\ncomm_round: 7 | global_acc: 25.000% | global_loss: 1.3761425018310547\ncomm_round: 8 | global_acc: 22.917% | global_loss: 1.3757638931274414\ncomm_round: 9 | global_acc: 22.917% | global_loss: 1.3754268884658813\ncomm_round: 10 | global_acc: 22.917% | global_loss: 1.374819278717041\ncomm_round: 11 | global_acc: 22.917% | global_loss: 1.3744598627090454\ncomm_round: 12 | global_acc: 22.917% | global_loss: 1.374155044555664\ncomm_round: 13 | global_acc: 22.917% | global_loss: 1.3739429712295532\ncomm_round: 14 | global_acc: 27.083% | global_loss: 1.3737255334854126\ncomm_round: 15 | global_acc: 29.167% | global_loss: 1.373522162437439\ncomm_round: 16 | global_acc: 29.167% | global_loss: 1.3733792304992676\ncomm_round: 17 | global_acc: 29.167% | global_loss: 1.3732248544692993\ncomm_round: 18 | global_acc: 29.167% | global_loss: 1.373038649559021\ncomm_round: 19 | global_acc: 29.167% | global_loss: 1.3727902173995972\ncomm_round: 20 | global_acc: 31.250% | global_loss: 1.371199131011963\ncomm_round: 21 | global_acc: 31.250% | global_loss: 1.3701401948928833\ncomm_round: 22 | global_acc: 31.250% | global_loss: 1.3690420389175415\ncomm_round: 23 | global_acc: 31.250% | global_loss: 1.36760675907135\ncomm_round: 24 | global_acc: 31.250% | global_loss: 1.3660240173339844\ncomm_round: 25 | global_acc: 31.250% | global_loss: 1.3642743825912476\ncomm_round: 26 | global_acc: 31.250% | global_loss: 1.3622608184814453\ncomm_round: 27 | global_acc: 29.167% | global_loss: 1.3601036071777344\ncomm_round: 28 | global_acc: 29.167% | global_loss: 1.357690691947937\ncomm_round: 29 | global_acc: 29.167% | global_loss: 1.3551965951919556\ncomm_round: 30 | global_acc: 33.333% | global_loss: 1.3494380712509155\ncomm_round: 31 | global_acc: 31.250% | global_loss: 1.3462222814559937\ncomm_round: 32 | global_acc: 31.250% | global_loss: 1.3432115316390991\ncomm_round: 33 | global_acc: 31.250% | global_loss: 1.3403596878051758\ncomm_round: 34 | global_acc: 31.250% | global_loss: 1.3374866247177124\ncomm_round: 35 | global_acc: 33.333% | global_loss: 1.3347338438034058\ncomm_round: 36 | global_acc: 33.333% | global_loss: 1.331940770149231\ncomm_round: 37 | global_acc: 33.333% | global_loss: 1.3289803266525269\ncomm_round: 38 | global_acc: 33.333% | global_loss: 1.326039433479309\ncomm_round: 39 | global_acc: 35.417% | global_loss: 1.322916030883789\ncomm_round: 40 | global_acc: 45.833% | global_loss: 1.3159451484680176\ncomm_round: 41 | global_acc: 47.917% | global_loss: 1.3127878904342651\ncomm_round: 42 | global_acc: 47.917% | global_loss: 1.3095924854278564\ncomm_round: 43 | global_acc: 47.917% | global_loss: 1.306367039680481\ncomm_round: 44 | global_acc: 50.000% | global_loss: 1.3032019138336182\ncomm_round: 45 | global_acc: 50.000% | global_loss: 1.2997806072235107\ncomm_round: 46 | global_acc: 50.000% | global_loss: 1.2967028617858887\ncomm_round: 47 | global_acc: 50.000% | global_loss: 1.2933335304260254\ncomm_round: 48 | global_acc: 50.000% | global_loss: 1.2901333570480347\ncomm_round: 49 | global_acc: 50.000% | global_loss: 1.286868691444397\ncomm_round: 50 | global_acc: 47.917% | global_loss: 1.279628872871399\ncomm_round: 51 | global_acc: 47.917% | global_loss: 1.2759572267532349\ncomm_round: 52 | global_acc: 47.917% | global_loss: 1.272225022315979\ncomm_round: 53 | global_acc: 47.917% | global_loss: 1.2685213088989258\ncomm_round: 54 | global_acc: 47.917% | global_loss: 1.264634609222412\ncomm_round: 55 | global_acc: 50.000% | global_loss: 1.2609306573867798\ncomm_round: 56 | global_acc: 50.000% | global_loss: 1.2571407556533813\ncomm_round: 57 | global_acc: 50.000% | global_loss: 1.2534500360488892\ncomm_round: 58 | global_acc: 50.000% | global_loss: 1.2497501373291016\ncomm_round: 59 | global_acc: 54.167% | global_loss: 1.2467812299728394\ncomm_round: 60 | global_acc: 54.167% | global_loss: 1.2379157543182373\ncomm_round: 61 | global_acc: 56.250% | global_loss: 1.2347774505615234\ncomm_round: 62 | global_acc: 58.333% | global_loss: 1.2314597368240356\ncomm_round: 63 | global_acc: 58.333% | global_loss: 1.2280815839767456\ncomm_round: 64 | global_acc: 58.333% | global_loss: 1.2245758771896362\ncomm_round: 65 | global_acc: 58.333% | global_loss: 1.2213784456253052\ncomm_round: 66 | global_acc: 58.333% | global_loss: 1.2179816961288452\ncomm_round: 67 | global_acc: 62.500% | global_loss: 1.2150660753250122\ncomm_round: 68 | global_acc: 60.417% | global_loss: 1.2117804288864136\ncomm_round: 69 | global_acc: 62.500% | global_loss: 1.2088035345077515\ncomm_round: 70 | global_acc: 64.583% | global_loss: 1.2021116018295288\ncomm_round: 71 | global_acc: 62.500% | global_loss: 1.198825716972351\ncomm_round: 72 | global_acc: 62.500% | global_loss: 1.1959270238876343\ncomm_round: 73 | global_acc: 62.500% | global_loss: 1.1929610967636108\ncomm_round: 74 | global_acc: 62.500% | global_loss: 1.191044807434082\ncomm_round: 75 | global_acc: 62.500% | global_loss: 1.1889251470565796\ncomm_round: 76 | global_acc: 62.500% | global_loss: 1.186221718788147\ncomm_round: 77 | global_acc: 62.500% | global_loss: 1.183160424232483\ncomm_round: 78 | global_acc: 62.500% | global_loss: 1.1808727979660034\ncomm_round: 79 | global_acc: 64.583% | global_loss: 1.1779747009277344\ncomm_round: 80 | global_acc: 68.750% | global_loss: 1.1725274324417114\ncomm_round: 81 | global_acc: 66.667% | global_loss: 1.1702359914779663\ncomm_round: 82 | global_acc: 64.583% | global_loss: 1.1677478551864624\ncomm_round: 83 | global_acc: 64.583% | global_loss: 1.1659555435180664\ncomm_round: 84 | global_acc: 64.583% | global_loss: 1.1641383171081543\ncomm_round: 85 | global_acc: 64.583% | global_loss: 1.1626113653182983\ncomm_round: 86 | global_acc: 64.583% | global_loss: 1.1604743003845215\ncomm_round: 87 | global_acc: 64.583% | global_loss: 1.1584123373031616\ncomm_round: 88 | global_acc: 64.583% | global_loss: 1.157368779182434\ncomm_round: 89 | global_acc: 64.583% | global_loss: 1.1554917097091675\ncomm_round: 90 | global_acc: 64.583% | global_loss: 1.1501129865646362\ncomm_round: 91 | global_acc: 64.583% | global_loss: 1.1487098932266235\ncomm_round: 92 | global_acc: 64.583% | global_loss: 1.1473971605300903\ncomm_round: 93 | global_acc: 64.583% | global_loss: 1.1460256576538086\ncomm_round: 94 | global_acc: 64.583% | global_loss: 1.14472496509552\ncomm_round: 95 | global_acc: 64.583% | global_loss: 1.1442078351974487\ncomm_round: 96 | global_acc: 64.583% | global_loss: 1.142346978187561\ncomm_round: 97 | global_acc: 64.583% | global_loss: 1.1403272151947021\ncomm_round: 98 | global_acc: 64.583% | global_loss: 1.1406375169754028\ncomm_round: 99 | global_acc: 64.583% | global_loss: 1.1391860246658325\n",
          "output_type": "stream"
        }
      ]
    },
    {
      "cell_type": "code",
      "source": [
        "_visualise(_case8Model, _case8Accuracy, _case8Loss)"
      ],
      "metadata": {
        "execution": {
          "iopub.status.busy": "2022-06-11T16:21:16.418317Z",
          "iopub.execute_input": "2022-06-11T16:21:16.418637Z",
          "iopub.status.idle": "2022-06-11T16:21:16.575676Z",
          "shell.execute_reply.started": "2022-06-11T16:21:16.418608Z",
          "shell.execute_reply": "2022-06-11T16:21:16.575012Z"
        },
        "trusted": true,
        "id": "PAblVF46--3B",
        "outputId": "d8bcbe3a-d640-4df8-e103-9a7b61171ecc"
      },
      "execution_count": null,
      "outputs": [
        {
          "output_type": "display_data",
          "data": {
            "text/plain": "<Figure size 432x288 with 1 Axes>",
            "image/png": "[encoded data removed]"
          },
          "metadata": {
            "needs_background": "light"
          }
        }
      ]
    },
    {
      "cell_type": "code",
      "source": [
        "test_acc = list()\n",
        "test_loss = list()\n",
        "for (X_test, Y_test) in test_batched:\n",
        "    global_test_acc, global_test_loss = test_model(X_test, Y_test, _case8Model, comm_round=1)\n",
        "    test_acc.append(global_test_acc)\n",
        "    test_loss.append(global_test_loss)"
      ],
      "metadata": {
        "execution": {
          "iopub.status.busy": "2022-06-11T16:21:16.576923Z",
          "iopub.execute_input": "2022-06-11T16:21:16.577909Z",
          "iopub.status.idle": "2022-06-11T16:21:16.734506Z",
          "shell.execute_reply.started": "2022-06-11T16:21:16.577865Z",
          "shell.execute_reply": "2022-06-11T16:21:16.732585Z"
        },
        "trusted": true,
        "id": "7Nj_BiS2--3B",
        "outputId": "f647af1f-77af-4f9e-a999-72168f8c8005"
      },
      "execution_count": null,
      "outputs": [
        {
          "name": "stdout",
          "text": "comm_round: 1 | global_acc: 75.218% | global_loss: 1.0540902614593506\n",
          "output_type": "stream"
        }
      ]
    },
    {
      "cell_type": "markdown",
      "source": [
        "CASE 9:\n",
        "* Sharing deep weights every epoch, 4 shallow and 2 deep layers"
      ],
      "metadata": {
        "id": "JcN_eA0s--3C"
      }
    },
    {
      "cell_type": "code",
      "source": [
        "_case9Model, _case9Accuracy, _case9Loss  = _trainModel(1, 4, 6) "
      ],
      "metadata": {
        "execution": {
          "iopub.status.busy": "2022-06-11T16:21:16.735925Z",
          "iopub.execute_input": "2022-06-11T16:21:16.736394Z",
          "iopub.status.idle": "2022-06-11T16:39:08.133187Z",
          "shell.execute_reply.started": "2022-06-11T16:21:16.736349Z",
          "shell.execute_reply": "2022-06-11T16:39:08.132144Z"
        },
        "trusted": true,
        "id": "_lr0gvT5--3C",
        "outputId": "9dc5627b-411b-42ba-afac-dad458c93ef3"
      },
      "execution_count": null,
      "outputs": [
        {
          "name": "stdout",
          "text": "comm_round: 0 | global_acc: 25.000% | global_loss: 1.3857730627059937\ncomm_round: 1 | global_acc: 25.000% | global_loss: 1.3844060897827148\ncomm_round: 2 | global_acc: 25.000% | global_loss: 1.3830734491348267\ncomm_round: 3 | global_acc: 25.000% | global_loss: 1.3819173574447632\ncomm_round: 4 | global_acc: 25.000% | global_loss: 1.3808342218399048\ncomm_round: 5 | global_acc: 25.000% | global_loss: 1.3796228170394897\ncomm_round: 6 | global_acc: 25.000% | global_loss: 1.3784070014953613\ncomm_round: 7 | global_acc: 25.000% | global_loss: 1.3772050142288208\ncomm_round: 8 | global_acc: 25.000% | global_loss: 1.3758467435836792\ncomm_round: 9 | global_acc: 27.083% | global_loss: 1.3745269775390625\ncomm_round: 10 | global_acc: 27.083% | global_loss: 1.3730288743972778\ncomm_round: 11 | global_acc: 31.250% | global_loss: 1.3715726137161255\ncomm_round: 12 | global_acc: 29.167% | global_loss: 1.37007474899292\ncomm_round: 13 | global_acc: 29.167% | global_loss: 1.3684754371643066\ncomm_round: 14 | global_acc: 33.333% | global_loss: 1.3668209314346313\ncomm_round: 15 | global_acc: 37.500% | global_loss: 1.3651031255722046\ncomm_round: 16 | global_acc: 41.667% | global_loss: 1.3631449937820435\ncomm_round: 17 | global_acc: 47.917% | global_loss: 1.3608875274658203\ncomm_round: 18 | global_acc: 47.917% | global_loss: 1.3581405878067017\ncomm_round: 19 | global_acc: 47.917% | global_loss: 1.3546934127807617\ncomm_round: 20 | global_acc: 47.917% | global_loss: 1.3507779836654663\ncomm_round: 21 | global_acc: 52.083% | global_loss: 1.3462098836898804\ncomm_round: 22 | global_acc: 52.083% | global_loss: 1.341283917427063\ncomm_round: 23 | global_acc: 52.083% | global_loss: 1.3357887268066406\ncomm_round: 24 | global_acc: 52.083% | global_loss: 1.330094814300537\ncomm_round: 25 | global_acc: 52.083% | global_loss: 1.3242579698562622\ncomm_round: 26 | global_acc: 50.000% | global_loss: 1.3182674646377563\ncomm_round: 27 | global_acc: 50.000% | global_loss: 1.3121600151062012\ncomm_round: 28 | global_acc: 56.250% | global_loss: 1.3059686422348022\ncomm_round: 29 | global_acc: 56.250% | global_loss: 1.2996891736984253\ncomm_round: 30 | global_acc: 56.250% | global_loss: 1.2926961183547974\ncomm_round: 31 | global_acc: 56.250% | global_loss: 1.2863341569900513\ncomm_round: 32 | global_acc: 56.250% | global_loss: 1.28024160861969\ncomm_round: 33 | global_acc: 56.250% | global_loss: 1.273922085762024\ncomm_round: 34 | global_acc: 58.333% | global_loss: 1.267675518989563\ncomm_round: 35 | global_acc: 58.333% | global_loss: 1.2623000144958496\ncomm_round: 36 | global_acc: 60.417% | global_loss: 1.2564224004745483\ncomm_round: 37 | global_acc: 60.417% | global_loss: 1.2508763074874878\ncomm_round: 38 | global_acc: 60.417% | global_loss: 1.2449427843093872\ncomm_round: 39 | global_acc: 60.417% | global_loss: 1.2397292852401733\ncomm_round: 40 | global_acc: 62.500% | global_loss: 1.2338289022445679\ncomm_round: 41 | global_acc: 62.500% | global_loss: 1.228593349456787\ncomm_round: 42 | global_acc: 64.583% | global_loss: 1.2234736680984497\ncomm_round: 43 | global_acc: 66.667% | global_loss: 1.218180537223816\ncomm_round: 44 | global_acc: 66.667% | global_loss: 1.2128533124923706\ncomm_round: 45 | global_acc: 66.667% | global_loss: 1.2081283330917358\ncomm_round: 46 | global_acc: 66.667% | global_loss: 1.203675627708435\ncomm_round: 47 | global_acc: 66.667% | global_loss: 1.1989020109176636\ncomm_round: 48 | global_acc: 66.667% | global_loss: 1.1941386461257935\ncomm_round: 49 | global_acc: 66.667% | global_loss: 1.1895273923873901\ncomm_round: 50 | global_acc: 66.667% | global_loss: 1.1845451593399048\ncomm_round: 51 | global_acc: 66.667% | global_loss: 1.1806365251541138\ncomm_round: 52 | global_acc: 66.667% | global_loss: 1.1762744188308716\ncomm_round: 53 | global_acc: 64.583% | global_loss: 1.1726640462875366\ncomm_round: 54 | global_acc: 64.583% | global_loss: 1.1686530113220215\ncomm_round: 55 | global_acc: 64.583% | global_loss: 1.1649584770202637\ncomm_round: 56 | global_acc: 64.583% | global_loss: 1.161598801612854\ncomm_round: 57 | global_acc: 64.583% | global_loss: 1.1581264734268188\ncomm_round: 58 | global_acc: 64.583% | global_loss: 1.1542078256607056\ncomm_round: 59 | global_acc: 64.583% | global_loss: 1.1503809690475464\ncomm_round: 60 | global_acc: 66.667% | global_loss: 1.1475881338119507\ncomm_round: 61 | global_acc: 66.667% | global_loss: 1.144354224205017\ncomm_round: 62 | global_acc: 66.667% | global_loss: 1.1418473720550537\ncomm_round: 63 | global_acc: 66.667% | global_loss: 1.138957142829895\ncomm_round: 64 | global_acc: 66.667% | global_loss: 1.1364903450012207\ncomm_round: 65 | global_acc: 64.583% | global_loss: 1.13422429561615\ncomm_round: 66 | global_acc: 66.667% | global_loss: 1.1313780546188354\ncomm_round: 67 | global_acc: 64.583% | global_loss: 1.1292164325714111\ncomm_round: 68 | global_acc: 64.583% | global_loss: 1.1270357370376587\ncomm_round: 69 | global_acc: 64.583% | global_loss: 1.1248959302902222\ncomm_round: 70 | global_acc: 64.583% | global_loss: 1.1232091188430786\ncomm_round: 71 | global_acc: 64.583% | global_loss: 1.121085286140442\ncomm_round: 72 | global_acc: 64.583% | global_loss: 1.1198123693466187\ncomm_round: 73 | global_acc: 64.583% | global_loss: 1.1176360845565796\ncomm_round: 74 | global_acc: 64.583% | global_loss: 1.1161236763000488\ncomm_round: 75 | global_acc: 64.583% | global_loss: 1.114121913909912\ncomm_round: 76 | global_acc: 64.583% | global_loss: 1.1126919984817505\ncomm_round: 77 | global_acc: 64.583% | global_loss: 1.111070156097412\ncomm_round: 78 | global_acc: 64.583% | global_loss: 1.1093088388442993\ncomm_round: 79 | global_acc: 64.583% | global_loss: 1.1088074445724487\ncomm_round: 80 | global_acc: 64.583% | global_loss: 1.1066622734069824\ncomm_round: 81 | global_acc: 64.583% | global_loss: 1.1053109169006348\ncomm_round: 82 | global_acc: 64.583% | global_loss: 1.104486107826233\ncomm_round: 83 | global_acc: 64.583% | global_loss: 1.1029404401779175\ncomm_round: 84 | global_acc: 64.583% | global_loss: 1.1019887924194336\ncomm_round: 85 | global_acc: 64.583% | global_loss: 1.1002025604248047\ncomm_round: 86 | global_acc: 66.667% | global_loss: 1.0990697145462036\ncomm_round: 87 | global_acc: 66.667% | global_loss: 1.0973342657089233\ncomm_round: 88 | global_acc: 66.667% | global_loss: 1.0969876050949097\ncomm_round: 89 | global_acc: 66.667% | global_loss: 1.095392107963562\ncomm_round: 90 | global_acc: 66.667% | global_loss: 1.0942219495773315\ncomm_round: 91 | global_acc: 66.667% | global_loss: 1.0924309492111206\ncomm_round: 92 | global_acc: 66.667% | global_loss: 1.0911288261413574\ncomm_round: 93 | global_acc: 66.667% | global_loss: 1.0896087884902954\ncomm_round: 94 | global_acc: 68.750% | global_loss: 1.0897804498672485\ncomm_round: 95 | global_acc: 68.750% | global_loss: 1.0881503820419312\ncomm_round: 96 | global_acc: 68.750% | global_loss: 1.0860682725906372\ncomm_round: 97 | global_acc: 68.750% | global_loss: 1.0852247476577759\ncomm_round: 98 | global_acc: 68.750% | global_loss: 1.0830117464065552\ncomm_round: 99 | global_acc: 68.750% | global_loss: 1.0818945169448853\n",
          "output_type": "stream"
        }
      ]
    },
    {
      "cell_type": "code",
      "source": [
        "_visualise(_case9Model, _case9Accuracy, _case9Loss)"
      ],
      "metadata": {
        "execution": {
          "iopub.status.busy": "2022-06-11T16:39:08.134595Z",
          "iopub.execute_input": "2022-06-11T16:39:08.134997Z",
          "iopub.status.idle": "2022-06-11T16:39:08.304202Z",
          "shell.execute_reply.started": "2022-06-11T16:39:08.134963Z",
          "shell.execute_reply": "2022-06-11T16:39:08.303142Z"
        },
        "trusted": true,
        "id": "uUNHymuY--3C",
        "outputId": "1252f9ee-2900-44a8-d711-a0e45d91db4f"
      },
      "execution_count": null,
      "outputs": [
        {
          "output_type": "display_data",
          "data": {
            "text/plain": "<Figure size 432x288 with 1 Axes>",
            "image/png": "[encoded data removed]"
          },
          "metadata": {
            "needs_background": "light"
          }
        }
      ]
    },
    {
      "cell_type": "code",
      "source": [
        "test_acc = list()\n",
        "test_loss = list()\n",
        "for (X_test, Y_test) in test_batched:\n",
        "    global_test_acc, global_test_loss = test_model(X_test, Y_test, _case9Model, comm_round=1)\n",
        "    test_acc.append(global_test_acc)\n",
        "    test_loss.append(global_test_loss)"
      ],
      "metadata": {
        "execution": {
          "iopub.status.busy": "2022-06-11T16:39:08.306194Z",
          "iopub.execute_input": "2022-06-11T16:39:08.306516Z",
          "iopub.status.idle": "2022-06-11T16:39:08.620115Z",
          "shell.execute_reply.started": "2022-06-11T16:39:08.306486Z",
          "shell.execute_reply": "2022-06-11T16:39:08.619045Z"
        },
        "trusted": true,
        "id": "-vRXNJy5--3D",
        "outputId": "ea727235-3256-4c48-8a76-8871efecef30"
      },
      "execution_count": null,
      "outputs": [
        {
          "name": "stdout",
          "text": "comm_round: 1 | global_acc: 79.652% | global_loss: 0.9980084300041199\n",
          "output_type": "stream"
        }
      ]
    },
    {
      "cell_type": "code",
      "source": [
        ""
      ],
      "metadata": {
        "id": "-JTl_kSK--3D"
      },
      "execution_count": null,
      "outputs": []
    }
  ]
}