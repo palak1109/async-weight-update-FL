{
  "metadata": {
    "kernelspec": {
      "language": "python",
      "display_name": "Python 3",
      "name": "python3"
    },
    "language_info": {
      "name": "python",
      "version": "3.7.12",
      "mimetype": "text/x-python",
      "codemirror_mode": {
        "name": "ipython",
        "version": 3
      },
      "pygments_lexer": "ipython3",
      "nbconvert_exporter": "python",
      "file_extension": ".py"
    },
    "colab": {
      "name": "Group2_FL_Run2_200_case79",
      "provenance": []
    }
  },
  "nbformat_minor": 0,
  "nbformat": 4,
  "cells": [
    {
      "cell_type": "code",
      "source": [
        "!pip install imutils"
      ],
      "metadata": {
        "_uuid": "8f2839f25d086af736a60e9eeb907d3b93b6e0e5",
        "_cell_guid": "b1076dfc-b9ad-4769-8c92-a6c4dae69d19",
        "execution": {
          "iopub.status.busy": "2022-06-12T21:23:45.793411Z",
          "iopub.execute_input": "2022-06-12T21:23:45.793843Z",
          "iopub.status.idle": "2022-06-12T21:23:58.098641Z",
          "shell.execute_reply.started": "2022-06-12T21:23:45.793740Z",
          "shell.execute_reply": "2022-06-12T21:23:58.097645Z"
        },
        "trusted": true,
        "id": "qveQC-8p_15Z",
        "outputId": "c591fd45-f362-4c49-a8ae-8ba8d814b863"
      },
      "execution_count": null,
      "outputs": [
        {
          "name": "stdout",
          "text": "Collecting imutils\n  Downloading imutils-0.5.4.tar.gz (17 kB)\n  Preparing metadata (setup.py) ... \u001b[?25ldone\n\u001b[?25hBuilding wheels for collected packages: imutils\n  Building wheel for imutils (setup.py) ... \u001b[?25ldone\n\u001b[?25h  Created wheel for imutils: filename=imutils-0.5.4-py3-none-any.whl size=25858 sha256=62abdb93988135d11867c8f3bac0d70a4df7c23af137fa511e3f64e4879a769e\n  Stored in directory: /root/.cache/pip/wheels/86/d7/0a/4923351ed1cec5d5e24c1eaf8905567b02a0343b24aa873df2\nSuccessfully built imutils\nInstalling collected packages: imutils\nSuccessfully installed imutils-0.5.4\n\u001b[33mWARNING: Running pip as the 'root' user can result in broken permissions and conflicting behaviour with the system package manager. It is recommended to use a virtual environment instead: https://pip.pypa.io/warnings/venv\u001b[0m\u001b[33m\n\u001b[0m",
          "output_type": "stream"
        }
      ]
    },
    {
      "cell_type": "code",
      "source": [
        "import numpy as np\n",
        "import random\n",
        "import cv2\n",
        "import os\n",
        "from imutils import paths\n",
        "from sklearn.model_selection import train_test_split\n",
        "from sklearn.preprocessing import LabelBinarizer\n",
        "from sklearn.model_selection import train_test_split\n",
        "from sklearn.utils import shuffle\n",
        "from sklearn.metrics import accuracy_score\n",
        "from keras.preprocessing.image import ImageDataGenerator\n",
        "\n",
        "import tensorflow as tf\n",
        "from tensorflow.keras.models import Sequential \n",
        "from tensorflow.keras.layers import Conv2D, MaxPooling2D, Activation, Flatten, Dense, Dropout\n",
        "from tensorflow.keras.optimizers import Adam, SGD\n",
        "from tensorflow.keras import backend as K\n",
        "import matplotlib.pyplot as plt"
      ],
      "metadata": {
        "execution": {
          "iopub.status.busy": "2022-06-12T21:23:58.101292Z",
          "iopub.execute_input": "2022-06-12T21:23:58.101866Z",
          "iopub.status.idle": "2022-06-12T21:24:03.854320Z",
          "shell.execute_reply.started": "2022-06-12T21:23:58.101821Z",
          "shell.execute_reply": "2022-06-12T21:24:03.853357Z"
        },
        "trusted": true,
        "id": "OLx4VjXT_15g"
      },
      "execution_count": null,
      "outputs": []
    },
    {
      "cell_type": "code",
      "source": [
        "# Set paths to root, train, test and validation directories\n",
        "_rootDir = '../input/braintumor/Brain/'\n",
        "#os.listdir(_rootDir)\n",
        "_trainDir = _rootDir + 'train/'\n",
        "_valDir = _rootDir + 'validation/'\n",
        "_testDir = _rootDir + 'test/'"
      ],
      "metadata": {
        "execution": {
          "iopub.status.busy": "2022-06-12T21:50:31.709393Z",
          "iopub.execute_input": "2022-06-12T21:50:31.709770Z",
          "iopub.status.idle": "2022-06-12T21:50:31.713971Z",
          "shell.execute_reply.started": "2022-06-12T21:50:31.709723Z",
          "shell.execute_reply": "2022-06-12T21:50:31.713091Z"
        },
        "trusted": true,
        "id": "3K_L_H9g_15l"
      },
      "execution_count": null,
      "outputs": []
    },
    {
      "cell_type": "code",
      "source": [
        "# Function to preprocess and store images and labels\n",
        "def load(paths, verbose=-1):\n",
        "    '''\n",
        "        return:\n",
        "            _imageList: A list of Images\n",
        "            labels: A list of corresponding Labels\n",
        "        args:\n",
        "            paths: Path to main directory \n",
        "            * Must contain images belonging to a class as a single folder\n",
        "    '''\n",
        "    _imageList = list()\n",
        "    _labelList = list()\n",
        "    \n",
        "    for (i, _imgPath) in enumerate(paths):\n",
        "        \n",
        "        img = cv2.imread(_imgPath, cv2.IMREAD_GRAYSCALE)\n",
        "        # Set the desired height and weight of image data\n",
        "        _dimensions = (32, 32)\n",
        "        \n",
        "        # resize image\n",
        "        _image = cv2.resize(img, _dimensions, interpolation = cv2.INTER_AREA)\n",
        "        numpyImage = np.array(_image).flatten()\n",
        "        \n",
        "        # rescale the image\n",
        "        mupyImage = numpyImage/255\n",
        "        label = _imgPath.split(os.path.sep)[-2]\n",
        "        #print(label)\n",
        "        \n",
        "        _imageList.append(mupyImage)\n",
        "        _labelList.append(label)\n",
        "        \n",
        "    # return a tuple of the _imageList and _labelList\n",
        "    return _imageList, _labelList"
      ],
      "metadata": {
        "execution": {
          "iopub.status.busy": "2022-06-12T21:50:32.606994Z",
          "iopub.execute_input": "2022-06-12T21:50:32.607715Z",
          "iopub.status.idle": "2022-06-12T21:50:32.615507Z",
          "shell.execute_reply.started": "2022-06-12T21:50:32.607678Z",
          "shell.execute_reply": "2022-06-12T21:50:32.614697Z"
        },
        "trusted": true,
        "id": "FbA1uXf6_15n"
      },
      "execution_count": null,
      "outputs": []
    },
    {
      "cell_type": "code",
      "source": [
        "def one_hot_encoding(path):\n",
        "    _path = list(paths.list_images(path))\n",
        "    _data, _labelList = load(_path, verbose=10000)\n",
        "    _lblzr = LabelBinarizer()\n",
        "    _labels = _lblzr.fit_transform(_labelList)\n",
        "    \n",
        "    return _data, _labels"
      ],
      "metadata": {
        "execution": {
          "iopub.status.busy": "2022-06-12T21:50:34.275620Z",
          "iopub.execute_input": "2022-06-12T21:50:34.275984Z",
          "iopub.status.idle": "2022-06-12T21:50:34.281528Z",
          "shell.execute_reply.started": "2022-06-12T21:50:34.275951Z",
          "shell.execute_reply": "2022-06-12T21:50:34.280677Z"
        },
        "trusted": true,
        "id": "6NpCrPmM_15p"
      },
      "execution_count": null,
      "outputs": []
    },
    {
      "cell_type": "code",
      "source": [
        "# Preprocess training data\n",
        "_trainX, _trainY = one_hot_encoding(_trainDir)\n",
        "#print(len(_trainX))\n",
        "#print(type(_trainY))"
      ],
      "metadata": {
        "execution": {
          "iopub.status.busy": "2022-06-12T21:50:35.893631Z",
          "iopub.execute_input": "2022-06-12T21:50:35.894299Z",
          "iopub.status.idle": "2022-06-12T21:50:47.338033Z",
          "shell.execute_reply.started": "2022-06-12T21:50:35.894257Z",
          "shell.execute_reply": "2022-06-12T21:50:47.337143Z"
        },
        "trusted": true,
        "id": "2X-TFkd2_15q"
      },
      "execution_count": null,
      "outputs": []
    },
    {
      "cell_type": "markdown",
      "source": [
        ""
      ],
      "metadata": {
        "id": "-bvU4jLJ_15s"
      }
    },
    {
      "cell_type": "code",
      "source": [
        "# Preprocess validation and test data\n",
        "_valX, _valY = one_hot_encoding(_valDir)\n",
        "\n",
        "_testX, _testY = one_hot_encoding(_testDir)"
      ],
      "metadata": {
        "execution": {
          "iopub.status.busy": "2022-06-12T21:54:36.920568Z",
          "iopub.execute_input": "2022-06-12T21:54:36.920958Z",
          "iopub.status.idle": "2022-06-12T21:54:39.232731Z",
          "shell.execute_reply.started": "2022-06-12T21:54:36.920925Z",
          "shell.execute_reply": "2022-06-12T21:54:39.231938Z"
        },
        "trusted": true,
        "id": "gxDJQbmy_15w"
      },
      "execution_count": null,
      "outputs": []
    },
    {
      "cell_type": "code",
      "source": [
        "def create_clients(image_list, label_list, num_clients):\n",
        "    ''' return: a dictionary with keys clients' names and value as \n",
        "                data shards - tuple of images and label lists.\n",
        "        args: \n",
        "            image_list: a list of numpy arrays of training images\n",
        "            label_list:a list of binarized labels for each image\n",
        "            num_client: number of fedrated members (clients)\n",
        "            initials: the clients'name prefix, e.g, clients_1 \n",
        "            \n",
        "    '''\n",
        "\n",
        "    #create a list of client names\n",
        "    _clientNames = []\n",
        "    for i in range(num_clients):\n",
        "        _client = '{}_{}'.format('client', i+1)\n",
        "        _clientNames.append(_client)\n",
        "\n",
        "    #randomize the data\n",
        "    data = list(zip(image_list, label_list))\n",
        "    random.shuffle(data)\n",
        "\n",
        "    #shard data and place at each client\n",
        "    size = len(data)//num_clients\n",
        "    \n",
        "    _clientShards =[]\n",
        "    for i in range(0, size*num_clients, size):\n",
        "        _shard = data[i: i+size]\n",
        "        _clientShards.append(_shard)\n",
        "    \n",
        "    #number of clients must equal number of shards\n",
        "    if len(_clientShards) == len(_clientNames):\n",
        "        _clientDict = {}\n",
        "        for i in range(len(_clientNames)):\n",
        "            _clientDict[_clientNames[i]] = _clientShards[i]\n",
        "        return _clientDict\n",
        "    else:\n",
        "        return 0\n",
        "    "
      ],
      "metadata": {
        "execution": {
          "iopub.status.busy": "2022-06-12T21:54:39.236264Z",
          "iopub.execute_input": "2022-06-12T21:54:39.236556Z",
          "iopub.status.idle": "2022-06-12T21:54:39.244881Z",
          "shell.execute_reply.started": "2022-06-12T21:54:39.236529Z",
          "shell.execute_reply": "2022-06-12T21:54:39.244148Z"
        },
        "trusted": true,
        "id": "zzMi0jwe_15z"
      },
      "execution_count": null,
      "outputs": []
    },
    {
      "cell_type": "code",
      "source": [
        "clients = create_clients(_trainX, _trainY, num_clients = 7)"
      ],
      "metadata": {
        "execution": {
          "iopub.status.busy": "2022-06-12T21:54:40.900937Z",
          "iopub.execute_input": "2022-06-12T21:54:40.901363Z",
          "iopub.status.idle": "2022-06-12T21:54:40.928108Z",
          "shell.execute_reply.started": "2022-06-12T21:54:40.901326Z",
          "shell.execute_reply": "2022-06-12T21:54:40.927395Z"
        },
        "trusted": true,
        "id": "1wmjlSeX_153"
      },
      "execution_count": null,
      "outputs": []
    },
    {
      "cell_type": "code",
      "source": [
        "def batch_data(data_shard, bs=64):\n",
        "    \n",
        "    # Create tensorflow datasets from each client's data shards\n",
        "    data, label = zip(*data_shard)\n",
        "    #print(\"----------------\"+str(type(data)))\n",
        "    dataset = tf.data.Dataset.from_tensor_slices((list(data), list(label)))\n",
        "    return dataset.shuffle(len(label)).batch(bs)"
      ],
      "metadata": {
        "execution": {
          "iopub.status.busy": "2022-06-12T21:54:45.515808Z",
          "iopub.execute_input": "2022-06-12T21:54:45.516606Z",
          "iopub.status.idle": "2022-06-12T21:54:45.521445Z",
          "shell.execute_reply.started": "2022-06-12T21:54:45.516569Z",
          "shell.execute_reply": "2022-06-12T21:54:45.520364Z"
        },
        "trusted": true,
        "id": "KkjhpSxz_154"
      },
      "execution_count": null,
      "outputs": []
    },
    {
      "cell_type": "code",
      "source": [
        "# Create batches for training data\n",
        "clients_batched = dict()\n",
        "\n",
        "for (client_name, data) in clients.items():\n",
        "    clients_batched[client_name] = batch_data(data)"
      ],
      "metadata": {
        "execution": {
          "iopub.status.busy": "2022-06-12T21:54:46.928376Z",
          "iopub.execute_input": "2022-06-12T21:54:46.928725Z",
          "iopub.status.idle": "2022-06-12T21:54:47.906275Z",
          "shell.execute_reply.started": "2022-06-12T21:54:46.928694Z",
          "shell.execute_reply": "2022-06-12T21:54:47.905492Z"
        },
        "trusted": true,
        "id": "Wfej2Qpx_155"
      },
      "execution_count": null,
      "outputs": []
    },
    {
      "cell_type": "code",
      "source": [
        "#process and batch the test set  \n",
        "test_batched = tf.data.Dataset.from_tensor_slices((_testX, _testY)).batch(len(_testY))\n",
        "\n",
        "#process and batch the test set  \n",
        "val_batched = tf.data.Dataset.from_tensor_slices((_valX, _valY)).batch(len(_valY))"
      ],
      "metadata": {
        "execution": {
          "iopub.status.busy": "2022-06-12T21:54:49.543629Z",
          "iopub.execute_input": "2022-06-12T21:54:49.544301Z",
          "iopub.status.idle": "2022-06-12T21:54:49.773160Z",
          "shell.execute_reply.started": "2022-06-12T21:54:49.544261Z",
          "shell.execute_reply": "2022-06-12T21:54:49.772347Z"
        },
        "trusted": true,
        "id": "FfW1GtA9_156"
      },
      "execution_count": null,
      "outputs": []
    },
    {
      "cell_type": "code",
      "source": [
        "# Define the hyperparameters\n",
        "lr = 0.01 \n",
        "_globalEpochs = 200\n",
        "loss='categorical_crossentropy'\n",
        "metrics = ['accuracy'] \n",
        "optimizer = SGD(lr=lr, \n",
        "                decay=lr / _globalEpochs, \n",
        "                momentum=0.9\n",
        "               )   \n",
        "activationFunction = \"relu\""
      ],
      "metadata": {
        "execution": {
          "iopub.status.busy": "2022-06-12T21:54:50.832633Z",
          "iopub.execute_input": "2022-06-12T21:54:50.833495Z",
          "iopub.status.idle": "2022-06-12T21:54:50.839179Z",
          "shell.execute_reply.started": "2022-06-12T21:54:50.833461Z",
          "shell.execute_reply": "2022-06-12T21:54:50.838298Z"
        },
        "trusted": true,
        "id": "-PUFGzu8_157",
        "outputId": "8b6dd215-b39d-4710-f044-2c1bb8ee820a"
      },
      "execution_count": null,
      "outputs": [
        {
          "name": "stderr",
          "text": "/opt/conda/lib/python3.7/site-packages/keras/optimizer_v2/optimizer_v2.py:356: UserWarning: The `lr` argument is deprecated, use `learning_rate` instead.\n  \"The `lr` argument is deprecated, use `learning_rate` instead.\")\n",
          "output_type": "stream"
        }
      ]
    },
    {
      "cell_type": "code",
      "source": [
        "# Class for model architecture\n",
        "class MLP:\n",
        "    @staticmethod\n",
        "    def _buildModel(shape, classes):\n",
        "        model = Sequential()\n",
        "        model.add(Dense(200, input_shape=(shape,)))\n",
        "        model.add(Activation(\"relu\"))\n",
        "        model.add(Dense(200))\n",
        "        model.add(Activation(\"relu\"))\n",
        "        model.add(Dense(200))\n",
        "        model.add(Activation(\"relu\"))\n",
        "        model.add(Dense(200))\n",
        "        model.add(Activation(\"relu\"))\n",
        "        model.add(Dense(200))\n",
        "        model.add(Activation(\"relu\"))\n",
        "        model.add(Dense(classes))\n",
        "        model.add(Activation(\"softmax\"))\n",
        "        \n",
        "        #print(model.summary())\n",
        "        return model"
      ],
      "metadata": {
        "execution": {
          "iopub.status.busy": "2022-06-12T21:54:55.999320Z",
          "iopub.execute_input": "2022-06-12T21:54:55.999710Z",
          "iopub.status.idle": "2022-06-12T21:54:56.007679Z",
          "shell.execute_reply.started": "2022-06-12T21:54:55.999676Z",
          "shell.execute_reply": "2022-06-12T21:54:56.006441Z"
        },
        "trusted": true,
        "id": "PZ9in3m7_158"
      },
      "execution_count": null,
      "outputs": []
    },
    {
      "cell_type": "code",
      "source": [
        "def _globalAverageWeights(_localWeightList):\n",
        "    _averageWeights = list()\n",
        "    \n",
        "    for _list in zip(*_localWeightList):\n",
        "        _sum = tf.math.reduce_sum(_list, axis=0)\n",
        "        _averageWeights.append(_sum)\n",
        "        \n",
        "    return _averageWeights"
      ],
      "metadata": {
        "execution": {
          "iopub.status.busy": "2022-06-12T21:54:57.345304Z",
          "iopub.execute_input": "2022-06-12T21:54:57.345919Z",
          "iopub.status.idle": "2022-06-12T21:54:57.351426Z",
          "shell.execute_reply.started": "2022-06-12T21:54:57.345879Z",
          "shell.execute_reply": "2022-06-12T21:54:57.350483Z"
        },
        "trusted": true,
        "id": "99vBdglt_158"
      },
      "execution_count": null,
      "outputs": []
    },
    {
      "cell_type": "code",
      "source": [
        "def _getScalingFactor(_trainData, _clientName, _batchSize):\n",
        "    \n",
        "    _clients = list(_trainData.keys())\n",
        "    \n",
        "    #first calculate the total training data points across clinets\n",
        "    _gblLength = list()\n",
        "    _gblCount = 0\n",
        "    \n",
        "    for client in _clients:\n",
        "        _length = tf.data.experimental.cardinality(_trainData[client]).numpy()\n",
        "        _gblLength.append(_length)\n",
        "        \n",
        "    _gblCount = sum(_gblLength) * _batchSize\n",
        "\n",
        "    # get the total number of data points held by a client\n",
        "    _lclCount = tf.data.experimental.cardinality(_trainData[_clientName]).numpy()*_batchSize\n",
        "    \n",
        "    return _lclCount/_gblCount"
      ],
      "metadata": {
        "execution": {
          "iopub.status.busy": "2022-06-12T21:54:58.844137Z",
          "iopub.execute_input": "2022-06-12T21:54:58.845062Z",
          "iopub.status.idle": "2022-06-12T21:54:58.853666Z",
          "shell.execute_reply.started": "2022-06-12T21:54:58.845019Z",
          "shell.execute_reply": "2022-06-12T21:54:58.852821Z"
        },
        "trusted": true,
        "id": "RBYdxf-N_159"
      },
      "execution_count": null,
      "outputs": []
    },
    {
      "cell_type": "code",
      "source": [
        "def _scaleWeights(weight, scalar):\n",
        "    '''function for scaling a models weights'''\n",
        "    weight_final = []\n",
        "    steps = len(weight)\n",
        "    for i in range(steps):\n",
        "        weight_final.append(scalar * weight[i])\n",
        "    return weight_final\n"
      ],
      "metadata": {
        "execution": {
          "iopub.status.busy": "2022-06-12T21:54:59.566165Z",
          "iopub.execute_input": "2022-06-12T21:54:59.567061Z",
          "iopub.status.idle": "2022-06-12T21:54:59.576838Z",
          "shell.execute_reply.started": "2022-06-12T21:54:59.567005Z",
          "shell.execute_reply": "2022-06-12T21:54:59.575806Z"
        },
        "trusted": true,
        "id": "mhm0F0el_15-"
      },
      "execution_count": null,
      "outputs": []
    },
    {
      "cell_type": "code",
      "source": [
        "def test_model(X_test, Y_test,  model, comm_round):\n",
        "    \n",
        "    cce = tf.keras.losses.CategoricalCrossentropy(from_logits=True)\n",
        "    logits = model.predict(X_test)\n",
        "\n",
        "    loss = cce(Y_test, logits)\n",
        "\n",
        "    acc = accuracy_score(tf.argmax(logits, axis=1), tf.argmax(Y_test, axis=1))\n",
        "    print('comm_round: {} | global_acc: {:.3%} | global_loss: {}'.format(comm_round, acc, loss))\n",
        "    return acc, loss"
      ],
      "metadata": {
        "execution": {
          "iopub.status.busy": "2022-06-12T21:55:00.219053Z",
          "iopub.execute_input": "2022-06-12T21:55:00.219413Z",
          "iopub.status.idle": "2022-06-12T21:55:00.225140Z",
          "shell.execute_reply.started": "2022-06-12T21:55:00.219377Z",
          "shell.execute_reply": "2022-06-12T21:55:00.224238Z"
        },
        "trusted": true,
        "id": "MOBF88ZI_15-"
      },
      "execution_count": null,
      "outputs": []
    },
    {
      "cell_type": "code",
      "source": [
        "def _trainModel(_epochStep, _shallowLayers, _totalLayers):\n",
        "    #initialize global model\n",
        "    _globalObject = MLP()\n",
        "    globalModel = _globalObject._buildModel(1024, 4)\n",
        "\n",
        "    _globalAccuracy = list()\n",
        "    _globalLoss = list()\n",
        "    \n",
        "    shallow_index = 2 * _shallowLayers\n",
        "    total_index = 2 * _totalLayers\n",
        "    #commence global training loop\n",
        "    for _gEpoch in range(_globalEpochs):\n",
        "\n",
        "        # get the global model's weights - will serve as the initial weights for all local models\n",
        "        _globalWeights = globalModel.get_weights()\n",
        "\n",
        "        #print(type(global_weights))\n",
        "        global_deep_weights = _globalWeights[shallow_index:total_index]\n",
        "\n",
        "        #initial list to collect local model weights after scalling\n",
        "        _localWeightList = list()\n",
        "\n",
        "        #randomize client data - using keys\n",
        "        client_names= list(clients_batched.keys())\n",
        "        random.shuffle(client_names)\n",
        "        factor = 0\n",
        "        #loop through each client and create new local model\n",
        "        for client in client_names:\n",
        "            _localObject = MLP()\n",
        "            localModel = _localObject._buildModel(1024, 4)\n",
        "            localModel.compile(loss=loss, \n",
        "                          optimizer=optimizer, \n",
        "                          metrics=metrics)\n",
        "\n",
        "\n",
        "            #set local model weight to the weight of the global model\n",
        "            localModel.set_weights(_globalWeights)\n",
        "\n",
        "            #fit local model with client's data\n",
        "            localModel.fit(clients_batched[client], epochs=10, verbose=0)\n",
        "            lm = localModel.get_weights()\n",
        "\n",
        "            if _gEpoch%_epochStep != 0:\n",
        "                shallow_weights = lm[0:shallow_index]\n",
        "                deep_weights = lm[shallow_index:total_index]\n",
        "                comm_weights = shallow_weights\n",
        "            else:\n",
        "                comm_weights = lm\n",
        "\n",
        "            #scale the model weights and add to list\n",
        "            _scalingFactor = _getScalingFactor(clients_batched, client, 64)\n",
        "            scaledWeights = _scaleWeights(comm_weights, _scalingFactor)\n",
        "\n",
        "            #scaled_weights = _scaleLocalWeights(clients_batched,comm_weights, 64, client)\n",
        "            _localWeightList.append(scaledWeights)\n",
        "            factor = _scalingFactor\n",
        "\n",
        "            #clear session to free memory after each communication round\n",
        "            K.clear_session()\n",
        "\n",
        "        globalScaledWeights = _scaleWeights(global_deep_weights, factor)\n",
        "\n",
        "        if _gEpoch%_epochStep != 0:\n",
        "            final_weights = list()\n",
        "            for i in range(len(_localWeightList)):\n",
        "                _weight = _localWeightList[i] + globalScaledWeights\n",
        "                final_weights.append(_weight)\n",
        "\n",
        "        else:\n",
        "            final_weights = _localWeightList\n",
        "\n",
        "        #to get the average over all the local model, we simply take the sum of the scaled weights\n",
        "        #average_weights = sum_scaled_weights(scaled_local_weight_list)\n",
        "        average_weights = _globalAverageWeights(final_weights)\n",
        "\n",
        "        #update global model \n",
        "        globalModel.set_weights(average_weights)\n",
        "\n",
        "        #test global model and print out metrics after each communications round\n",
        "\n",
        "        for(X_val, Y_val) in val_batched:\n",
        "            global_acc, global_loss = test_model(X_val, Y_val, globalModel, _gEpoch)\n",
        "            _globalAccuracy.append(global_acc)\n",
        "            _globalLoss.append(global_loss)\n",
        "        \n",
        "    return globalModel,_globalAccuracy, _globalLoss\n",
        "        "
      ],
      "metadata": {
        "execution": {
          "iopub.status.busy": "2022-06-12T21:55:01.014807Z",
          "iopub.execute_input": "2022-06-12T21:55:01.015450Z",
          "iopub.status.idle": "2022-06-12T21:55:01.032200Z",
          "shell.execute_reply.started": "2022-06-12T21:55:01.015416Z",
          "shell.execute_reply": "2022-06-12T21:55:01.031286Z"
        },
        "trusted": true,
        "id": "_gguugd7_15_"
      },
      "execution_count": null,
      "outputs": []
    },
    {
      "cell_type": "code",
      "source": [
        "def _visualise(_model,_acc, _loss):\n",
        "    plt.plot(_acc)\n",
        "    plt.plot(_loss)\n",
        "    plt.title('Global Accuracy and Loss')\n",
        "    plt.ylabel('Accuracy/Loss')\n",
        "    plt.xlabel('epoch')\n",
        "    plt.legend(['accuracy', 'loss'], loc='upper left')\n",
        "    plt.show()"
      ],
      "metadata": {
        "execution": {
          "iopub.status.busy": "2022-06-12T21:55:02.111378Z",
          "iopub.execute_input": "2022-06-12T21:55:02.112050Z",
          "iopub.status.idle": "2022-06-12T21:55:02.117356Z",
          "shell.execute_reply.started": "2022-06-12T21:55:02.112011Z",
          "shell.execute_reply": "2022-06-12T21:55:02.115988Z"
        },
        "trusted": true,
        "id": "IOF2YRNg_16A"
      },
      "execution_count": null,
      "outputs": []
    },
    {
      "cell_type": "markdown",
      "source": [
        "CASE 1: \n",
        "* Sharing deep weights every 5th epoch, 1 - shallow and 5 deep layers"
      ],
      "metadata": {
        "id": "rRQWfJWp_16B"
      }
    },
    {
      "cell_type": "code",
      "source": [
        "_case1Model, _case1Accuracy, _case1Loss  = _trainModel(5, 1, 6) "
      ],
      "metadata": {
        "execution": {
          "iopub.status.busy": "2022-06-12T16:34:51.500055Z",
          "iopub.execute_input": "2022-06-12T16:34:51.50063Z",
          "iopub.status.idle": "2022-06-12T17:03:07.263102Z",
          "shell.execute_reply.started": "2022-06-12T16:34:51.500584Z",
          "shell.execute_reply": "2022-06-12T17:03:07.262022Z"
        },
        "trusted": true,
        "id": "Mz4D_-0U_16B"
      },
      "execution_count": null,
      "outputs": []
    },
    {
      "cell_type": "code",
      "source": [
        "_visualise(_case1Model, _case1Accuracy, _case1Loss)"
      ],
      "metadata": {
        "execution": {
          "iopub.status.busy": "2022-06-12T17:03:07.264961Z",
          "iopub.execute_input": "2022-06-12T17:03:07.265364Z",
          "iopub.status.idle": "2022-06-12T17:03:07.534347Z",
          "shell.execute_reply.started": "2022-06-12T17:03:07.265322Z",
          "shell.execute_reply": "2022-06-12T17:03:07.533247Z"
        },
        "trusted": true,
        "id": "qpiaz8B9_16C"
      },
      "execution_count": null,
      "outputs": []
    },
    {
      "cell_type": "code",
      "source": [
        "test_acc = list()\n",
        "test_loss = list()\n",
        "for (X_test, Y_test) in test_batched:\n",
        "    global_test_acc, global_test_loss = test_model(X_test, Y_test, _case1Model, comm_round=1)\n",
        "    test_acc.append(global_test_acc)\n",
        "    test_loss.append(global_test_loss)"
      ],
      "metadata": {
        "execution": {
          "iopub.status.busy": "2022-06-12T17:03:07.537672Z",
          "iopub.execute_input": "2022-06-12T17:03:07.537954Z",
          "iopub.status.idle": "2022-06-12T17:03:07.663818Z",
          "shell.execute_reply.started": "2022-06-12T17:03:07.537927Z",
          "shell.execute_reply": "2022-06-12T17:03:07.661828Z"
        },
        "trusted": true,
        "id": "AOrbd89C_16C"
      },
      "execution_count": null,
      "outputs": []
    },
    {
      "cell_type": "markdown",
      "source": [
        "CASE 2:\n",
        "* Sharing deep weights every 10th epoch, 1 shallow and 5 deep layers"
      ],
      "metadata": {
        "id": "Mfxwq12g_16D"
      }
    },
    {
      "cell_type": "code",
      "source": [
        "_case2Model, _case2Accuracy, _case2Loss  = _trainModel(10, 1, 6) "
      ],
      "metadata": {
        "execution": {
          "iopub.status.busy": "2022-06-12T17:03:07.665466Z",
          "iopub.execute_input": "2022-06-12T17:03:07.666201Z",
          "iopub.status.idle": "2022-06-12T17:31:46.961382Z",
          "shell.execute_reply.started": "2022-06-12T17:03:07.666159Z",
          "shell.execute_reply": "2022-06-12T17:31:46.960189Z"
        },
        "trusted": true,
        "id": "MraRuPKB_16D"
      },
      "execution_count": null,
      "outputs": []
    },
    {
      "cell_type": "code",
      "source": [
        "_visualise(_case2Model, _case2Accuracy, _case2Loss)"
      ],
      "metadata": {
        "execution": {
          "iopub.status.busy": "2022-06-12T17:31:46.962967Z",
          "iopub.execute_input": "2022-06-12T17:31:46.964859Z",
          "iopub.status.idle": "2022-06-12T17:31:47.203166Z",
          "shell.execute_reply.started": "2022-06-12T17:31:46.964814Z",
          "shell.execute_reply": "2022-06-12T17:31:47.202125Z"
        },
        "trusted": true,
        "id": "R4y7e55k_16E"
      },
      "execution_count": null,
      "outputs": []
    },
    {
      "cell_type": "code",
      "source": [
        "test_acc = list()\n",
        "test_loss = list()\n",
        "for (X_test, Y_test) in test_batched:\n",
        "    global_test_acc, global_test_loss = test_model(X_test, Y_test, _case2Model, comm_round=1)\n",
        "    test_acc.append(global_test_acc)\n",
        "    test_loss.append(global_test_loss)"
      ],
      "metadata": {
        "execution": {
          "iopub.status.busy": "2022-06-12T17:31:47.204705Z",
          "iopub.execute_input": "2022-06-12T17:31:47.205322Z",
          "iopub.status.idle": "2022-06-12T17:31:47.316642Z",
          "shell.execute_reply.started": "2022-06-12T17:31:47.205252Z",
          "shell.execute_reply": "2022-06-12T17:31:47.315616Z"
        },
        "trusted": true,
        "id": "Do5GyOi7_16E"
      },
      "execution_count": null,
      "outputs": []
    },
    {
      "cell_type": "markdown",
      "source": [
        "CASE 3:\n",
        "* Sharing deep weights every epoch, 1 shallow and 5 deep layers"
      ],
      "metadata": {
        "id": "fmZINCip_16F"
      }
    },
    {
      "cell_type": "code",
      "source": [
        "_case3Model, _case3Accuracy, _case3Loss  = _trainModel(1, 1, 6) "
      ],
      "metadata": {
        "execution": {
          "iopub.status.busy": "2022-06-12T17:31:47.319518Z",
          "iopub.execute_input": "2022-06-12T17:31:47.320156Z",
          "iopub.status.idle": "2022-06-12T18:00:52.050433Z",
          "shell.execute_reply.started": "2022-06-12T17:31:47.320115Z",
          "shell.execute_reply": "2022-06-12T18:00:52.049431Z"
        },
        "trusted": true,
        "id": "wRrlKIFk_16F"
      },
      "execution_count": null,
      "outputs": []
    },
    {
      "cell_type": "code",
      "source": [
        "_visualise(_case3Model, _case3Accuracy, _case3Loss)"
      ],
      "metadata": {
        "execution": {
          "iopub.status.busy": "2022-06-12T18:00:52.060214Z",
          "iopub.execute_input": "2022-06-12T18:00:52.062271Z",
          "iopub.status.idle": "2022-06-12T18:00:52.325445Z",
          "shell.execute_reply.started": "2022-06-12T18:00:52.062184Z",
          "shell.execute_reply": "2022-06-12T18:00:52.324463Z"
        },
        "trusted": true,
        "id": "WQ02PHAV_16F"
      },
      "execution_count": null,
      "outputs": []
    },
    {
      "cell_type": "code",
      "source": [
        "test_acc = list()\n",
        "test_loss = list()\n",
        "for (X_test, Y_test) in test_batched:\n",
        "    global_test_acc, global_test_loss = test_model(X_test, Y_test, _case3Model, comm_round=1)\n",
        "    test_acc.append(global_test_acc)\n",
        "    test_loss.append(global_test_loss)"
      ],
      "metadata": {
        "execution": {
          "iopub.status.busy": "2022-06-12T18:00:52.347201Z",
          "iopub.execute_input": "2022-06-12T18:00:52.347843Z",
          "iopub.status.idle": "2022-06-12T18:00:52.463415Z",
          "shell.execute_reply.started": "2022-06-12T18:00:52.347797Z",
          "shell.execute_reply": "2022-06-12T18:00:52.462329Z"
        },
        "trusted": true,
        "id": "XJGdiWfC_16F"
      },
      "execution_count": null,
      "outputs": []
    },
    {
      "cell_type": "markdown",
      "source": [
        "CASE 4:\n",
        "* Sharing deep weights every 5th epoch, 3 shallow and 3 deep layers"
      ],
      "metadata": {
        "id": "eXXQWpni_16G"
      }
    },
    {
      "cell_type": "code",
      "source": [
        "_case4Model, _case4Accuracy, _case4Loss  = _trainModel(5, 3, 6) "
      ],
      "metadata": {
        "execution": {
          "iopub.status.busy": "2022-06-12T18:00:52.468632Z",
          "iopub.execute_input": "2022-06-12T18:00:52.469451Z",
          "iopub.status.idle": "2022-06-12T18:30:19.453953Z",
          "shell.execute_reply.started": "2022-06-12T18:00:52.46941Z",
          "shell.execute_reply": "2022-06-12T18:30:19.452082Z"
        },
        "trusted": true,
        "id": "2bpTVf64_16G"
      },
      "execution_count": null,
      "outputs": []
    },
    {
      "cell_type": "code",
      "source": [
        "_visualise(_case4Model, _case4Accuracy, _case4Loss)"
      ],
      "metadata": {
        "execution": {
          "iopub.status.busy": "2022-06-12T18:30:19.455614Z",
          "iopub.execute_input": "2022-06-12T18:30:19.456068Z",
          "iopub.status.idle": "2022-06-12T18:30:19.693446Z",
          "shell.execute_reply.started": "2022-06-12T18:30:19.45603Z",
          "shell.execute_reply": "2022-06-12T18:30:19.692237Z"
        },
        "trusted": true,
        "id": "s8XuW1OI_16H"
      },
      "execution_count": null,
      "outputs": []
    },
    {
      "cell_type": "code",
      "source": [
        "test_acc = list()\n",
        "test_loss = list()\n",
        "for (X_test, Y_test) in test_batched:\n",
        "    global_test_acc, global_test_loss = test_model(X_test, Y_test, _case4Model, comm_round=1)\n",
        "    test_acc.append(global_test_acc)\n",
        "    test_loss.append(global_test_loss)"
      ],
      "metadata": {
        "execution": {
          "iopub.status.busy": "2022-06-12T18:30:19.69487Z",
          "iopub.execute_input": "2022-06-12T18:30:19.696139Z",
          "iopub.status.idle": "2022-06-12T18:30:19.819982Z",
          "shell.execute_reply.started": "2022-06-12T18:30:19.696097Z",
          "shell.execute_reply": "2022-06-12T18:30:19.818762Z"
        },
        "trusted": true,
        "id": "ZMNuPKXD_16H"
      },
      "execution_count": null,
      "outputs": []
    },
    {
      "cell_type": "markdown",
      "source": [
        "CASE 5:\n",
        "* Sharing deep weights every 10th epoch, 3 shallow and 3 deep layers"
      ],
      "metadata": {
        "id": "Q9wIdd6P_16I"
      }
    },
    {
      "cell_type": "code",
      "source": [
        "_case5Model, _case5Accuracy, _case5Loss  = _trainModel(10, 3, 6) "
      ],
      "metadata": {
        "execution": {
          "iopub.status.busy": "2022-06-12T18:30:19.821674Z",
          "iopub.execute_input": "2022-06-12T18:30:19.822255Z",
          "iopub.status.idle": "2022-06-12T19:00:05.904209Z",
          "shell.execute_reply.started": "2022-06-12T18:30:19.822214Z",
          "shell.execute_reply": "2022-06-12T19:00:05.903016Z"
        },
        "trusted": true,
        "id": "mn6HHywj_16I"
      },
      "execution_count": null,
      "outputs": []
    },
    {
      "cell_type": "code",
      "source": [
        "_visualise(_case5Model, _case5Accuracy, _case5Loss)"
      ],
      "metadata": {
        "execution": {
          "iopub.status.busy": "2022-06-12T19:00:05.905944Z",
          "iopub.execute_input": "2022-06-12T19:00:05.906989Z",
          "iopub.status.idle": "2022-06-12T19:00:06.133265Z",
          "shell.execute_reply.started": "2022-06-12T19:00:05.906947Z",
          "shell.execute_reply": "2022-06-12T19:00:06.132333Z"
        },
        "trusted": true,
        "id": "ObHmY4v7_16I"
      },
      "execution_count": null,
      "outputs": []
    },
    {
      "cell_type": "code",
      "source": [
        "test_acc = list()\n",
        "test_loss = list()\n",
        "for (X_test, Y_test) in test_batched:\n",
        "    global_test_acc, global_test_loss = test_model(X_test, Y_test, _case5Model, comm_round=1)\n",
        "    test_acc.append(global_test_acc)\n",
        "    test_loss.append(global_test_loss)"
      ],
      "metadata": {
        "execution": {
          "iopub.status.busy": "2022-06-12T19:00:06.134631Z",
          "iopub.execute_input": "2022-06-12T19:00:06.135096Z",
          "iopub.status.idle": "2022-06-12T19:00:06.260665Z",
          "shell.execute_reply.started": "2022-06-12T19:00:06.135056Z",
          "shell.execute_reply": "2022-06-12T19:00:06.259518Z"
        },
        "trusted": true,
        "id": "LE7tYG3P_16J"
      },
      "execution_count": null,
      "outputs": []
    },
    {
      "cell_type": "markdown",
      "source": [
        "CASE 6:\n",
        "* Sharing deep weights every epoch, 3 shallow and 3 deep layers"
      ],
      "metadata": {
        "id": "6X1mfpZB_16J"
      }
    },
    {
      "cell_type": "code",
      "source": [
        "_case6Model, _case6Accuracy, _case6Loss  = _trainModel(1, 3, 6) "
      ],
      "metadata": {
        "execution": {
          "iopub.status.busy": "2022-06-12T19:00:06.262362Z",
          "iopub.execute_input": "2022-06-12T19:00:06.262747Z",
          "iopub.status.idle": "2022-06-12T19:30:23.162649Z",
          "shell.execute_reply.started": "2022-06-12T19:00:06.262708Z",
          "shell.execute_reply": "2022-06-12T19:30:23.161505Z"
        },
        "trusted": true,
        "id": "3og4tdfS_16J"
      },
      "execution_count": null,
      "outputs": []
    },
    {
      "cell_type": "code",
      "source": [
        "_visualise(_case6Model, _case6Accuracy, _case6Loss)"
      ],
      "metadata": {
        "execution": {
          "iopub.status.busy": "2022-06-12T19:30:23.164495Z",
          "iopub.execute_input": "2022-06-12T19:30:23.165251Z",
          "iopub.status.idle": "2022-06-12T19:30:23.415313Z",
          "shell.execute_reply.started": "2022-06-12T19:30:23.165206Z",
          "shell.execute_reply": "2022-06-12T19:30:23.414143Z"
        },
        "trusted": true,
        "id": "mR-jpT2k_16K"
      },
      "execution_count": null,
      "outputs": []
    },
    {
      "cell_type": "code",
      "source": [
        "test_acc = list()\n",
        "test_loss = list()\n",
        "for (X_test, Y_test) in test_batched:\n",
        "    global_test_acc, global_test_loss = test_model(X_test, Y_test, _case6Model, comm_round=1)\n",
        "    test_acc.append(global_test_acc)\n",
        "    test_loss.append(global_test_loss)"
      ],
      "metadata": {
        "execution": {
          "iopub.status.busy": "2022-06-12T19:30:23.417173Z",
          "iopub.execute_input": "2022-06-12T19:30:23.417711Z",
          "iopub.status.idle": "2022-06-12T19:30:23.543035Z",
          "shell.execute_reply.started": "2022-06-12T19:30:23.417666Z",
          "shell.execute_reply": "2022-06-12T19:30:23.541329Z"
        },
        "trusted": true,
        "id": "WpnOHCYy_16K"
      },
      "execution_count": null,
      "outputs": []
    },
    {
      "cell_type": "markdown",
      "source": [
        "CASE 7:\n",
        "* Sharing deep weights every 5th epoch, 4 shallow and 2 deep layers"
      ],
      "metadata": {
        "id": "jAwIYVkj_16K"
      }
    },
    {
      "cell_type": "code",
      "source": [
        "_case7Model, _case7Accuracy, _case7Loss  = _trainModel(5, 4, 6) "
      ],
      "metadata": {
        "execution": {
          "iopub.status.busy": "2022-06-12T21:55:08.861055Z",
          "iopub.execute_input": "2022-06-12T21:55:08.861826Z",
          "iopub.status.idle": "2022-06-12T22:19:02.377410Z",
          "shell.execute_reply.started": "2022-06-12T21:55:08.861776Z",
          "shell.execute_reply": "2022-06-12T22:19:02.375832Z"
        },
        "trusted": true,
        "id": "gpJsETDD_16K",
        "outputId": "96eaf00c-0e3d-44e5-91ce-1084193a9287"
      },
      "execution_count": null,
      "outputs": [
        {
          "name": "stdout",
          "text": "comm_round: 0 | global_acc: 58.333% | global_loss: 1.19452702999115\ncomm_round: 1 | global_acc: 64.583% | global_loss: 1.1370614767074585\ncomm_round: 2 | global_acc: 70.833% | global_loss: 1.1045223474502563\ncomm_round: 3 | global_acc: 75.000% | global_loss: 1.0823628902435303\ncomm_round: 4 | global_acc: 70.833% | global_loss: 1.0566118955612183\ncomm_round: 5 | global_acc: 79.167% | global_loss: 0.9680692553520203\ncomm_round: 6 | global_acc: 81.250% | global_loss: 0.9542839527130127\ncomm_round: 7 | global_acc: 79.167% | global_loss: 0.9663564562797546\ncomm_round: 8 | global_acc: 81.250% | global_loss: 0.9535140991210938\ncomm_round: 9 | global_acc: 79.167% | global_loss: 0.9413338303565979\ncomm_round: 10 | global_acc: 87.500% | global_loss: 0.901416540145874\ncomm_round: 11 | global_acc: 87.500% | global_loss: 0.8930686116218567\ncomm_round: 12 | global_acc: 89.583% | global_loss: 0.8737030625343323\ncomm_round: 13 | global_acc: 89.583% | global_loss: 0.8703732490539551\ncomm_round: 14 | global_acc: 85.417% | global_loss: 0.8669099807739258\ncomm_round: 15 | global_acc: 87.500% | global_loss: 0.8590312004089355\ncomm_round: 16 | global_acc: 91.667% | global_loss: 0.8429459929466248\ncomm_round: 17 | global_acc: 93.750% | global_loss: 0.8466923832893372\ncomm_round: 18 | global_acc: 93.750% | global_loss: 0.8403260111808777\ncomm_round: 19 | global_acc: 91.667% | global_loss: 0.8364390730857849\ncomm_round: 20 | global_acc: 93.750% | global_loss: 0.8300244808197021\ncomm_round: 21 | global_acc: 95.833% | global_loss: 0.8265776634216309\ncomm_round: 22 | global_acc: 95.833% | global_loss: 0.8204927444458008\ncomm_round: 23 | global_acc: 95.833% | global_loss: 0.8253472447395325\ncomm_round: 24 | global_acc: 95.833% | global_loss: 0.833493173122406\ncomm_round: 25 | global_acc: 93.750% | global_loss: 0.8284788131713867\ncomm_round: 26 | global_acc: 95.833% | global_loss: 0.8270373344421387\ncomm_round: 27 | global_acc: 95.833% | global_loss: 0.8196422457695007\ncomm_round: 28 | global_acc: 95.833% | global_loss: 0.8233839869499207\ncomm_round: 29 | global_acc: 95.833% | global_loss: 0.8210423588752747\ncomm_round: 30 | global_acc: 91.667% | global_loss: 0.822583019733429\ncomm_round: 31 | global_acc: 93.750% | global_loss: 0.8209946155548096\ncomm_round: 32 | global_acc: 93.750% | global_loss: 0.8213775753974915\ncomm_round: 33 | global_acc: 93.750% | global_loss: 0.8186182379722595\ncomm_round: 34 | global_acc: 93.750% | global_loss: 0.8182113170623779\ncomm_round: 35 | global_acc: 95.833% | global_loss: 0.8139591217041016\ncomm_round: 36 | global_acc: 93.750% | global_loss: 0.8196958899497986\ncomm_round: 37 | global_acc: 91.667% | global_loss: 0.8235325813293457\ncomm_round: 38 | global_acc: 91.667% | global_loss: 0.8228511810302734\ncomm_round: 39 | global_acc: 93.750% | global_loss: 0.817404568195343\ncomm_round: 40 | global_acc: 93.750% | global_loss: 0.8187441825866699\ncomm_round: 41 | global_acc: 91.667% | global_loss: 0.8204384446144104\ncomm_round: 42 | global_acc: 91.667% | global_loss: 0.8217726349830627\ncomm_round: 43 | global_acc: 91.667% | global_loss: 0.8224888443946838\n",
          "output_type": "stream"
        },
        {
          "name": "stderr",
          "text": "2022-06-12 22:00:24.506886: W tensorflow/core/data/root_dataset.cc:167] Optimization loop failed: Cancelled: Operation was cancelled\n",
          "output_type": "stream"
        },
        {
          "name": "stdout",
          "text": "comm_round: 44 | global_acc: 91.667% | global_loss: 0.8217266201972961\ncomm_round: 45 | global_acc: 91.667% | global_loss: 0.8226307034492493\ncomm_round: 46 | global_acc: 91.667% | global_loss: 0.8216452598571777\ncomm_round: 47 | global_acc: 91.667% | global_loss: 0.8220913410186768\ncomm_round: 48 | global_acc: 91.667% | global_loss: 0.8234249949455261\ncomm_round: 49 | global_acc: 91.667% | global_loss: 0.8219184875488281\ncomm_round: 50 | global_acc: 91.667% | global_loss: 0.8227316737174988\ncomm_round: 51 | global_acc: 91.667% | global_loss: 0.8210939764976501\ncomm_round: 52 | global_acc: 91.667% | global_loss: 0.8226192593574524\ncomm_round: 53 | global_acc: 91.667% | global_loss: 0.8216888904571533\ncomm_round: 54 | global_acc: 91.667% | global_loss: 0.822319507598877\ncomm_round: 55 | global_acc: 91.667% | global_loss: 0.8230730891227722\ncomm_round: 56 | global_acc: 91.667% | global_loss: 0.8227090835571289\ncomm_round: 57 | global_acc: 91.667% | global_loss: 0.8229478001594543\ncomm_round: 58 | global_acc: 91.667% | global_loss: 0.822899341583252\ncomm_round: 59 | global_acc: 91.667% | global_loss: 0.8227431178092957\ncomm_round: 60 | global_acc: 91.667% | global_loss: 0.8226442337036133\n",
          "output_type": "stream"
        },
        {
          "name": "stderr",
          "text": "2022-06-12 22:02:31.950030: W tensorflow/core/data/root_dataset.cc:167] Optimization loop failed: Cancelled: Operation was cancelled\n",
          "output_type": "stream"
        },
        {
          "name": "stdout",
          "text": "comm_round: 61 | global_acc: 91.667% | global_loss: 0.8223244547843933\ncomm_round: 62 | global_acc: 91.667% | global_loss: 0.8224799036979675\ncomm_round: 63 | global_acc: 91.667% | global_loss: 0.8223671317100525\ncomm_round: 64 | global_acc: 91.667% | global_loss: 0.822767436504364\ncomm_round: 65 | global_acc: 91.667% | global_loss: 0.8219919204711914\ncomm_round: 66 | global_acc: 91.667% | global_loss: 0.8220016360282898\ncomm_round: 67 | global_acc: 91.667% | global_loss: 0.822066068649292\ncomm_round: 68 | global_acc: 91.667% | global_loss: 0.8219321370124817\ncomm_round: 69 | global_acc: 91.667% | global_loss: 0.8219074606895447\ncomm_round: 70 | global_acc: 91.667% | global_loss: 0.8225834965705872\ncomm_round: 71 | global_acc: 91.667% | global_loss: 0.8223597407341003\ncomm_round: 72 | global_acc: 91.667% | global_loss: 0.8219740986824036\ncomm_round: 73 | global_acc: 91.667% | global_loss: 0.8218860626220703\ncomm_round: 74 | global_acc: 91.667% | global_loss: 0.8220017552375793\ncomm_round: 75 | global_acc: 91.667% | global_loss: 0.8220345377922058\ncomm_round: 76 | global_acc: 91.667% | global_loss: 0.8222181797027588\ncomm_round: 77 | global_acc: 91.667% | global_loss: 0.8217639923095703\ncomm_round: 78 | global_acc: 91.667% | global_loss: 0.8225052356719971\ncomm_round: 79 | global_acc: 91.667% | global_loss: 0.8217360377311707\ncomm_round: 80 | global_acc: 91.667% | global_loss: 0.8216438293457031\ncomm_round: 81 | global_acc: 91.667% | global_loss: 0.8222315907478333\ncomm_round: 82 | global_acc: 91.667% | global_loss: 0.821522057056427\ncomm_round: 83 | global_acc: 91.667% | global_loss: 0.8218627572059631\ncomm_round: 84 | global_acc: 91.667% | global_loss: 0.8217082619667053\ncomm_round: 85 | global_acc: 91.667% | global_loss: 0.8214917182922363\ncomm_round: 86 | global_acc: 91.667% | global_loss: 0.8215805888175964\ncomm_round: 87 | global_acc: 91.667% | global_loss: 0.8215124011039734\ncomm_round: 88 | global_acc: 91.667% | global_loss: 0.8206300139427185\ncomm_round: 89 | global_acc: 91.667% | global_loss: 0.8211285471916199\ncomm_round: 90 | global_acc: 91.667% | global_loss: 0.8214262127876282\ncomm_round: 91 | global_acc: 91.667% | global_loss: 0.8211439251899719\ncomm_round: 92 | global_acc: 91.667% | global_loss: 0.8208985328674316\ncomm_round: 93 | global_acc: 91.667% | global_loss: 0.8212712407112122\ncomm_round: 94 | global_acc: 91.667% | global_loss: 0.8208014965057373\ncomm_round: 95 | global_acc: 91.667% | global_loss: 0.8209078907966614\ncomm_round: 96 | global_acc: 91.667% | global_loss: 0.8208224773406982\ncomm_round: 97 | global_acc: 91.667% | global_loss: 0.8202917575836182\ncomm_round: 98 | global_acc: 91.667% | global_loss: 0.8203642964363098\ncomm_round: 99 | global_acc: 91.667% | global_loss: 0.8201255798339844\ncomm_round: 100 | global_acc: 91.667% | global_loss: 0.8205122947692871\ncomm_round: 101 | global_acc: 91.667% | global_loss: 0.8202436566352844\ncomm_round: 102 | global_acc: 91.667% | global_loss: 0.8205583691596985\ncomm_round: 103 | global_acc: 91.667% | global_loss: 0.8199527859687805\ncomm_round: 104 | global_acc: 91.667% | global_loss: 0.8199052214622498\ncomm_round: 105 | global_acc: 91.667% | global_loss: 0.8196585178375244\ncomm_round: 106 | global_acc: 91.667% | global_loss: 0.8200756907463074\ncomm_round: 107 | global_acc: 91.667% | global_loss: 0.8200919032096863\ncomm_round: 108 | global_acc: 91.667% | global_loss: 0.8200452327728271\ncomm_round: 109 | global_acc: 91.667% | global_loss: 0.8198860287666321\ncomm_round: 110 | global_acc: 91.667% | global_loss: 0.8193831443786621\ncomm_round: 111 | global_acc: 91.667% | global_loss: 0.8195300698280334\ncomm_round: 112 | global_acc: 91.667% | global_loss: 0.8190703988075256\ncomm_round: 113 | global_acc: 91.667% | global_loss: 0.8191930651664734\ncomm_round: 114 | global_acc: 91.667% | global_loss: 0.8194324374198914\ncomm_round: 115 | global_acc: 91.667% | global_loss: 0.8192750811576843\ncomm_round: 116 | global_acc: 91.667% | global_loss: 0.8193339705467224\ncomm_round: 117 | global_acc: 91.667% | global_loss: 0.8191654086112976\ncomm_round: 118 | global_acc: 91.667% | global_loss: 0.8190318942070007\ncomm_round: 119 | global_acc: 91.667% | global_loss: 0.8194382786750793\ncomm_round: 120 | global_acc: 91.667% | global_loss: 0.8190526366233826\ncomm_round: 121 | global_acc: 91.667% | global_loss: 0.8187899589538574\ncomm_round: 122 | global_acc: 91.667% | global_loss: 0.8188738226890564\ncomm_round: 123 | global_acc: 91.667% | global_loss: 0.8191441893577576\ncomm_round: 124 | global_acc: 91.667% | global_loss: 0.8191410899162292\ncomm_round: 125 | global_acc: 91.667% | global_loss: 0.8190935254096985\ncomm_round: 126 | global_acc: 91.667% | global_loss: 0.8187971115112305\ncomm_round: 127 | global_acc: 91.667% | global_loss: 0.8184383511543274\ncomm_round: 128 | global_acc: 91.667% | global_loss: 0.8186624646186829\n",
          "output_type": "stream"
        },
        {
          "name": "stderr",
          "text": "2022-06-12 22:10:32.779093: W tensorflow/core/data/root_dataset.cc:167] Optimization loop failed: Cancelled: Operation was cancelled\n",
          "output_type": "stream"
        },
        {
          "name": "stdout",
          "text": "comm_round: 129 | global_acc: 91.667% | global_loss: 0.8188632130622864\ncomm_round: 130 | global_acc: 91.667% | global_loss: 0.8185623288154602\ncomm_round: 131 | global_acc: 91.667% | global_loss: 0.8185300827026367\ncomm_round: 132 | global_acc: 91.667% | global_loss: 0.8183820247650146\ncomm_round: 133 | global_acc: 91.667% | global_loss: 0.8186047673225403\ncomm_round: 134 | global_acc: 91.667% | global_loss: 0.8184101581573486\ncomm_round: 135 | global_acc: 91.667% | global_loss: 0.8186378479003906\ncomm_round: 136 | global_acc: 91.667% | global_loss: 0.8183566927909851\ncomm_round: 137 | global_acc: 91.667% | global_loss: 0.8184054493904114\ncomm_round: 138 | global_acc: 91.667% | global_loss: 0.818422257900238\ncomm_round: 139 | global_acc: 91.667% | global_loss: 0.8183725476264954\ncomm_round: 140 | global_acc: 91.667% | global_loss: 0.8187527656555176\ncomm_round: 141 | global_acc: 91.667% | global_loss: 0.8185210227966309\ncomm_round: 142 | global_acc: 91.667% | global_loss: 0.8181900978088379\ncomm_round: 143 | global_acc: 91.667% | global_loss: 0.8182684779167175\ncomm_round: 144 | global_acc: 91.667% | global_loss: 0.8181989789009094\ncomm_round: 145 | global_acc: 91.667% | global_loss: 0.8184706568717957\ncomm_round: 146 | global_acc: 91.667% | global_loss: 0.8179966807365417\ncomm_round: 147 | global_acc: 91.667% | global_loss: 0.8180252909660339\ncomm_round: 148 | global_acc: 91.667% | global_loss: 0.8181231617927551\ncomm_round: 149 | global_acc: 91.667% | global_loss: 0.8180420994758606\ncomm_round: 150 | global_acc: 91.667% | global_loss: 0.8181149363517761\n",
          "output_type": "stream"
        },
        {
          "name": "stderr",
          "text": "2022-06-12 22:13:16.163786: W tensorflow/core/data/root_dataset.cc:167] Optimization loop failed: Cancelled: Operation was cancelled\n",
          "output_type": "stream"
        },
        {
          "name": "stdout",
          "text": "comm_round: 151 | global_acc: 91.667% | global_loss: 0.8178645968437195\ncomm_round: 152 | global_acc: 91.667% | global_loss: 0.8178722262382507\ncomm_round: 153 | global_acc: 91.667% | global_loss: 0.8177310824394226\ncomm_round: 154 | global_acc: 91.667% | global_loss: 0.8176997303962708\ncomm_round: 155 | global_acc: 91.667% | global_loss: 0.8179283142089844\ncomm_round: 156 | global_acc: 91.667% | global_loss: 0.8177053928375244\ncomm_round: 157 | global_acc: 91.667% | global_loss: 0.8177096247673035\ncomm_round: 158 | global_acc: 91.667% | global_loss: 0.8177292943000793\ncomm_round: 159 | global_acc: 91.667% | global_loss: 0.8178530335426331\ncomm_round: 160 | global_acc: 91.667% | global_loss: 0.8176834583282471\ncomm_round: 161 | global_acc: 91.667% | global_loss: 0.8175287246704102\ncomm_round: 162 | global_acc: 91.667% | global_loss: 0.8174455761909485\ncomm_round: 163 | global_acc: 91.667% | global_loss: 0.8174454569816589\ncomm_round: 164 | global_acc: 91.667% | global_loss: 0.8175256252288818\ncomm_round: 165 | global_acc: 91.667% | global_loss: 0.8177646994590759\ncomm_round: 166 | global_acc: 91.667% | global_loss: 0.8174321055412292\ncomm_round: 167 | global_acc: 91.667% | global_loss: 0.8173367381095886\ncomm_round: 168 | global_acc: 91.667% | global_loss: 0.8172292709350586\ncomm_round: 169 | global_acc: 91.667% | global_loss: 0.8172025680541992\ncomm_round: 170 | global_acc: 91.667% | global_loss: 0.8171565532684326\ncomm_round: 171 | global_acc: 91.667% | global_loss: 0.8174449801445007\ncomm_round: 172 | global_acc: 91.667% | global_loss: 0.8171711564064026\ncomm_round: 173 | global_acc: 91.667% | global_loss: 0.8171796798706055\ncomm_round: 174 | global_acc: 91.667% | global_loss: 0.8171954154968262\ncomm_round: 175 | global_acc: 91.667% | global_loss: 0.8170571327209473\ncomm_round: 176 | global_acc: 91.667% | global_loss: 0.8169059753417969\ncomm_round: 177 | global_acc: 91.667% | global_loss: 0.8168980479240417\ncomm_round: 178 | global_acc: 91.667% | global_loss: 0.816989004611969\ncomm_round: 179 | global_acc: 91.667% | global_loss: 0.8170452117919922\ncomm_round: 180 | global_acc: 91.667% | global_loss: 0.817014217376709\ncomm_round: 181 | global_acc: 91.667% | global_loss: 0.8168111443519592\ncomm_round: 182 | global_acc: 91.667% | global_loss: 0.81683748960495\ncomm_round: 183 | global_acc: 91.667% | global_loss: 0.817030131816864\ncomm_round: 184 | global_acc: 91.667% | global_loss: 0.8167567253112793\ncomm_round: 185 | global_acc: 91.667% | global_loss: 0.8166578412055969\ncomm_round: 186 | global_acc: 91.667% | global_loss: 0.8165991902351379\ncomm_round: 187 | global_acc: 91.667% | global_loss: 0.8169401288032532\n",
          "output_type": "stream"
        },
        {
          "name": "stderr",
          "text": "2022-06-12 22:17:36.801334: W tensorflow/core/data/root_dataset.cc:167] Optimization loop failed: Cancelled: Operation was cancelled\n",
          "output_type": "stream"
        },
        {
          "name": "stdout",
          "text": "comm_round: 188 | global_acc: 91.667% | global_loss: 0.8168158531188965\ncomm_round: 189 | global_acc: 91.667% | global_loss: 0.8166658282279968\ncomm_round: 190 | global_acc: 91.667% | global_loss: 0.8166708946228027\ncomm_round: 191 | global_acc: 91.667% | global_loss: 0.8166453242301941\ncomm_round: 192 | global_acc: 91.667% | global_loss: 0.8165356516838074\ncomm_round: 193 | global_acc: 91.667% | global_loss: 0.8166356086730957\ncomm_round: 194 | global_acc: 91.667% | global_loss: 0.8163051605224609\ncomm_round: 195 | global_acc: 91.667% | global_loss: 0.8166168332099915\ncomm_round: 196 | global_acc: 91.667% | global_loss: 0.8164315223693848\ncomm_round: 197 | global_acc: 91.667% | global_loss: 0.8163185119628906\ncomm_round: 198 | global_acc: 91.667% | global_loss: 0.8163846135139465\ncomm_round: 199 | global_acc: 91.667% | global_loss: 0.8161458969116211\n",
          "output_type": "stream"
        }
      ]
    },
    {
      "cell_type": "code",
      "source": [
        "_visualise(_case7Model, _case7Accuracy, _case7Loss)"
      ],
      "metadata": {
        "execution": {
          "iopub.status.busy": "2022-06-12T22:19:02.379089Z",
          "iopub.execute_input": "2022-06-12T22:19:02.379529Z",
          "iopub.status.idle": "2022-06-12T22:19:02.608214Z",
          "shell.execute_reply.started": "2022-06-12T22:19:02.379491Z",
          "shell.execute_reply": "2022-06-12T22:19:02.607456Z"
        },
        "trusted": true,
        "id": "TdZ18Dk2_16L",
        "outputId": "2e8a200d-39b3-4837-de96-9288021516d5"
      },
      "execution_count": null,
      "outputs": [
        {
          "output_type": "display_data",
          "data": {
            "text/plain": "<Figure size 432x288 with 1 Axes>",
            "image/png": "[encoded data removed]"
          },
          "metadata": {
            "needs_background": "light"
          }
        }
      ]
    },
    {
      "cell_type": "code",
      "source": [
        "test_acc = list()\n",
        "test_loss = list()\n",
        "for (X_test, Y_test) in test_batched:\n",
        "    global_test_acc, global_test_loss = test_model(X_test, Y_test, _case7Model, comm_round=1)\n",
        "    test_acc.append(global_test_acc)\n",
        "    test_loss.append(global_test_loss)"
      ],
      "metadata": {
        "execution": {
          "iopub.status.busy": "2022-06-12T22:19:02.609536Z",
          "iopub.execute_input": "2022-06-12T22:19:02.610056Z",
          "iopub.status.idle": "2022-06-12T22:19:02.726295Z",
          "shell.execute_reply.started": "2022-06-12T22:19:02.610016Z",
          "shell.execute_reply": "2022-06-12T22:19:02.725450Z"
        },
        "trusted": true,
        "id": "8ZhoXbZD_16M",
        "outputId": "74c1ee91-509a-41df-83c4-0ad4f53b533b"
      },
      "execution_count": null,
      "outputs": [
        {
          "name": "stdout",
          "text": "comm_round: 1 | global_acc: 95.249% | global_loss: 0.7911739945411682\n",
          "output_type": "stream"
        }
      ]
    },
    {
      "cell_type": "markdown",
      "source": [
        "CASE 8:\n",
        "* Sharing deep weights every 10th epoch, 4 shallow and 2 deep layers"
      ],
      "metadata": {
        "id": "YUgf07yg_16M"
      }
    },
    {
      "cell_type": "code",
      "source": [
        "_case8Model, _case8Accuracy, _case8Loss  = _trainModel(10, 4, 6) "
      ],
      "metadata": {
        "execution": {
          "iopub.status.busy": "2022-06-12T22:20:45.064615Z",
          "iopub.execute_input": "2022-06-12T22:20:45.065378Z",
          "iopub.status.idle": "2022-06-12T22:45:11.127650Z",
          "shell.execute_reply.started": "2022-06-12T22:20:45.065342Z",
          "shell.execute_reply": "2022-06-12T22:45:11.126805Z"
        },
        "trusted": true,
        "id": "bdGpBvqf_16M",
        "outputId": "4d6611fb-5e96-404f-ee40-c45bc1a71430"
      },
      "execution_count": null,
      "outputs": [
        {
          "name": "stdout",
          "text": "comm_round: 0 | global_acc: 25.000% | global_loss: 1.3781198263168335\ncomm_round: 1 | global_acc: 25.000% | global_loss: 1.373278021812439\ncomm_round: 2 | global_acc: 31.250% | global_loss: 1.3656307458877563\ncomm_round: 3 | global_acc: 31.250% | global_loss: 1.3505668640136719\ncomm_round: 4 | global_acc: 31.250% | global_loss: 1.3294872045516968\ncomm_round: 5 | global_acc: 33.333% | global_loss: 1.3034900426864624\ncomm_round: 6 | global_acc: 37.500% | global_loss: 1.2747031450271606\ncomm_round: 7 | global_acc: 39.583% | global_loss: 1.2528014183044434\ncomm_round: 8 | global_acc: 43.750% | global_loss: 1.232826828956604\ncomm_round: 9 | global_acc: 52.083% | global_loss: 1.2156449556350708\ncomm_round: 10 | global_acc: 64.583% | global_loss: 1.1825050115585327\ncomm_round: 11 | global_acc: 64.583% | global_loss: 1.1658265590667725\ncomm_round: 12 | global_acc: 64.583% | global_loss: 1.1550780534744263\ncomm_round: 13 | global_acc: 64.583% | global_loss: 1.1458790302276611\ncomm_round: 14 | global_acc: 66.667% | global_loss: 1.1387463808059692\ncomm_round: 15 | global_acc: 64.583% | global_loss: 1.1312211751937866\ncomm_round: 16 | global_acc: 66.667% | global_loss: 1.1247297525405884\ncomm_round: 17 | global_acc: 68.750% | global_loss: 1.119564175605774\ncomm_round: 18 | global_acc: 66.667% | global_loss: 1.1156619787216187\ncomm_round: 19 | global_acc: 68.750% | global_loss: 1.1126708984375\ncomm_round: 20 | global_acc: 72.917% | global_loss: 1.0814590454101562\ncomm_round: 21 | global_acc: 72.917% | global_loss: 1.077146053314209\ncomm_round: 22 | global_acc: 68.750% | global_loss: 1.0783153772354126\ncomm_round: 23 | global_acc: 70.833% | global_loss: 1.0751863718032837\ncomm_round: 24 | global_acc: 72.917% | global_loss: 1.064560055732727\ncomm_round: 25 | global_acc: 72.917% | global_loss: 1.0640887022018433\ncomm_round: 26 | global_acc: 70.833% | global_loss: 1.0571562051773071\ncomm_round: 27 | global_acc: 72.917% | global_loss: 1.0485483407974243\ncomm_round: 28 | global_acc: 72.917% | global_loss: 1.0395814180374146\ncomm_round: 29 | global_acc: 79.167% | global_loss: 1.0303677320480347\ncomm_round: 30 | global_acc: 83.333% | global_loss: 1.0159165859222412\ncomm_round: 31 | global_acc: 83.333% | global_loss: 1.0139816999435425\ncomm_round: 32 | global_acc: 83.333% | global_loss: 1.0079761743545532\ncomm_round: 33 | global_acc: 83.333% | global_loss: 1.0053678750991821\ncomm_round: 34 | global_acc: 83.333% | global_loss: 1.0009474754333496\ncomm_round: 35 | global_acc: 85.417% | global_loss: 0.9983205795288086\n",
          "output_type": "stream"
        },
        {
          "name": "stderr",
          "text": "2022-06-12 22:25:10.966397: W tensorflow/core/data/root_dataset.cc:167] Optimization loop failed: Cancelled: Operation was cancelled\n",
          "output_type": "stream"
        },
        {
          "name": "stdout",
          "text": "comm_round: 36 | global_acc: 85.417% | global_loss: 0.9966840744018555\ncomm_round: 37 | global_acc: 85.417% | global_loss: 0.9883671402931213\ncomm_round: 38 | global_acc: 85.417% | global_loss: 0.9955442547798157\ncomm_round: 39 | global_acc: 85.417% | global_loss: 0.9847140312194824\ncomm_round: 40 | global_acc: 83.333% | global_loss: 0.9817351698875427\ncomm_round: 41 | global_acc: 83.333% | global_loss: 0.9760381579399109\ncomm_round: 42 | global_acc: 85.417% | global_loss: 0.9741363525390625\ncomm_round: 43 | global_acc: 83.333% | global_loss: 0.9758369326591492\ncomm_round: 44 | global_acc: 85.417% | global_loss: 0.9709489941596985\ncomm_round: 45 | global_acc: 83.333% | global_loss: 0.966401994228363\ncomm_round: 46 | global_acc: 83.333% | global_loss: 0.9660300612449646\ncomm_round: 47 | global_acc: 81.250% | global_loss: 0.9676964282989502\ncomm_round: 48 | global_acc: 85.417% | global_loss: 0.9601829648017883\ncomm_round: 49 | global_acc: 87.500% | global_loss: 0.9584363102912903\ncomm_round: 50 | global_acc: 83.333% | global_loss: 0.9601172804832458\ncomm_round: 51 | global_acc: 85.417% | global_loss: 0.9559516906738281\ncomm_round: 52 | global_acc: 81.250% | global_loss: 0.9558694958686829\ncomm_round: 53 | global_acc: 83.333% | global_loss: 0.9543876647949219\ncomm_round: 54 | global_acc: 83.333% | global_loss: 0.9575779438018799\ncomm_round: 55 | global_acc: 83.333% | global_loss: 0.9563209414482117\ncomm_round: 56 | global_acc: 83.333% | global_loss: 0.9511458277702332\ncomm_round: 57 | global_acc: 85.417% | global_loss: 0.9497261047363281\ncomm_round: 58 | global_acc: 81.250% | global_loss: 0.9526128768920898\ncomm_round: 59 | global_acc: 85.417% | global_loss: 0.9432665705680847\ncomm_round: 60 | global_acc: 85.417% | global_loss: 0.9410738945007324\ncomm_round: 61 | global_acc: 83.333% | global_loss: 0.9386725425720215\ncomm_round: 62 | global_acc: 85.417% | global_loss: 0.9364864230155945\ncomm_round: 63 | global_acc: 85.417% | global_loss: 0.9363176822662354\ncomm_round: 64 | global_acc: 85.417% | global_loss: 0.9336398243904114\ncomm_round: 65 | global_acc: 83.333% | global_loss: 0.9336957335472107\ncomm_round: 66 | global_acc: 83.333% | global_loss: 0.9343933463096619\ncomm_round: 67 | global_acc: 83.333% | global_loss: 0.9371811747550964\ncomm_round: 68 | global_acc: 83.333% | global_loss: 0.933275043964386\ncomm_round: 69 | global_acc: 87.500% | global_loss: 0.9249424934387207\ncomm_round: 70 | global_acc: 83.333% | global_loss: 0.9249405860900879\ncomm_round: 71 | global_acc: 83.333% | global_loss: 0.9330496191978455\ncomm_round: 72 | global_acc: 85.417% | global_loss: 0.9230080246925354\ncomm_round: 73 | global_acc: 85.417% | global_loss: 0.9220406413078308\ncomm_round: 74 | global_acc: 85.417% | global_loss: 0.9178658127784729\ncomm_round: 75 | global_acc: 85.417% | global_loss: 0.9211776256561279\ncomm_round: 76 | global_acc: 83.333% | global_loss: 0.9206452369689941\ncomm_round: 77 | global_acc: 85.417% | global_loss: 0.9179162979125977\ncomm_round: 78 | global_acc: 85.417% | global_loss: 0.9199343323707581\ncomm_round: 79 | global_acc: 83.333% | global_loss: 0.9132745862007141\ncomm_round: 80 | global_acc: 85.417% | global_loss: 0.9133529663085938\ncomm_round: 81 | global_acc: 85.417% | global_loss: 0.9101617932319641\ncomm_round: 82 | global_acc: 83.333% | global_loss: 0.9070947170257568\ncomm_round: 83 | global_acc: 83.333% | global_loss: 0.9084422588348389\ncomm_round: 84 | global_acc: 83.333% | global_loss: 0.9046202301979065\ncomm_round: 85 | global_acc: 83.333% | global_loss: 0.9091744422912598\ncomm_round: 86 | global_acc: 85.417% | global_loss: 0.9089649319648743\ncomm_round: 87 | global_acc: 85.417% | global_loss: 0.910708487033844\ncomm_round: 88 | global_acc: 85.417% | global_loss: 0.9046335816383362\ncomm_round: 89 | global_acc: 83.333% | global_loss: 0.899299144744873\ncomm_round: 90 | global_acc: 85.417% | global_loss: 0.9078038334846497\ncomm_round: 91 | global_acc: 85.417% | global_loss: 0.895726203918457\ncomm_round: 92 | global_acc: 85.417% | global_loss: 0.8968756198883057\ncomm_round: 93 | global_acc: 85.417% | global_loss: 0.899060070514679\ncomm_round: 94 | global_acc: 85.417% | global_loss: 0.8968852162361145\ncomm_round: 95 | global_acc: 85.417% | global_loss: 0.8955366015434265\ncomm_round: 96 | global_acc: 87.500% | global_loss: 0.8938088417053223\ncomm_round: 97 | global_acc: 85.417% | global_loss: 0.895643413066864\ncomm_round: 98 | global_acc: 85.417% | global_loss: 0.8929567933082581\ncomm_round: 99 | global_acc: 85.417% | global_loss: 0.8910201191902161\ncomm_round: 100 | global_acc: 85.417% | global_loss: 0.8905121684074402\ncomm_round: 101 | global_acc: 87.500% | global_loss: 0.8882086873054504\ncomm_round: 102 | global_acc: 87.500% | global_loss: 0.8899186253547668\ncomm_round: 103 | global_acc: 87.500% | global_loss: 0.8877742290496826\ncomm_round: 104 | global_acc: 85.417% | global_loss: 0.888547956943512\ncomm_round: 105 | global_acc: 89.583% | global_loss: 0.8824145197868347\ncomm_round: 106 | global_acc: 87.500% | global_loss: 0.8852438926696777\ncomm_round: 107 | global_acc: 87.500% | global_loss: 0.885570228099823\ncomm_round: 108 | global_acc: 87.500% | global_loss: 0.8807633519172668\ncomm_round: 109 | global_acc: 87.500% | global_loss: 0.8808229565620422\ncomm_round: 110 | global_acc: 89.583% | global_loss: 0.8820731043815613\ncomm_round: 111 | global_acc: 89.583% | global_loss: 0.8779780268669128\ncomm_round: 112 | global_acc: 89.583% | global_loss: 0.8810477256774902\ncomm_round: 113 | global_acc: 89.583% | global_loss: 0.8788641095161438\ncomm_round: 114 | global_acc: 89.583% | global_loss: 0.8776842951774597\ncomm_round: 115 | global_acc: 89.583% | global_loss: 0.8789747357368469\ncomm_round: 116 | global_acc: 89.583% | global_loss: 0.8807220458984375\ncomm_round: 117 | global_acc: 89.583% | global_loss: 0.8773134350776672\ncomm_round: 118 | global_acc: 89.583% | global_loss: 0.8740285038948059\ncomm_round: 119 | global_acc: 89.583% | global_loss: 0.8731496930122375\ncomm_round: 120 | global_acc: 89.583% | global_loss: 0.8719242215156555\ncomm_round: 121 | global_acc: 89.583% | global_loss: 0.8727517127990723\ncomm_round: 122 | global_acc: 89.583% | global_loss: 0.8736535906791687\ncomm_round: 123 | global_acc: 89.583% | global_loss: 0.874661386013031\ncomm_round: 124 | global_acc: 89.583% | global_loss: 0.869890034198761\ncomm_round: 125 | global_acc: 89.583% | global_loss: 0.870086669921875\ncomm_round: 126 | global_acc: 89.583% | global_loss: 0.8725153803825378\ncomm_round: 127 | global_acc: 89.583% | global_loss: 0.8719174265861511\ncomm_round: 128 | global_acc: 89.583% | global_loss: 0.8726029992103577\ncomm_round: 129 | global_acc: 89.583% | global_loss: 0.8721368312835693\ncomm_round: 130 | global_acc: 89.583% | global_loss: 0.8679682612419128\ncomm_round: 131 | global_acc: 89.583% | global_loss: 0.8678814768791199\ncomm_round: 132 | global_acc: 89.583% | global_loss: 0.8690178990364075\ncomm_round: 133 | global_acc: 89.583% | global_loss: 0.8704522252082825\ncomm_round: 134 | global_acc: 89.583% | global_loss: 0.8695664405822754\ncomm_round: 135 | global_acc: 89.583% | global_loss: 0.8686034083366394\ncomm_round: 136 | global_acc: 89.583% | global_loss: 0.8673598170280457\ncomm_round: 137 | global_acc: 89.583% | global_loss: 0.8693308234214783\ncomm_round: 138 | global_acc: 89.583% | global_loss: 0.8690972328186035\ncomm_round: 139 | global_acc: 89.583% | global_loss: 0.8672947883605957\ncomm_round: 140 | global_acc: 89.583% | global_loss: 0.8676992058753967\ncomm_round: 141 | global_acc: 89.583% | global_loss: 0.8665509819984436\ncomm_round: 142 | global_acc: 89.583% | global_loss: 0.8654384613037109\ncomm_round: 143 | global_acc: 89.583% | global_loss: 0.8678541779518127\ncomm_round: 144 | global_acc: 89.583% | global_loss: 0.8659048080444336\ncomm_round: 145 | global_acc: 89.583% | global_loss: 0.8659704327583313\ncomm_round: 146 | global_acc: 89.583% | global_loss: 0.8693178296089172\ncomm_round: 147 | global_acc: 89.583% | global_loss: 0.8666260838508606\ncomm_round: 148 | global_acc: 89.583% | global_loss: 0.8649120330810547\ncomm_round: 149 | global_acc: 89.583% | global_loss: 0.8656999468803406\ncomm_round: 150 | global_acc: 89.583% | global_loss: 0.8646747469902039\ncomm_round: 151 | global_acc: 89.583% | global_loss: 0.8625547289848328\ncomm_round: 152 | global_acc: 89.583% | global_loss: 0.8606144785881042\ncomm_round: 153 | global_acc: 89.583% | global_loss: 0.8653196692466736\ncomm_round: 154 | global_acc: 89.583% | global_loss: 0.8644083142280579\ncomm_round: 155 | global_acc: 89.583% | global_loss: 0.8630335927009583\ncomm_round: 156 | global_acc: 89.583% | global_loss: 0.8643412590026855\ncomm_round: 157 | global_acc: 89.583% | global_loss: 0.8619627952575684\ncomm_round: 158 | global_acc: 89.583% | global_loss: 0.8618139624595642\ncomm_round: 159 | global_acc: 89.583% | global_loss: 0.8635544180870056\ncomm_round: 160 | global_acc: 89.583% | global_loss: 0.8639981746673584\ncomm_round: 161 | global_acc: 89.583% | global_loss: 0.8642287254333496\ncomm_round: 162 | global_acc: 89.583% | global_loss: 0.8629975914955139\ncomm_round: 163 | global_acc: 89.583% | global_loss: 0.8617711067199707\ncomm_round: 164 | global_acc: 89.583% | global_loss: 0.8613936305046082\ncomm_round: 165 | global_acc: 89.583% | global_loss: 0.8628652095794678\ncomm_round: 166 | global_acc: 89.583% | global_loss: 0.8615353107452393\ncomm_round: 167 | global_acc: 89.583% | global_loss: 0.8600795865058899\ncomm_round: 168 | global_acc: 89.583% | global_loss: 0.8624212145805359\ncomm_round: 169 | global_acc: 89.583% | global_loss: 0.8610350489616394\ncomm_round: 170 | global_acc: 89.583% | global_loss: 0.8615424036979675\ncomm_round: 171 | global_acc: 89.583% | global_loss: 0.8603806495666504\ncomm_round: 172 | global_acc: 89.583% | global_loss: 0.8594448566436768\ncomm_round: 173 | global_acc: 89.583% | global_loss: 0.8601706624031067\ncomm_round: 174 | global_acc: 89.583% | global_loss: 0.8600172400474548\ncomm_round: 175 | global_acc: 89.583% | global_loss: 0.8619757294654846\ncomm_round: 176 | global_acc: 89.583% | global_loss: 0.8603457808494568\ncomm_round: 177 | global_acc: 89.583% | global_loss: 0.8577567934989929\ncomm_round: 178 | global_acc: 87.500% | global_loss: 0.8619750142097473\ncomm_round: 179 | global_acc: 89.583% | global_loss: 0.8575083613395691\ncomm_round: 180 | global_acc: 89.583% | global_loss: 0.8604307770729065\ncomm_round: 181 | global_acc: 89.583% | global_loss: 0.8598615527153015\ncomm_round: 182 | global_acc: 89.583% | global_loss: 0.8604381680488586\ncomm_round: 183 | global_acc: 89.583% | global_loss: 0.8609381318092346\ncomm_round: 184 | global_acc: 89.583% | global_loss: 0.8598188757896423\ncomm_round: 185 | global_acc: 89.583% | global_loss: 0.8598087430000305\ncomm_round: 186 | global_acc: 89.583% | global_loss: 0.8587509989738464\ncomm_round: 187 | global_acc: 89.583% | global_loss: 0.8599688410758972\ncomm_round: 188 | global_acc: 89.583% | global_loss: 0.8610870838165283\ncomm_round: 189 | global_acc: 87.500% | global_loss: 0.8607780933380127\ncomm_round: 190 | global_acc: 87.500% | global_loss: 0.8605968356132507\ncomm_round: 191 | global_acc: 89.583% | global_loss: 0.8578092455863953\ncomm_round: 192 | global_acc: 87.500% | global_loss: 0.8610442280769348\ncomm_round: 193 | global_acc: 89.583% | global_loss: 0.8588190078735352\ncomm_round: 194 | global_acc: 89.583% | global_loss: 0.8576573729515076\n",
          "output_type": "stream"
        },
        {
          "name": "stderr",
          "text": "2022-06-12 22:44:34.614872: W tensorflow/core/data/root_dataset.cc:167] Optimization loop failed: Cancelled: Operation was cancelled\n",
          "output_type": "stream"
        },
        {
          "name": "stdout",
          "text": "comm_round: 195 | global_acc: 89.583% | global_loss: 0.8580480217933655\ncomm_round: 196 | global_acc: 89.583% | global_loss: 0.8576192855834961\ncomm_round: 197 | global_acc: 89.583% | global_loss: 0.8587778210639954\ncomm_round: 198 | global_acc: 89.583% | global_loss: 0.8593931198120117\ncomm_round: 199 | global_acc: 89.583% | global_loss: 0.8587638735771179\n",
          "output_type": "stream"
        }
      ]
    },
    {
      "cell_type": "code",
      "source": [
        "_visualise(_case8Model, _case8Accuracy, _case8Loss)"
      ],
      "metadata": {
        "execution": {
          "iopub.status.busy": "2022-06-12T22:45:11.129304Z",
          "iopub.execute_input": "2022-06-12T22:45:11.131261Z",
          "iopub.status.idle": "2022-06-12T22:45:11.330369Z",
          "shell.execute_reply.started": "2022-06-12T22:45:11.131219Z",
          "shell.execute_reply": "2022-06-12T22:45:11.329627Z"
        },
        "trusted": true,
        "id": "NE_k9NNh_16N",
        "outputId": "18a99888-b107-484e-865f-ae37dfe4d038"
      },
      "execution_count": null,
      "outputs": [
        {
          "output_type": "display_data",
          "data": {
            "text/plain": "<Figure size 432x288 with 1 Axes>",
            "image/png": "[encoded data removed]"
          },
          "metadata": {
            "needs_background": "light"
          }
        }
      ]
    },
    {
      "cell_type": "code",
      "source": [
        "test_acc = list()\n",
        "test_loss = list()\n",
        "for (X_test, Y_test) in test_batched:\n",
        "    global_test_acc, global_test_loss = test_model(X_test, Y_test, _case8Model, comm_round=1)\n",
        "    test_acc.append(global_test_acc)\n",
        "    test_loss.append(global_test_loss)"
      ],
      "metadata": {
        "execution": {
          "iopub.status.busy": "2022-06-12T22:45:11.331723Z",
          "iopub.execute_input": "2022-06-12T22:45:11.332223Z",
          "iopub.status.idle": "2022-06-12T22:45:11.448259Z",
          "shell.execute_reply.started": "2022-06-12T22:45:11.332184Z",
          "shell.execute_reply": "2022-06-12T22:45:11.447412Z"
        },
        "trusted": true,
        "id": "HmM2P0pf_16N",
        "outputId": "3ea0baa2-5948-40ad-c8e5-cc27951599a2"
      },
      "execution_count": null,
      "outputs": [
        {
          "name": "stdout",
          "text": "comm_round: 1 | global_acc: 93.191% | global_loss: 0.8141467571258545\n",
          "output_type": "stream"
        }
      ]
    },
    {
      "cell_type": "markdown",
      "source": [
        "CASE 9:\n",
        "* Sharing deep weights every epoch, 4 shallow and 2 deep layers"
      ],
      "metadata": {
        "id": "bNSVXPZJ_16O"
      }
    },
    {
      "cell_type": "code",
      "source": [
        "_case9Model, _case9Accuracy, _case9Loss  = _trainModel(1, 4, 6) "
      ],
      "metadata": {
        "execution": {
          "iopub.status.busy": "2022-06-12T22:45:11.450069Z",
          "iopub.execute_input": "2022-06-12T22:45:11.450937Z",
          "iopub.status.idle": "2022-06-12T23:10:03.091212Z",
          "shell.execute_reply.started": "2022-06-12T22:45:11.450890Z",
          "shell.execute_reply": "2022-06-12T23:10:03.090362Z"
        },
        "trusted": true,
        "id": "ulB-rPbC_16O",
        "outputId": "ca9c5d41-fe39-44b3-8b53-26675efc7705"
      },
      "execution_count": null,
      "outputs": [
        {
          "name": "stdout",
          "text": "comm_round: 0 | global_acc: 25.000% | global_loss: 1.3806085586547852\ncomm_round: 1 | global_acc: 29.167% | global_loss: 1.3763494491577148\ncomm_round: 2 | global_acc: 47.917% | global_loss: 1.3715232610702515\ncomm_round: 3 | global_acc: 54.167% | global_loss: 1.36544668674469\ncomm_round: 4 | global_acc: 54.167% | global_loss: 1.3548771142959595\ncomm_round: 5 | global_acc: 52.083% | global_loss: 1.3372708559036255\ncomm_round: 6 | global_acc: 52.083% | global_loss: 1.3142811059951782\ncomm_round: 7 | global_acc: 54.167% | global_loss: 1.2903207540512085\ncomm_round: 8 | global_acc: 56.250% | global_loss: 1.266659140586853\ncomm_round: 9 | global_acc: 62.500% | global_loss: 1.2431105375289917\ncomm_round: 10 | global_acc: 62.500% | global_loss: 1.2219135761260986\ncomm_round: 11 | global_acc: 60.417% | global_loss: 1.2012747526168823\ncomm_round: 12 | global_acc: 64.583% | global_loss: 1.183040738105774\ncomm_round: 13 | global_acc: 64.583% | global_loss: 1.166580319404602\ncomm_round: 14 | global_acc: 64.583% | global_loss: 1.1525880098342896\ncomm_round: 15 | global_acc: 64.583% | global_loss: 1.1406254768371582\ncomm_round: 16 | global_acc: 66.667% | global_loss: 1.1314301490783691\ncomm_round: 17 | global_acc: 68.750% | global_loss: 1.1243038177490234\ncomm_round: 18 | global_acc: 68.750% | global_loss: 1.1179043054580688\ncomm_round: 19 | global_acc: 70.833% | global_loss: 1.1101951599121094\ncomm_round: 20 | global_acc: 70.833% | global_loss: 1.106031060218811\ncomm_round: 21 | global_acc: 66.667% | global_loss: 1.1009325981140137\ncomm_round: 22 | global_acc: 70.833% | global_loss: 1.0978431701660156\ncomm_round: 23 | global_acc: 66.667% | global_loss: 1.0931779146194458\ncomm_round: 24 | global_acc: 70.833% | global_loss: 1.0899802446365356\ncomm_round: 25 | global_acc: 68.750% | global_loss: 1.087846279144287\ncomm_round: 26 | global_acc: 68.750% | global_loss: 1.0779471397399902\ncomm_round: 27 | global_acc: 68.750% | global_loss: 1.075466275215149\ncomm_round: 28 | global_acc: 68.750% | global_loss: 1.0731780529022217\ncomm_round: 29 | global_acc: 70.833% | global_loss: 1.0636709928512573\ncomm_round: 30 | global_acc: 70.833% | global_loss: 1.0610541105270386\ncomm_round: 31 | global_acc: 72.917% | global_loss: 1.0582947731018066\ncomm_round: 32 | global_acc: 68.750% | global_loss: 1.053657054901123\ncomm_round: 33 | global_acc: 70.833% | global_loss: 1.0468119382858276\ncomm_round: 34 | global_acc: 70.833% | global_loss: 1.044249176979065\ncomm_round: 35 | global_acc: 72.917% | global_loss: 1.032880425453186\ncomm_round: 36 | global_acc: 75.000% | global_loss: 1.0284367799758911\ncomm_round: 37 | global_acc: 79.167% | global_loss: 1.0295289754867554\ncomm_round: 38 | global_acc: 79.167% | global_loss: 1.0254158973693848\ncomm_round: 39 | global_acc: 83.333% | global_loss: 1.0193120241165161\ncomm_round: 40 | global_acc: 81.250% | global_loss: 1.0122777223587036\ncomm_round: 41 | global_acc: 81.250% | global_loss: 1.0190364122390747\ncomm_round: 42 | global_acc: 83.333% | global_loss: 0.9999530911445618\ncomm_round: 43 | global_acc: 81.250% | global_loss: 0.9998416900634766\ncomm_round: 44 | global_acc: 85.417% | global_loss: 0.9938756823539734\ncomm_round: 45 | global_acc: 87.500% | global_loss: 0.9878630638122559\ncomm_round: 46 | global_acc: 83.333% | global_loss: 0.98759526014328\ncomm_round: 47 | global_acc: 87.500% | global_loss: 0.9803254008293152\ncomm_round: 48 | global_acc: 87.500% | global_loss: 0.9793875217437744\ncomm_round: 49 | global_acc: 85.417% | global_loss: 0.969965934753418\ncomm_round: 50 | global_acc: 83.333% | global_loss: 0.9723291397094727\ncomm_round: 51 | global_acc: 85.417% | global_loss: 0.9678821563720703\ncomm_round: 52 | global_acc: 85.417% | global_loss: 0.9649302959442139\ncomm_round: 53 | global_acc: 85.417% | global_loss: 0.9569641947746277\ncomm_round: 54 | global_acc: 87.500% | global_loss: 0.9574611783027649\ncomm_round: 55 | global_acc: 85.417% | global_loss: 0.949934184551239\ncomm_round: 56 | global_acc: 87.500% | global_loss: 0.9510087370872498\ncomm_round: 57 | global_acc: 85.417% | global_loss: 0.9411919713020325\ncomm_round: 58 | global_acc: 85.417% | global_loss: 0.9462538361549377\ncomm_round: 59 | global_acc: 85.417% | global_loss: 0.9401261210441589\ncomm_round: 60 | global_acc: 83.333% | global_loss: 0.9438920617103577\ncomm_round: 61 | global_acc: 83.333% | global_loss: 0.9455606341362\ncomm_round: 62 | global_acc: 83.333% | global_loss: 0.9376506209373474\ncomm_round: 63 | global_acc: 83.333% | global_loss: 0.927847683429718\ncomm_round: 64 | global_acc: 85.417% | global_loss: 0.9306626915931702\ncomm_round: 65 | global_acc: 83.333% | global_loss: 0.9313098788261414\ncomm_round: 66 | global_acc: 83.333% | global_loss: 0.9260708689689636\ncomm_round: 67 | global_acc: 83.333% | global_loss: 0.9225062727928162\ncomm_round: 68 | global_acc: 83.333% | global_loss: 0.922172486782074\ncomm_round: 69 | global_acc: 83.333% | global_loss: 0.9193643927574158\ncomm_round: 70 | global_acc: 83.333% | global_loss: 0.9128198623657227\ncomm_round: 71 | global_acc: 83.333% | global_loss: 0.9196937680244446\ncomm_round: 72 | global_acc: 83.333% | global_loss: 0.9100591540336609\ncomm_round: 73 | global_acc: 85.417% | global_loss: 0.9168722033500671\ncomm_round: 74 | global_acc: 85.417% | global_loss: 0.9145656228065491\ncomm_round: 75 | global_acc: 85.417% | global_loss: 0.911713182926178\ncomm_round: 76 | global_acc: 83.333% | global_loss: 0.909580409526825\ncomm_round: 77 | global_acc: 85.417% | global_loss: 0.9043868184089661\ncomm_round: 78 | global_acc: 85.417% | global_loss: 0.9008150100708008\ncomm_round: 79 | global_acc: 83.333% | global_loss: 0.9007368683815002\ncomm_round: 80 | global_acc: 85.417% | global_loss: 0.8977305293083191\ncomm_round: 81 | global_acc: 87.500% | global_loss: 0.8978378772735596\ncomm_round: 82 | global_acc: 85.417% | global_loss: 0.90012526512146\ncomm_round: 83 | global_acc: 89.583% | global_loss: 0.8933805823326111\ncomm_round: 84 | global_acc: 85.417% | global_loss: 0.8974432349205017\ncomm_round: 85 | global_acc: 89.583% | global_loss: 0.8911948800086975\ncomm_round: 86 | global_acc: 91.667% | global_loss: 0.8867232203483582\ncomm_round: 87 | global_acc: 91.667% | global_loss: 0.8850590586662292\ncomm_round: 88 | global_acc: 91.667% | global_loss: 0.8854259848594666\ncomm_round: 89 | global_acc: 85.417% | global_loss: 0.8925065994262695\ncomm_round: 90 | global_acc: 89.583% | global_loss: 0.8856077194213867\ncomm_round: 91 | global_acc: 91.667% | global_loss: 0.887194812297821\ncomm_round: 92 | global_acc: 91.667% | global_loss: 0.8844821453094482\ncomm_round: 93 | global_acc: 91.667% | global_loss: 0.8805487751960754\ncomm_round: 94 | global_acc: 87.500% | global_loss: 0.8892547488212585\ncomm_round: 95 | global_acc: 89.583% | global_loss: 0.8832135200500488\ncomm_round: 96 | global_acc: 89.583% | global_loss: 0.8787805438041687\ncomm_round: 97 | global_acc: 91.667% | global_loss: 0.8774393200874329\ncomm_round: 98 | global_acc: 91.667% | global_loss: 0.8783844113349915\n",
          "output_type": "stream"
        },
        {
          "name": "stderr",
          "text": "2022-06-12 22:57:27.731276: W tensorflow/core/data/root_dataset.cc:167] Optimization loop failed: Cancelled: Operation was cancelled\n",
          "output_type": "stream"
        },
        {
          "name": "stdout",
          "text": "comm_round: 99 | global_acc: 89.583% | global_loss: 0.880395233631134\ncomm_round: 100 | global_acc: 91.667% | global_loss: 0.872312068939209\ncomm_round: 101 | global_acc: 91.667% | global_loss: 0.8771799206733704\ncomm_round: 102 | global_acc: 91.667% | global_loss: 0.8775660991668701\ncomm_round: 103 | global_acc: 89.583% | global_loss: 0.8747158050537109\ncomm_round: 104 | global_acc: 91.667% | global_loss: 0.8719373345375061\ncomm_round: 105 | global_acc: 91.667% | global_loss: 0.8723812699317932\ncomm_round: 106 | global_acc: 91.667% | global_loss: 0.87107253074646\ncomm_round: 107 | global_acc: 89.583% | global_loss: 0.8714830279350281\ncomm_round: 108 | global_acc: 91.667% | global_loss: 0.8701592087745667\ncomm_round: 109 | global_acc: 91.667% | global_loss: 0.8682863116264343\ncomm_round: 110 | global_acc: 91.667% | global_loss: 0.8695430755615234\ncomm_round: 111 | global_acc: 91.667% | global_loss: 0.866166889667511\ncomm_round: 112 | global_acc: 91.667% | global_loss: 0.8679981231689453\ncomm_round: 113 | global_acc: 91.667% | global_loss: 0.8633580207824707\ncomm_round: 114 | global_acc: 91.667% | global_loss: 0.8649747371673584\ncomm_round: 115 | global_acc: 91.667% | global_loss: 0.8663733005523682\ncomm_round: 116 | global_acc: 91.667% | global_loss: 0.8609604239463806\ncomm_round: 117 | global_acc: 91.667% | global_loss: 0.8643960952758789\ncomm_round: 118 | global_acc: 91.667% | global_loss: 0.8588274121284485\ncomm_round: 119 | global_acc: 91.667% | global_loss: 0.8626406788825989\ncomm_round: 120 | global_acc: 91.667% | global_loss: 0.8596304059028625\ncomm_round: 121 | global_acc: 91.667% | global_loss: 0.8630245327949524\ncomm_round: 122 | global_acc: 91.667% | global_loss: 0.8600080013275146\ncomm_round: 123 | global_acc: 91.667% | global_loss: 0.8612378239631653\ncomm_round: 124 | global_acc: 91.667% | global_loss: 0.8619521260261536\ncomm_round: 125 | global_acc: 91.667% | global_loss: 0.8587576746940613\ncomm_round: 126 | global_acc: 91.667% | global_loss: 0.8598631024360657\ncomm_round: 127 | global_acc: 91.667% | global_loss: 0.8560068607330322\ncomm_round: 128 | global_acc: 91.667% | global_loss: 0.8565972447395325\ncomm_round: 129 | global_acc: 91.667% | global_loss: 0.8567729592323303\ncomm_round: 130 | global_acc: 91.667% | global_loss: 0.8583114743232727\ncomm_round: 131 | global_acc: 91.667% | global_loss: 0.8565739989280701\ncomm_round: 132 | global_acc: 91.667% | global_loss: 0.8562424778938293\ncomm_round: 133 | global_acc: 91.667% | global_loss: 0.8541841506958008\ncomm_round: 134 | global_acc: 91.667% | global_loss: 0.8539717793464661\ncomm_round: 135 | global_acc: 91.667% | global_loss: 0.8546215891838074\ncomm_round: 136 | global_acc: 91.667% | global_loss: 0.8544702529907227\ncomm_round: 137 | global_acc: 91.667% | global_loss: 0.8520522117614746\ncomm_round: 138 | global_acc: 91.667% | global_loss: 0.8536875247955322\ncomm_round: 139 | global_acc: 91.667% | global_loss: 0.8538214564323425\ncomm_round: 140 | global_acc: 91.667% | global_loss: 0.8521037101745605\ncomm_round: 141 | global_acc: 91.667% | global_loss: 0.8523327708244324\ncomm_round: 142 | global_acc: 91.667% | global_loss: 0.8528022170066833\ncomm_round: 143 | global_acc: 91.667% | global_loss: 0.8514541983604431\ncomm_round: 144 | global_acc: 91.667% | global_loss: 0.8520182967185974\ncomm_round: 145 | global_acc: 91.667% | global_loss: 0.8499844670295715\ncomm_round: 146 | global_acc: 91.667% | global_loss: 0.8504630923271179\ncomm_round: 147 | global_acc: 91.667% | global_loss: 0.8485210537910461\ncomm_round: 148 | global_acc: 91.667% | global_loss: 0.8489906191825867\ncomm_round: 149 | global_acc: 91.667% | global_loss: 0.8498709797859192\ncomm_round: 150 | global_acc: 91.667% | global_loss: 0.8490207195281982\ncomm_round: 151 | global_acc: 91.667% | global_loss: 0.8475055694580078\ncomm_round: 152 | global_acc: 91.667% | global_loss: 0.8478928208351135\ncomm_round: 153 | global_acc: 91.667% | global_loss: 0.84819096326828\ncomm_round: 154 | global_acc: 91.667% | global_loss: 0.8463654518127441\ncomm_round: 155 | global_acc: 91.667% | global_loss: 0.8481259942054749\ncomm_round: 156 | global_acc: 91.667% | global_loss: 0.8469344973564148\ncomm_round: 157 | global_acc: 91.667% | global_loss: 0.8468709588050842\ncomm_round: 158 | global_acc: 91.667% | global_loss: 0.8469753861427307\ncomm_round: 159 | global_acc: 91.667% | global_loss: 0.8451762199401855\ncomm_round: 160 | global_acc: 91.667% | global_loss: 0.8472029566764832\ncomm_round: 161 | global_acc: 91.667% | global_loss: 0.8461338877677917\ncomm_round: 162 | global_acc: 91.667% | global_loss: 0.8457822799682617\ncomm_round: 163 | global_acc: 91.667% | global_loss: 0.8461982607841492\ncomm_round: 164 | global_acc: 91.667% | global_loss: 0.8468568921089172\ncomm_round: 165 | global_acc: 91.667% | global_loss: 0.8458380103111267\ncomm_round: 166 | global_acc: 91.667% | global_loss: 0.8459985852241516\ncomm_round: 167 | global_acc: 91.667% | global_loss: 0.8449535369873047\ncomm_round: 168 | global_acc: 91.667% | global_loss: 0.8445847630500793\ncomm_round: 169 | global_acc: 91.667% | global_loss: 0.8446557521820068\ncomm_round: 170 | global_acc: 91.667% | global_loss: 0.8442558646202087\ncomm_round: 171 | global_acc: 91.667% | global_loss: 0.8437272906303406\ncomm_round: 172 | global_acc: 91.667% | global_loss: 0.8438484072685242\ncomm_round: 173 | global_acc: 91.667% | global_loss: 0.8437115550041199\ncomm_round: 174 | global_acc: 91.667% | global_loss: 0.8434413075447083\ncomm_round: 187 | global_acc: 91.667% | global_loss: 0.8432460427284241\ncomm_round: 188 | global_acc: 91.667% | global_loss: 0.8436179161071777\ncomm_round: 189 | global_acc: 91.667% | global_loss: 0.842193603515625\ncomm_round: 190 | global_acc: 91.667% | global_loss: 0.8417496681213379\ncomm_round: 191 | global_acc: 91.667% | global_loss: 0.8423643708229065\ncomm_round: 192 | global_acc: 91.667% | global_loss: 0.8417203426361084\ncomm_round: 193 | global_acc: 91.667% | global_loss: 0.8424553871154785\ncomm_round: 194 | global_acc: 91.667% | global_loss: 0.8416897654533386\ncomm_round: 195 | global_acc: 91.667% | global_loss: 0.8418124318122864\ncomm_round: 196 | global_acc: 91.667% | global_loss: 0.8411328196525574\ncomm_round: 197 | global_acc: 91.667% | global_loss: 0.8404938578605652\ncomm_round: 198 | global_acc: 91.667% | global_loss: 0.8406580090522766\ncomm_round: 199 | global_acc: 91.667% | global_loss: 0.8401782512664795\n",
          "output_type": "stream"
        }
      ]
    },
    {
      "cell_type": "code",
      "source": [
        "_visualise(_case9Model, _case9Accuracy, _case9Loss)"
      ],
      "metadata": {
        "execution": {
          "iopub.status.busy": "2022-06-12T23:10:03.092300Z",
          "iopub.execute_input": "2022-06-12T23:10:03.092590Z",
          "iopub.status.idle": "2022-06-12T23:10:03.290409Z",
          "shell.execute_reply.started": "2022-06-12T23:10:03.092563Z",
          "shell.execute_reply": "2022-06-12T23:10:03.289615Z"
        },
        "trusted": true,
        "id": "oem06H8U_16P",
        "outputId": "7d7aae5d-65be-42bf-be7d-d12f17ea41da"
      },
      "execution_count": null,
      "outputs": [
        {
          "output_type": "display_data",
          "data": {
            "text/plain": "<Figure size 432x288 with 1 Axes>",
            "image/png": "[encoded data removed]"
          },
          "metadata": {
            "needs_background": "light"
          }
        }
      ]
    },
    {
      "cell_type": "code",
      "source": [
        "test_acc = list()\n",
        "test_loss = list()\n",
        "for (X_test, Y_test) in test_batched:\n",
        "    global_test_acc, global_test_loss = test_model(X_test, Y_test, _case9Model, comm_round=1)\n",
        "    test_acc.append(global_test_acc)\n",
        "    test_loss.append(global_test_loss)"
      ],
      "metadata": {
        "execution": {
          "iopub.status.busy": "2022-06-12T23:10:03.291883Z",
          "iopub.execute_input": "2022-06-12T23:10:03.292226Z",
          "iopub.status.idle": "2022-06-12T23:10:03.389091Z",
          "shell.execute_reply.started": "2022-06-12T23:10:03.292199Z",
          "shell.execute_reply": "2022-06-12T23:10:03.388277Z"
        },
        "trusted": true,
        "id": "_E84vdQ0_16P",
        "outputId": "46778441-d9d4-4165-b63c-b9cdfcbb68c6"
      },
      "execution_count": null,
      "outputs": [
        {
          "name": "stdout",
          "text": "comm_round: 1 | global_acc: 92.716% | global_loss: 0.8158657550811768\n",
          "output_type": "stream"
        }
      ]
    },
    {
      "cell_type": "code",
      "source": [
        ""
      ],
      "metadata": {
        "id": "Mt6ahg6S_16Q"
      },
      "execution_count": null,
      "outputs": []
    }
  ]
}